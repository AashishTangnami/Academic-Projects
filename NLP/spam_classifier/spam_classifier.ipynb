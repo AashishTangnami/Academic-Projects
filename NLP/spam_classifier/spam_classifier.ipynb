{
 "cells": [
  {
   "attachments": {},
   "cell_type": "markdown",
   "metadata": {},
   "source": [
    "### Classify emails if they are spam or ham.\n",
    "#### Using simple Models to classify them.\n",
    "#### 1. Navie Bayes Classifier\n",
    "#### 2. Linear Support Vector Machine\n",
    "#### 3. Simple LSTM "
   ]
  },
  {
   "cell_type": "code",
   "execution_count": 106,
   "metadata": {},
   "outputs": [
    {
     "name": "stderr",
     "output_type": "stream",
     "text": [
      "[nltk_data] Error loading punkt: <urlopen error [SSL:\n",
      "[nltk_data]     CERTIFICATE_VERIFY_FAILED] certificate verify failed:\n",
      "[nltk_data]     unable to get local issuer certificate (_ssl.c:992)>\n",
      "[nltk_data] Error loading wordnet: <urlopen error [SSL:\n",
      "[nltk_data]     CERTIFICATE_VERIFY_FAILED] certificate verify failed:\n",
      "[nltk_data]     unable to get local issuer certificate (_ssl.c:992)>\n",
      "[nltk_data] Error loading stopwords: <urlopen error [SSL:\n",
      "[nltk_data]     CERTIFICATE_VERIFY_FAILED] certificate verify failed:\n",
      "[nltk_data]     unable to get local issuer certificate (_ssl.c:992)>\n"
     ]
    }
   ],
   "source": [
    "import glob  # For file path pattern matching\n",
    "import random # For generating random numbers\n",
    "import re # For regular expressions\n",
    "import email  # For handling email data\n",
    "from bs4 import BeautifulSoup  # For HTML parsing\n",
    "from concurrent.futures import ThreadPoolExecutor  # For parallel execution\n",
    "\n",
    "import pandas as pd  # For data manipulation and analysis\n",
    "import numpy as np  # For numerical computations\n",
    "import matplotlib.pyplot as plt  # For data visualization\n",
    "import seaborn as sns  # For enhanced data visualization\n",
    "\n",
    "import textwrap  # For wrapping text\n",
    "import string  # For string operations\n",
    "import nltk  # Natural Language Toolkit\n",
    "from nltk.tokenize import sent_tokenize, word_tokenize  # Tokenization\n",
    "from nltk.stem import PorterStemmer, WordNetLemmatizer  # Stemming and lemmatization\n",
    "from nltk.corpus import stopwords  # Stopword removal\n",
    "\n",
    "from sklearn.model_selection import train_test_split  # For splitting data into train and test sets\n",
    "from sklearn.feature_extraction.text import CountVectorizer  # For text feature extraction\n",
    "from sklearn.naive_bayes import MultinomialNB  # Naive Bayes classifier\n",
    "from sklearn.svm import SVC  # Support Vector Machine classifier\n",
    "from sklearn.metrics import accuracy_score, classification_report, confusion_matrix  # Model evaluation metrics\n",
    "\n",
    "import tensorflow as tf  # Deep learning framework\n",
    "from tensorflow.keras.layers import LSTM, Dropout, Dense, Embedding  # Layers for building models\n",
    "from tensorflow.keras.models import Sequential  # Sequential model\n",
    "from tensorflow.keras.optimizers import Adam  # Optimization algorithm\n",
    "from tensorflow.keras.callbacks import EarlyStopping  # Early stopping for model training\n",
    "\n",
    "from sklearn.metrics import roc_curve, auc, roc_auc_score  # ROC metrics\n",
    "# Download the necessary NLTK resources\n",
    "nltk.download('punkt')  # Tokenization resources\n",
    "nltk.download('wordnet')  # Lemmatization resources\n",
    "nltk.download('stopwords')  # Stopword resources\n",
    "\n",
    "# ignore warnings\n",
    "import warnings\n",
    "warnings.filterwarnings('ignore')"
   ]
  },
  {
   "attachments": {},
   "cell_type": "markdown",
   "metadata": {},
   "source": [
    "## File folder path."
   ]
  },
  {
   "cell_type": "code",
   "execution_count": 59,
   "metadata": {},
   "outputs": [],
   "source": [
    "PATH = 'dataset/'\n",
    "ham_path = PATH + 'ham/'\n",
    "spam_path = PATH + 'spam/'"
   ]
  },
  {
   "attachments": {},
   "cell_type": "markdown",
   "metadata": {},
   "source": [
    "### Parsing email and extracting the payload of the email."
   ]
  },
  {
   "cell_type": "code",
   "execution_count": 60,
   "metadata": {},
   "outputs": [],
   "source": [
    "def parse_email(file_path):\n",
    "    with open(file_path, 'rb') as file:\n",
    "        email_content = file.read()\n",
    "        parsed_email = email.message_from_bytes(email_content)\n",
    "        text_body = None\n",
    "        html_body = None\n",
    "\n",
    "        # Check if the email is multipart\n",
    "        if parsed_email.is_multipart():\n",
    "            # Iterate over email parts\n",
    "            for part in parsed_email.get_payload():\n",
    "                # Extract text/plain data only\n",
    "                if part.get_content_type() == 'text/plain':\n",
    "                    text_body = part.get_payload(decode='utf-8').decode(errors='replace')\n",
    "                elif part.get_content_type() == 'text/html':\n",
    "                    html_body = part.get_payload(decode=True).decode(errors='replace')\n",
    "        \n",
    "            # Prefer text/plain over text/html\n",
    "            email_body = text_body if text_body is not None else html_body\n",
    "            # If email_body is HTML, convert it to plain text\n",
    "            if email_body is not None and html_body is not None:\n",
    "                email_body = BeautifulSoup(email_body, 'html.parser').get_text()\n",
    "        else:\n",
    "            # If not multipart, just extract the payload\n",
    "            email_body = parsed_email.get_payload(decode=True).decode(errors='replace')\n",
    "\n",
    "        email_subject = parsed_email.get('Subject')\n",
    "\n",
    "        # If no body could be extracted, print the file path\n",
    "        if email_body is None:\n",
    "            print(f\"No body could be extracted from email at {file_path}\")\n",
    "\n",
    "        return email_subject, email_body\n"
   ]
  },
  {
   "attachments": {},
   "cell_type": "markdown",
   "metadata": {},
   "source": [
    "### Process the file "
   ]
  },
  {
   "cell_type": "code",
   "execution_count": 61,
   "metadata": {},
   "outputs": [],
   "source": [
    "# Generator function to process the files in the given directory\n",
    "def process_files_gen(directory):\n",
    "    file_paths = glob.glob(directory + '/*')\n",
    "    with ThreadPoolExecutor() as executor:\n",
    "        for result in executor.map(parse_email, file_paths):\n",
    "            yield result\n"
   ]
  },
  {
   "attachments": {},
   "cell_type": "markdown",
   "metadata": {},
   "source": [
    "### Creating the DataFrame "
   ]
  },
  {
   "cell_type": "code",
   "execution_count": 62,
   "metadata": {},
   "outputs": [],
   "source": [
    "\n",
    "# Use the generator to create a DataFrame\n",
    "def create_dataframe(directory, label):\n",
    "    generator = process_files_gen(directory)\n",
    "    df = pd.DataFrame(generator, columns=['Subject','Body']).assign(Category=label)\n",
    "    return df\n",
    "\n"
   ]
  },
  {
   "attachments": {},
   "cell_type": "markdown",
   "metadata": {},
   "source": [
    "# Creating dataframe instances for 'ham' and 'spam'."
   ]
  },
  {
   "cell_type": "code",
   "execution_count": 63,
   "metadata": {},
   "outputs": [
    {
     "name": "stdout",
     "output_type": "stream",
     "text": [
      "No body could be extracted from email at dataset/ham/00240.8623673c2a6f2cde10ab31423f708feb\n",
      "No body could be extracted from email at dataset/ham/00869.0fbb783356f6875063681dc49cfcb1eb\n",
      "No body could be extracted from email at dataset/ham/00150.6757acfba013e1e9b138e2530101c9b8\n",
      "No body could be extracted from email at dataset/ham/1219.c4cc23fc1dcc1809a3dc65c58fc51d65\n",
      "No body could be extracted from email at dataset/ham/01137.862bf0c202b134ec11c965d1a46a43a0\n",
      "No body could be extracted from email at dataset/ham/00720.b32e7900b189a55cf7207e9633f5c437\n",
      "No body could be extracted from email at dataset/spam/00182.5561cb1b6f968e83afabe21d7a28bb37\n",
      "No body could be extracted from email at dataset/spam/00977.6b7587a392363b73c8312b72b4972c24\n",
      "No body could be extracted from email at dataset/spam/01188.67d69a8d6e5c899914556488c8cbd2c9\n",
      "No body could be extracted from email at dataset/spam/00341.99b463b92346291f5848137f4a253966\n",
      "No body could be extracted from email at dataset/spam/01317.2fb1c15091162a0a83cb7020e45e8de6\n",
      "No body could be extracted from email at dataset/spam/00398.64f68a9650595170b0e10cc493020a0a\n",
      "No body could be extracted from email at dataset/spam/00239.2f1370f9cba5ab21297eadb2af40b051\n",
      "No body could be extracted from email at dataset/spam/00217.f56a722e95d0b6ea580f1b4e9e2e013a\n",
      "No body could be extracted from email at dataset/spam/00311.9797029f3ee441b00f3b7521e573cb96\n",
      "No body could be extracted from email at dataset/spam/00457.f4325a4aa30dce61bf6c442b887733dd\n",
      "No body could be extracted from email at dataset/spam/00215.0378888fa9823523e61a6b922a4e3b55\n",
      "No body could be extracted from email at dataset/spam/00200.2fcabc2b58baa0ebc051e3ea3dfafd8f\n",
      "No body could be extracted from email at dataset/spam/00773.1ef75674804a6206f957afddcb5ed0c1\n",
      "No body could be extracted from email at dataset/spam/01306.d37be8871ac501758c6854fbef9cbdd2\n",
      "No body could be extracted from email at dataset/spam/01041.1ece6e061e80e648c8156d52decd0610\n",
      "No body could be extracted from email at dataset/spam/01316.80287bffff0da77d7b22a538aefdbd01\n",
      "No body could be extracted from email at dataset/spam/01097.98d732b93866d13b0c13589ae2acc383\n",
      "No body could be extracted from email at dataset/spam/00252.7e355e0c5fd1de609684544262435579\n",
      "No body could be extracted from email at dataset/spam/00982.2bd2b529b2df97e4e6c47edc6a272115\n",
      "No body could be extracted from email at dataset/spam/00219.b1e53bdc90b763f8073f3270e3f6e811\n",
      "No body could be extracted from email at dataset/spam/00209.983df148f8b7d7e5d678f1ea6297cad1\n",
      "No body could be extracted from email at dataset/spam/00216.c07de35b7e7f659e3c0c071b30053afa\n",
      "No body could be extracted from email at dataset/spam/01288.ffe370e3a92a1861533330da51edcb49\n",
      "No body could be extracted from email at dataset/spam/00220.b599bb1ef610ba40d9becc965c0c0da3\n",
      "No body could be extracted from email at dataset/spam/00221.775c9348b935d966a9afec954f1e9c27\n",
      "No body could be extracted from email at dataset/spam/00307.7ed50c6d80c6e37c8cc1b132f4a19e4d\n",
      "No body could be extracted from email at dataset/spam/00293.f4e9fd5549f9063ad5559c094edf08f2\n",
      "No body could be extracted from email at dataset/spam/00224.1b3430b101a8a8b22493c4948fcbe9cc\n",
      "No body could be extracted from email at dataset/spam/00338.a595ffbb6cbcf3a5058293051ebaabf4\n",
      "No body could be extracted from email at dataset/spam/00734.0c1975b8c2b17fd6c665827706f89eaf\n",
      "No body could be extracted from email at dataset/spam/00704.30306e2e506ca198fe8dea2b3c11346a\n",
      "No body could be extracted from email at dataset/spam/00223.b2ab59fb979b4e3d266f15a580d86619\n",
      "No body could be extracted from email at dataset/spam/01262.24bce3d7a8a92bc6d970cf80f0d21660\n",
      "No body could be extracted from email at dataset/spam/00225.a4a58f288601a7e965b358c6e7c6741f\n",
      "No body could be extracted from email at dataset/spam/00222.3ac65af6304056a15115076b1bcc8f69\n",
      "No body could be extracted from email at dataset/spam/00975.5e2e7c9d8b2c04929ff41e010163e5e8\n",
      "No body could be extracted from email at dataset/spam/00777.284d3dc66b4f1bdedb5a5eba41d18d14\n"
     ]
    }
   ],
   "source": [
    "# Create dataframes for both the spam and non-spam emails\n",
    "df_ham = create_dataframe(ham_path, 'ham')\n",
    "df_spam = create_dataframe(spam_path, 'spam')\n",
    "\n",
    "# Concatenate the two dataframes\n",
    "df = pd.concat([df_ham, df_spam])\n",
    "\n",
    "# Shuffle the dataframe\n",
    "df = df.sample(frac=1).reset_index(drop=True)\n"
   ]
  },
  {
   "attachments": {},
   "cell_type": "markdown",
   "metadata": {},
   "source": [
    "## Basic EDA and Text pre-processing."
   ]
  },
  {
   "cell_type": "code",
   "execution_count": 64,
   "metadata": {},
   "outputs": [
    {
     "data": {
      "text/html": [
       "<div>\n",
       "<style scoped>\n",
       "    .dataframe tbody tr th:only-of-type {\n",
       "        vertical-align: middle;\n",
       "    }\n",
       "\n",
       "    .dataframe tbody tr th {\n",
       "        vertical-align: top;\n",
       "    }\n",
       "\n",
       "    .dataframe thead th {\n",
       "        text-align: right;\n",
       "    }\n",
       "</style>\n",
       "<table border=\"1\" class=\"dataframe\">\n",
       "  <thead>\n",
       "    <tr style=\"text-align: right;\">\n",
       "      <th></th>\n",
       "      <th>Subject</th>\n",
       "      <th>Body</th>\n",
       "      <th>Category</th>\n",
       "    </tr>\n",
       "  </thead>\n",
       "  <tbody>\n",
       "    <tr>\n",
       "      <th>0</th>\n",
       "      <td>Ben Silverman, the publisher of Dotcom Scoop, ...</td>\n",
       "      <td>URL: http://scriptingnews.userland.com/backiss...</td>\n",
       "      <td>ham</td>\n",
       "    </tr>\n",
       "    <tr>\n",
       "      <th>1</th>\n",
       "      <td>Re: K3B</td>\n",
       "      <td>On Fri, 04 Oct 2002 01:14:28 +0200\\nVincent &lt;c...</td>\n",
       "      <td>ham</td>\n",
       "    </tr>\n",
       "    <tr>\n",
       "      <th>2</th>\n",
       "      <td>Personal Finance: Resolutions You Can Keep</td>\n",
       "      <td>\\n======================== THE MOTLEY FOOL ===...</td>\n",
       "      <td>ham</td>\n",
       "    </tr>\n",
       "    <tr>\n",
       "      <th>3</th>\n",
       "      <td>Re: ALSA (almost) made easy</td>\n",
       "      <td>On Wed, 2002-08-28 at 23:48, Ville Skytt� wrot...</td>\n",
       "      <td>ham</td>\n",
       "    </tr>\n",
       "    <tr>\n",
       "      <th>4</th>\n",
       "      <td>Re: [gst-devel] Red Hat 8.0</td>\n",
       "      <td>&gt; &gt; &gt; &gt; INFO (15299: 0)gst_xml_registry_rebuil...</td>\n",
       "      <td>ham</td>\n",
       "    </tr>\n",
       "  </tbody>\n",
       "</table>\n",
       "</div>"
      ],
      "text/plain": [
       "                                             Subject  \\\n",
       "0  Ben Silverman, the publisher of Dotcom Scoop, ...   \n",
       "1                                            Re: K3B   \n",
       "2         Personal Finance: Resolutions You Can Keep   \n",
       "3                        Re: ALSA (almost) made easy   \n",
       "4                        Re: [gst-devel] Red Hat 8.0   \n",
       "\n",
       "                                                Body Category  \n",
       "0  URL: http://scriptingnews.userland.com/backiss...      ham  \n",
       "1  On Fri, 04 Oct 2002 01:14:28 +0200\\nVincent <c...      ham  \n",
       "2  \\n======================== THE MOTLEY FOOL ===...      ham  \n",
       "3  On Wed, 2002-08-28 at 23:48, Ville Skytt� wrot...      ham  \n",
       "4  > > > > INFO (15299: 0)gst_xml_registry_rebuil...      ham  "
      ]
     },
     "execution_count": 64,
     "metadata": {},
     "output_type": "execute_result"
    }
   ],
   "source": [
    "# cheking the dataset.\n",
    "df.head()"
   ]
  },
  {
   "cell_type": "code",
   "execution_count": 65,
   "metadata": {},
   "outputs": [
    {
     "data": {
      "text/plain": [
       "(8597, 3)"
      ]
     },
     "execution_count": 65,
     "metadata": {},
     "output_type": "execute_result"
    }
   ],
   "source": [
    "df.shape"
   ]
  },
  {
   "cell_type": "code",
   "execution_count": 66,
   "metadata": {},
   "outputs": [
    {
     "data": {
      "text/plain": [
       "Subject      6\n",
       "Body        43\n",
       "Category     0\n",
       "dtype: int64"
      ]
     },
     "execution_count": 66,
     "metadata": {},
     "output_type": "execute_result"
    }
   ],
   "source": [
    "df.isnull().sum()\n"
   ]
  },
  {
   "cell_type": "code",
   "execution_count": null,
   "metadata": {},
   "outputs": [],
   "source": []
  },
  {
   "cell_type": "code",
   "execution_count": 67,
   "metadata": {},
   "outputs": [
    {
     "data": {
      "text/plain": [
       "Subject     0\n",
       "Body        0\n",
       "Category    0\n",
       "dtype: int64"
      ]
     },
     "execution_count": 67,
     "metadata": {},
     "output_type": "execute_result"
    }
   ],
   "source": [
    "df = df.dropna()\n",
    "df.isnull().sum()"
   ]
  },
  {
   "cell_type": "code",
   "execution_count": 68,
   "metadata": {},
   "outputs": [
    {
     "data": {
      "text/html": [
       "<div>\n",
       "<style scoped>\n",
       "    .dataframe tbody tr th:only-of-type {\n",
       "        vertical-align: middle;\n",
       "    }\n",
       "\n",
       "    .dataframe tbody tr th {\n",
       "        vertical-align: top;\n",
       "    }\n",
       "\n",
       "    .dataframe thead tr th {\n",
       "        text-align: left;\n",
       "    }\n",
       "\n",
       "    .dataframe thead tr:last-of-type th {\n",
       "        text-align: right;\n",
       "    }\n",
       "</style>\n",
       "<table border=\"1\" class=\"dataframe\">\n",
       "  <thead>\n",
       "    <tr>\n",
       "      <th></th>\n",
       "      <th colspan=\"4\" halign=\"left\">Subject</th>\n",
       "      <th colspan=\"4\" halign=\"left\">Body</th>\n",
       "    </tr>\n",
       "    <tr>\n",
       "      <th></th>\n",
       "      <th>count</th>\n",
       "      <th>unique</th>\n",
       "      <th>top</th>\n",
       "      <th>freq</th>\n",
       "      <th>count</th>\n",
       "      <th>unique</th>\n",
       "      <th>top</th>\n",
       "      <th>freq</th>\n",
       "    </tr>\n",
       "    <tr>\n",
       "      <th>Category</th>\n",
       "      <th></th>\n",
       "      <th></th>\n",
       "      <th></th>\n",
       "      <th></th>\n",
       "      <th></th>\n",
       "      <th></th>\n",
       "      <th></th>\n",
       "      <th></th>\n",
       "    </tr>\n",
       "  </thead>\n",
       "  <tbody>\n",
       "    <tr>\n",
       "      <th>ham</th>\n",
       "      <td>6689</td>\n",
       "      <td>2629</td>\n",
       "      <td>[Spambayes] Deployment</td>\n",
       "      <td>54</td>\n",
       "      <td>6689</td>\n",
       "      <td>4178</td>\n",
       "      <td>E-mail error\\n\\nYou're subscribed to the HTML ...</td>\n",
       "      <td>9</td>\n",
       "    </tr>\n",
       "    <tr>\n",
       "      <th>spam</th>\n",
       "      <td>1859</td>\n",
       "      <td>1658</td>\n",
       "      <td></td>\n",
       "      <td>12</td>\n",
       "      <td>1859</td>\n",
       "      <td>1710</td>\n",
       "      <td>\\nHello I am your hot lil horny toy.\\n    I am...</td>\n",
       "      <td>7</td>\n",
       "    </tr>\n",
       "  </tbody>\n",
       "</table>\n",
       "</div>"
      ],
      "text/plain": [
       "         Subject                                      Body         \\\n",
       "           count unique                     top freq count unique   \n",
       "Category                                                            \n",
       "ham         6689   2629  [Spambayes] Deployment   54  6689   4178   \n",
       "spam        1859   1658                           12  1859   1710   \n",
       "\n",
       "                                                                  \n",
       "                                                        top freq  \n",
       "Category                                                          \n",
       "ham       E-mail error\\n\\nYou're subscribed to the HTML ...    9  \n",
       "spam      \\nHello I am your hot lil horny toy.\\n    I am...    7  "
      ]
     },
     "execution_count": 68,
     "metadata": {},
     "output_type": "execute_result"
    }
   ],
   "source": [
    "df.groupby('Category').describe()"
   ]
  },
  {
   "cell_type": "code",
   "execution_count": 69,
   "metadata": {},
   "outputs": [
    {
     "data": {
      "image/png": "[encoded data removed]",
      "text/plain": [
       "<Figure size 640x480 with 1 Axes>"
      ]
     },
     "metadata": {},
     "output_type": "display_data"
    }
   ],
   "source": [
    "# checking the distribution of the dataset.\n",
    "labels = [\"Ham\", \"Spam\"]\n",
    "sizes = df[\"Category\"].value_counts()\n",
    "colors = [\"#800080\", \"#FFD700\"]  # Purple and Gold\n",
    "\n",
    "\n",
    "plt.bar(labels, sizes, color=colors)\n",
    "\n",
    "# Add annotations to the bars\n",
    "for i, size in enumerate(sizes):\n",
    "    plt.text(i, size, str(size), ha='center', va='bottom')\n",
    "\n",
    "plt.xlabel(\"Category\")\n",
    "plt.ylabel(\"Count\")\n",
    "plt.title(\"Email Category Distribution\")\n",
    "plt.show()\n"
   ]
  },
  {
   "attachments": {},
   "cell_type": "markdown",
   "metadata": {},
   "source": [
    "### Observation:\n",
    " -  The number of Ham and Spam emails has significant difference\n",
    " -  The dataset is imbalanced.\n",
    " -  So for next step we will be balancing the dataset."
   ]
  },
  {
   "attachments": {},
   "cell_type": "markdown",
   "metadata": {},
   "source": [
    "### Changing the categorical labels into binary values."
   ]
  },
  {
   "cell_type": "code",
   "execution_count": 70,
   "metadata": {},
   "outputs": [],
   "source": [
    "df['is_spam'] = df['Category'].apply(lambda x: 1 if x == 'spam' else 0)"
   ]
  },
  {
   "attachments": {},
   "cell_type": "markdown",
   "metadata": {},
   "source": [
    "### Balancing the dataset."
   ]
  },
  {
   "cell_type": "code",
   "execution_count": 71,
   "metadata": {},
   "outputs": [
    {
     "data": {
      "text/plain": [
       "(                                                Subject  \\\n",
       " 2694  do you need a lot of new customers? 5326171310...   \n",
       " 3450          FriendSearch and zzzzason.org Partnership   \n",
       " 764               Re: [ILUG] slashdot EW Dijkstra humor   \n",
       " 1694              Swiss Iinternet account with ATM card   \n",
       " 2862                 Get Your Own Great-Looking Website   \n",
       " \n",
       "                                                    Body Category  is_spam  \n",
       " 2694  <html>\\n\\n<body>\\n<p style=\"margin-top: 0; mar...     spam        1  \n",
       " 3450  Dear zzzzason.org,\\n\\nMy name is Andy Koh, the...     spam        1  \n",
       " 764   On Thu, 2002-08-08 at 12:18, Dave Wilson wrote...      ham        0  \n",
       " 1694  HAVE A SECURE SWISS SECRET INTERNET ACCOUNT WI...     spam        1  \n",
       " 2862  This is a multipart MIME message.\\n\\n--= Multi...     spam        1  ,\n",
       " (3718, 4))"
      ]
     },
     "execution_count": 71,
     "metadata": {},
     "output_type": "execute_result"
    }
   ],
   "source": [
    "# Filter the DataFrame for 'spam' and 'ham' samples\n",
    "ham_samples = df[df['Category'] == 'ham']\n",
    "spam_samples = df[df['Category'] == 'spam']\n",
    "\n",
    "# Determine the minimum sample size\n",
    "sample_size = min(len(ham_samples), len(spam_samples))\n",
    "\n",
    "# Randomly sample equal number of 'spam' and 'ham' samples\n",
    "ham_samples = ham_samples.sample(n=sample_size, random_state=42)\n",
    "spam_samples = spam_samples.sample(n=sample_size, random_state=42)\n",
    "\n",
    "# Concatenate the samples\n",
    "df = pd.concat([ham_samples, spam_samples], ignore_index=True)\n",
    "\n",
    "# Shuffle the data\n",
    "df = df.sample(frac=1, random_state=42).reset_index(drop=True)\n",
    "\n",
    "# View samples\n",
    "df.sample(5), df.shape\n"
   ]
  },
  {
   "attachments": {},
   "cell_type": "markdown",
   "metadata": {},
   "source": [
    "### Email category distribution after undersampling."
   ]
  },
  {
   "cell_type": "code",
   "execution_count": 72,
   "metadata": {},
   "outputs": [
    {
     "data": {
      "image/png": "[encoded data removed]",
      "text/plain": [
       "<Figure size 640x480 with 1 Axes>"
      ]
     },
     "metadata": {},
     "output_type": "display_data"
    }
   ],
   "source": [
    "labels = [\"Ham\", \"Spam\"]\n",
    "sizes = df[\"Category\"].value_counts()\n",
    "colors = [\"#800080\", \"#FFD700\"]  # Purple and Gold\n",
    "\n",
    "plt.bar(labels, sizes, color=colors)\n",
    "\n",
    "# Add annotations to the bars\n",
    "for i, size in enumerate(sizes):\n",
    "    plt.text(i, size, str(size), ha='center', va='bottom')\n",
    "\n",
    "plt.xlabel(\"Category\")\n",
    "plt.ylabel(\"Count\")\n",
    "plt.title(\"Email Category Distribution\")\n",
    "plt.show()"
   ]
  },
  {
   "attachments": {},
   "cell_type": "markdown",
   "metadata": {},
   "source": [
    "### The following email wrapper function is to check the texts after each text preprocessing to see the changes."
   ]
  },
  {
   "cell_type": "code",
   "execution_count": 73,
   "metadata": {},
   "outputs": [],
   "source": [
    "\n",
    "def print_random_wrapped_emails(df, body, subject, num_samples=3):\n",
    "    \"\"\"\n",
    "    Prints wrapped content of randomly selected email samples from a DataFrame\n",
    "    along with their labels and a count.\n",
    "    \n",
    "    @df: DataFrame containing email samples\n",
    "    @num_samples: number of samples to print (default is 5)\n",
    "    \"\"\"\n",
    "    random_indices = random.sample(range(len(df)), num_samples)\n",
    "    for i, index in enumerate(random_indices, 1):\n",
    "        email_body_sample = df[body].iloc[index]\n",
    "        email_subject_sample = df[subject].iloc[index]\n",
    "        label = df['Category'].iloc[index]\n",
    "        wrapped_email = textwrap.fill(f'Subject : {email_subject_sample}, Body: {email_body_sample}')\n",
    "        print(f\"Sample {i}:\")\n",
    "        print(f\"Label: {label}\")\n",
    "        print(f\"Count: {index+1}\")\n",
    "        print(wrapped_email)\n",
    "        print('-+' * 50)  # Print separator between email samples"
   ]
  },
  {
   "cell_type": "code",
   "execution_count": 74,
   "metadata": {},
   "outputs": [
    {
     "name": "stdout",
     "output_type": "stream",
     "text": [
      "Sample 1:\n",
      "Label: ham\n",
      "Count: 2451\n",
      "Subject : CIA in blow to Bush attack plans, Body: URL:\n",
      "http://www.newsisfree.com/click/-4,8723991,215/ Date:\n",
      "2002-10-10T03:27:00+01:00  US invasion could push Saddam Hussein into\n",
      "retaliating with chemical or  biological weapons, warns CIA.\n",
      "-+-+-+-+-+-+-+-+-+-+-+-+-+-+-+-+-+-+-+-+-+-+-+-+-+-+-+-+-+-+-+-+-+-+-+-+-+-+-+-+-+-+-+-+-+-+-+-+-+-+\n",
      "Sample 2:\n",
      "Label: spam\n",
      "Count: 1234\n",
      "Subject : A Guaranteed Check for you, Body: <!DOCTYPE HTML PUBLIC\n",
      "\"-//W3C//DTD HTML 4.0 Transitional//EN\"> <HTML><HEAD> <META http-\n",
      "equiv=Content-Type content=\"text/html;  charset=iso-8859-1\"> <META\n",
      "content=\"MSHTML 6.00.2716.2200\" name=GENERATOR> <STYLE></STYLE>\n",
      "</HEAD> <BODY bgColor=#ffffff><FONT face=\"ACaslon Regular\"> <DIV><FONT\n",
      "face=Arial size=2> <P align=center><B>You are receiving this because\n",
      "we have  exchanged e-mails in the past or your e-mail address is on\n",
      "file. If you wish to be  removed, removal instructions are at the end\n",
      "of this message.<BR></B><BR><FONT  lang=0 style=\"BACKGROUND-COLOR:\n",
      "#ffffff\" face=Arial color=#ff0000  size=3 FAMILY=\"SANSSERIF\"><B>Yes,\n",
      "that's right! We guarantee you a check!<BR></FONT><FONT lang=0\n",
      "style=\"BACKGROUND-COLOR: #ffffff\"  face=Arial color=#000000 size=2\n",
      "FAMILY=\"SANSSERIF\"></B><BR>Hello, this is Steve&nbsp;in&nbsp;Georgia,\n",
      "USA. I hope this email finds you and  yours in good health.<BR>I have\n",
      "something for you to read that will interest  you! Thank You for your\n",
      "time.<BR><BR></FONT><FONT lang=0  style=\"BACKGROUND-COLOR: #ffffff\"\n",
      "face=Arial color=#ff0000 size=3 FAMILY=\"SANSSERIF\"><B>Answer six\n",
      "simple questions and we guarantee you a check!</FONT><FONT lang=0\n",
      "style=\"BACKGROUND-COLOR: #ffffff\" face=Arial color=#ff0000\n",
      "FAMILY=\"SANSSERIF\"></B>&nbsp;</FONT><FONT lang=0 style=\"BACKGROUND-\n",
      "COLOR: #ffffff\" face=Arial color=#000000\n",
      "FAMILY=\"SANSSERIF\"><BR></FONT></P></DIV> <DIV align=left><FONT lang=0\n",
      "style=\"BACKGROUND-COLOR: #ffffff\"  color=#000000\n",
      "FAMILY=\"SANSSERIF\"><FONT face=\"ACaslon Regular\"\n",
      "size=3><STRONG>1&nbsp;&nbsp;&nbsp; &nbsp;&nbsp;&nbsp; Your\n",
      "name<BR>2&nbsp;&nbsp;&nbsp; &nbsp;&nbsp;&nbsp;\n",
      "phone<BR>3&nbsp;&nbsp;&nbsp; &nbsp;&nbsp;&nbsp;\n",
      "email<BR>4&nbsp;&nbsp;&nbsp;  &nbsp;&nbsp;&nbsp; time you can be\n",
      "reached<BR>5&nbsp;&nbsp;&nbsp; &nbsp;&nbsp;&nbsp; Do you have  10\n",
      "hours per week to work?<BR>6&nbsp;&nbsp;&nbsp; &nbsp;&nbsp;&nbsp; How\n",
      "much  do you desire to earn per month?<BR>&nbsp;&nbsp;&nbsp;&nbsp;&nbs\n",
      "p;&nbsp;&nbsp;&nbsp;&nbsp;&nbsp;&nbsp; &nbsp;&nbsp;&nbsp;&nbsp;&nbsp;&\n",
      "nbsp;&nbsp;&nbsp;&nbsp;&nbsp;&nbsp;&nbsp;&nbsp;&nbsp;&nbsp; <BR><FONT\n",
      "color=#0000ff>Send Your Info To:</FONT>&nbsp;\n",
      "</STRONG></FONT></FONT></DIV> <DIV align=left><FONT lang=0\n",
      "style=\"BACKGROUND-COLOR: #ffffff\"  face=Arial color=#000000 size=2\n",
      "FAMILY=\"SANSSERIF\"><A\n",
      "href=\"mailto:earn_1000_per_week@btamail.net.cn\"><FONT  face=\"ACaslon\n",
      "Regular\" size=3><STRONG>earn_1000_per_week@btamail.net.cn</STRONG></FO\n",
      "NT></A></FONT> <DIV align=left><FONT face=\"ACaslon Regular\"\n",
      "color=#0000ff size=3><STRONG>TYPE&nbsp;&nbsp; \"$1000\" as your subject\n",
      "please!</STRONG></FONT></DIV> <DIV align=left><FONT lang=0\n",
      "style=\"BACKGROUND-COLOR: #ffffff\"  face=Arial color=#000000 size=2\n",
      "FAMILY=\"SANSSERIF\"><FONT face=\"ACaslon  Regular\"><FONT\n",
      "size=3>&nbsp;</DIV></FONT></FONT> <DIV align=center> <FORM name=signup\n",
      "action=check.php method=post><FONT  face=\"ACaslon Regular\"\n",
      "size=3></FONT></FONT><FONT lang=0 style=\"BACKGROUND-COLOR:  #ffffff\"\n",
      "face=Arial color=#000000 size=2 FAMILY=\"SANSSERIF\"><FONT face=\"ACaslon\n",
      "Regular\" size=3></FONT><FONT face=\"ACaslon Regular\" size=3></FONT>\n",
      "<DIV><BR>A successful friend of mine called to inform me  that&nbsp;an\n",
      "exclusive recruiting software called <STRONG>The A-B-C Wealth Building\n",
      "System</STRONG>&nbsp;would revolutionize networking as we now  know\n",
      "it.&nbsp; He asked me to simply reply with the answers to the SIX\n",
      "simple  questions and they would set up an Internet Business for me\n",
      "for  <STRONG>FREE,&nbsp;it would cost me zero to do it AND they\n",
      "guaranteed me a check before I spent a  dime!</STRONG> I am glad I\n",
      "trusted him because I would normally ignore a pitch  like that cause\n",
      "its sounded to good to be true. I appeased him and replied with  the\n",
      "answers to the SIX simple questions, then they set up my business for\n",
      "me  fro FREE!<BR><BR>I am grateful I did! I now have over 120 folks in\n",
      "my powerline in  less than a week and growing like crazy. They were\n",
      "recruited and placed there by  this new software and the A-B-C Team.\n",
      "It blew my mind and I've already  made money without doing anything.\n",
      "Replying with&nbsp;my info&nbsp;was all it took;  see for yourself.\n",
      "Your PowerLine will grow like MAD! You can bet I will  learn even more\n",
      "about The A-B-C Wealth Building System&nbsp;. This incredible\n",
      "software has only been in use for&nbsp;6 weeks!<BR><BR><B>This is by\n",
      "far the best  system I have seen in 12 years in this business!<BR>Now\n",
      "even those who have  never made money before ARE!</B><BR><BR>Now that\n",
      "I've done my part by alerting  you to this awesome opportunity, the\n",
      "rest is up to you. You owe it to  yourself to <STRONG>reply with the\n",
      "answers to the SIX simple  question</STRONG>, let them set up your\n",
      "Internet Business for FREE and see what happens  REGARDLESS OF WHAT\n",
      "PROGRAM YOU'RE PRESENTLY WORKING.<BR></DIV></FORM></DIV> <P\n",
      "align=left><FONT face=\"ACaslon Regular\" size=3></FONT><FONT\n",
      "face=\"ACaslon Regular\" size=3></FONT><BR> <P align=center><BR>NOTE:\n",
      "The first in gets the most spill in a  Powerline. Powerline means one\n",
      "under the other down one line. So if 100  people join from this email\n",
      "and<STRONG> </STRONG>you are first, you will have 99  people in your\n",
      "powerline, if your the 50th you will have 49,if your the 90th  you\n",
      "will have 10. So on and so on!<BR><BR>So needless to say <STRONG>go\n",
      "fast,  reply right now, </STRONG>&nbsp;get your free spot in the\n",
      "powerline and let this  system go to work for you like it is has been\n",
      "doing for all of  us!<BR><B></B></P> <P align=center><B>FOLKS THIS\n",
      "SYSTEM WORKS LIKE A CHARM AND  COSTS NOTHING SO PUT IT TO THE\n",
      "TEST!<BR></B><BR><B>TRY IT AND YOU WILL BE AMAZED! I  SURE\n",
      "AM!</B><BR><BR></FONT><FONT lang=0 style=\"BACKGROUND-COLOR:  #ffffff\"\n",
      "face=Arial color=#ff0000 size=3 FAMILY=\"SANSSERIF\"><STRONG>Answer six\n",
      "simple questions and we guarantee you a check!</STRONG><FONT lang=0\n",
      "style=\"BACKGROUND-COLOR: #ffffff\" face=Arial color=#ff0000 size=2\n",
      "FAMILY=\"SANSSERIF\">&nbsp;</FONT><FONT lang=0 style=\"BACKGROUND-COLOR:\n",
      "#ffffff\" face=Arial color=#000000 FAMILY=\"SANSSERIF\"><BR></P></FONT>\n",
      "<DIV align=left><FONT lang=0 style=\"BACKGROUND-COLOR: #ffffff\"\n",
      "color=#000000 FAMILY=\"SANSSERIF\"><FONT face=\"ACaslon Regular\"\n",
      "size=3><STRONG>1&nbsp;&nbsp;&nbsp; &nbsp;&nbsp;&nbsp; Your\n",
      "name<BR>2&nbsp;&nbsp;&nbsp; &nbsp;&nbsp;&nbsp;\n",
      "phone<BR>3&nbsp;&nbsp;&nbsp; &nbsp;&nbsp;&nbsp;\n",
      "email<BR>4&nbsp;&nbsp;&nbsp;  &nbsp;&nbsp;&nbsp; time you can be\n",
      "reached<BR>5&nbsp;&nbsp;&nbsp; &nbsp;&nbsp;&nbsp; Do you have  10\n",
      "hours per week to work?<BR>6&nbsp;&nbsp;&nbsp; &nbsp;&nbsp;&nbsp; How\n",
      "much  do you desire to earn per month?<BR>&nbsp;&nbsp;&nbsp;&nbsp;&nbs\n",
      "p;&nbsp;&nbsp;&nbsp;&nbsp;&nbsp;&nbsp; &nbsp;&nbsp;&nbsp;&nbsp;&nbsp;&\n",
      "nbsp;&nbsp;&nbsp;&nbsp;&nbsp;&nbsp;&nbsp;&nbsp;&nbsp;&nbsp;&nbsp;<BR><\n",
      "FONT color=#0000ff><FONT color=#0000ff>Send Your Info\n",
      "To:</FONT>&nbsp; <DIV align=left><FONT lang=0 style=\"BACKGROUND-COLOR:\n",
      "#ffffff\"  face=Arial color=#000000 size=2 FAMILY=\"SANSSERIF\"><A\n",
      "href=\"mailto:earn_1000_per_week@btamail.net.cn\"><FONT  face=\"ACaslon\n",
      "Regular\" size=3><STRONG>earn_1000_per_week@btamail.net.cn</STRONG></FO\n",
      "NT></A></FONT> <DIV align=left><FONT face=\"ACaslon Regular\"\n",
      "size=3><STRONG>TYPE&nbsp;&nbsp; \"$1000\" as your subject\n",
      "please!</STRONG></FONT></DIV></FONT></STRONG></FONT></FONT><FONT\n",
      "lang=0 style=\"BACKGROUND-COLOR: #ffffff\" face=Arial color=#000000\n",
      "size=2 FAMILY=\"SANSSERIF\"><FONT face=\"ACaslon Regular\"\n",
      "size=3></FONT></FONT></FONT><FONT lang=0  style=\"BACKGROUND-COLOR:\n",
      "#ffffff\" face=Arial color=#000000\n",
      "FAMILY=\"SANSSERIF\"><BR><BR><STRONG>&nbsp;&nbsp;The Success Team\n",
      "2002</STRONG><BR><BR><BR><BR></DIV> <P align=left><FONT face=\"ACaslon\n",
      "Regular\"><FONT face=Arial>Regards,<BR><BR>Steve <BR>Ga,\n",
      "USA</FONT><BR><BR></FONT><FONT face=\"ACaslon\n",
      "Regular\"></FONT></P></DIV> <DIV><FONT face=\"ACaslon Regular\"><FONT\n",
      "size=3></FONT>&nbsp;</DIV> <DIV align=left><BR></FONT></FONT><FONT\n",
      "lang=0  style=\"BACKGROUND-COLOR: #ffffff\" face=Arial color=#000000\n",
      "FAMILY=\"SANSSERIF\"><B><FONT face=\"ACaslon\n",
      "Regular\">Removal&nbsp;&nbsp;<BR>Further  transmissions to you by the\n",
      "sender of this </FONT></B></FONT></DIV> <DIV align=left><FONT lang=0\n",
      "style=\"BACKGROUND-COLOR: #ffffff\"  face=Arial color=#000000\n",
      "FAMILY=\"SANSSERIF\"><B><FONT face=\"ACaslon Regular\">email</FONT>\n",
      "</B></FONT><FONT lang=0 style=\"BACKGROUND-COLOR: #ffffff\"\n",
      "color=#000000 FAMILY=\"SANSSERIF\"><B><FONT face=\"ACaslon Regular\">may\n",
      "be  stopped at no cost to you by sending </FONT></B></FONT></DIV> <DIV\n",
      "align=left><FONT lang=0 style=\"BACKGROUND-COLOR: #ffffff\"\n",
      "color=#000000 FAMILY=\"SANSSERIF\"><B><FONT face=\"ACaslon Regular\">a\n",
      "blank email </FONT></B></FONT><FONT lang=0 style=\"BACKGROUND-COLOR:\n",
      "#ffffff\" color=#000000 FAMILY=\"SANSSERIF\"><B><FONT face=\"ACaslon\n",
      "Regular\">with \"removeplease\"&nbsp;in the\n",
      "subject&nbsp;to</FONT></B></FONT></DIV> <DIV align=left><FONT lang=0\n",
      "style=\"BACKGROUND-COLOR: #ffffff\"  color=#000000\n",
      "FAMILY=\"SANSSERIF\"><B><A  href=\"mailto:removeplease@excite.com\"><FONT\n",
      "face=\"ACaslon Regular\">removeplease@excite.com</FONT></A><FONT\n",
      "face=\"ACaslon Regular\">&nbsp;.&nbsp; W</FONT></B></FONT><FONT  lang=0\n",
      "style=\"BACKGROUND-COLOR: #ffffff\" color=#000000\n",
      "FAMILY=\"SANSSERIF\"><B><FONT face=\"ACaslon Regular\">e honor all remove\n",
      "</FONT></B></FONT></DIV> <DIV align=left><FONT lang=0\n",
      "style=\"BACKGROUND-COLOR: #ffffff\"  face=Arial color=#000000\n",
      "FAMILY=\"SANSSERIF\"><STRONG><FONT face=\"ACaslon Regular\">requests at\n",
      "once.  <BR></DIV></FONT></STRONG></FONT></FONT></FONT></BODY></HTML>\n",
      "-+-+-+-+-+-+-+-+-+-+-+-+-+-+-+-+-+-+-+-+-+-+-+-+-+-+-+-+-+-+-+-+-+-+-+-+-+-+-+-+-+-+-+-+-+-+-+-+-+-+\n",
      "Sample 3:\n",
      "Label: ham\n",
      "Count: 1548\n",
      "Subject : [Razor-users] Re: many vs one, Body: Oates, Isaac wrote:  >\n",
      "First, 1,000 people will have seen the piece of spam that could've  >\n",
      "been avoided.  But the other 99,000 will never see that spam.  Evenly\n",
      "> distributed, it means that an average user will only see 1% of spam.\n",
      "> That's not realistic, because not everyone will get the same spam,\n",
      "> but the basic threshold can be adjusted.  At the very least, 30  >\n",
      "people need to \"vote\" on a given piece of mail to make a realistic  >\n",
      "decision.  Since there's no \"no\" vote mechanism (except  > revocation\n",
      "--and that's after the fact), only a \"yes\" vote mechanism  > exists\n",
      "and so if you received 30 \"yes\" votes then you could safely  > say\n",
      "that you got a reasonable sample.  I'm not sure that I follow your\n",
      "reasoning here. Razor isn't your mail  server. It doesn't keep in your\n",
      "mail. You don't request your mail there.  Nor do most people check for\n",
      "spam only when they are going to read their  mail. My setup check a\n",
      "mail against Razor when my server receives it,  not when I'm going to\n",
      "read it. If you wait to get 1000 reply for a mail,  it means you have\n",
      "to wait for 1000 people to read it (at least, some  people may not\n",
      "vote because they don't want to vote that day or because  they don't\n",
      "think it's spam). Knowing that about half the planet would be\n",
      "sleeping (night time) and thus not reading their mail, it would mean\n",
      "that at least 2000 people already received the mail in their inbox.\n",
      "Knowing that, among the people who are not sleeping, not all of them\n",
      "are  constantly reading their mail. I would say that less than 1\n",
      "people over  10 read their mail as soon as it arrives. That means that\n",
      "20,000 people  already recieved the mail and checked it against the\n",
      "Razor database  before you would get your 1000 votes.  Also, with your\n",
      "system, 99% is the best you could get. If you wait for  only one vote,\n",
      "maybe only 20 guy would read the mail (1 to vote, 10  sleeping, and 9\n",
      "not reading their mail soon enough). Wich gives a value  99.98%.\n",
      "That's far better than your 99% don't you think. In RealLife(tm), most\n",
      "likely one guy voting won't be enough but the  thing is that it will\n",
      "stop the spam as early as possible.  Also, if for some reason, this\n",
      "mail is one of those people don't agree  on whether it is spam or not,\n",
      "it would take a while to revoke those 1000  reports, which means that\n",
      "some people may lose this legitimate (to them)  mail.  You mentioned\n",
      "that with this system, people will re-report less often.  First, I\n",
      "don't see how waiting *longer* before making a decision on the\n",
      "legitimacy of a mail will reduce re-reporting. The more you wait, the\n",
      "more people will get the mail in their inbox, the more people will see\n",
      "the mail (again, not everybody check their mail against Razor at read\n",
      "time, most do it a reception time using procmail/spamassassin).\n",
      "Second,  re-reporting has its use, it increase the confidence that a\n",
      "mail is spam.  So I don't see what you gain with your 1000 people.\n",
      "Jehan      -------------------------------------------------------\n",
      "This sf.net email is sponsored by: Dice - The leading online job board\n",
      "for high-tech professionals. Search and apply for tech jobs today!\n",
      "http://seeker.dice.com/seeker.epl?rel_code=31\n",
      "_______________________________________________ Razor-users mailing\n",
      "list Razor-users@lists.sourceforge.net\n",
      "https://lists.sourceforge.net/lists/listinfo/razor-users\n",
      "-+-+-+-+-+-+-+-+-+-+-+-+-+-+-+-+-+-+-+-+-+-+-+-+-+-+-+-+-+-+-+-+-+-+-+-+-+-+-+-+-+-+-+-+-+-+-+-+-+-+\n",
      "Sample 4:\n",
      "Label: ham\n",
      "Count: 957\n",
      "Subject : Photoshop this squirrel tuning in, turning on, and dropping\n",
      "out, Body: URL: http://www.newsisfree.com/click/-4,8269407,1717/ Date:\n",
      "2002-09-26T09:23:43+01:00  (Some Stoner)\n",
      "-+-+-+-+-+-+-+-+-+-+-+-+-+-+-+-+-+-+-+-+-+-+-+-+-+-+-+-+-+-+-+-+-+-+-+-+-+-+-+-+-+-+-+-+-+-+-+-+-+-+\n"
     ]
    }
   ],
   "source": [
    "print_random_wrapped_emails(df,'Body' , 'Subject',num_samples=4)"
   ]
  },
  {
   "attachments": {},
   "cell_type": "markdown",
   "metadata": {},
   "source": [
    "### Observations:\n",
    "- We can see lot of HTML Tags, Special Characters and Hyperlinks URLS\n",
    "- Next step, we will be removing and normalizing the text data."
   ]
  },
  {
   "cell_type": "code",
   "execution_count": 75,
   "metadata": {},
   "outputs": [
    {
     "data": {
      "text/plain": [
       "(                                             Subject  \\\n",
       " 0                               New Strongbad E-Mail   \n",
       " 1  You Won The First Round! claim#\\t9462         ...   \n",
       " 2                   Question From Patrick In Ireland   \n",
       " 3  Re: AA Meetings the Hottest Place to Meet Wome...   \n",
       " 4  Get Out of Debt Fast                          ...   \n",
       " \n",
       "                                                 Body Category  is_spam  \n",
       " 0  URL: http://www.newsisfree.com/click/-1,839671...      ham        0  \n",
       " 1  \\n<html>\\n\\n<body>\\n\\n<p align=\"center\" style=...     spam        1  \n",
       " 2  \\n\\n\\n\\n\\nThanks\\n\\n\\n\\n\\n\\n\\n\\n\\n\\n\\n\\n\\n\\n\\n...     spam        1  \n",
       " 3  >>>>> \"G\" == Geege Schuman <geege@barrera.org>...      ham        0  \n",
       " 4  \\n\\nMore Than $2500 in DEBT?\\n\\nWe Can Help Yo...     spam        1  ,\n",
       " 'I call PacBell/SBC every two or three months about a recurring problem \\nwe have at my house:\\n\\nWe get a phone bill every month for someone who no longer lives at our \\nhouse for a phone line which has been disconnected for over three years \\nand the account balance is (drum roll please) $0.00! Sometimes the \\npeople I talk to cannot locate the account in their system and tell me \\nthat the phone number doesn\\'t exist. Some people are able to locate the \\naccount but say that it has been disconnected and there is no way we \\ncould get a bill sent to us for that account. Some people can locate the \\naccount and verify that the line has been disconnected for three years \\nand that the amount owed is $0.00 and then they say somthing along the \\nlines of \"Huh?\" or \"I\\'m not sure what\\'s going on... Hold please.\" And \\neventually I have similar conversations with their managers and the \\naccount representatives and billing people and their managers and their \\nmanagers\\' managers ad naseum.\\n\\nThe outcome of every phone call is that they\\'ll \"look into it\" and fix \\nthe problem and I might receive one or two more bills depending on when \\nit\\'s resolved. So I wait a month or two and send the bills back marked \\n\"Not at this address, please fsck off.\" and then eventually call them \\nback and go through the whole process again. Lately I just explain to \\nthe phone jockeys that I know it\\'s not their fault and I\\'m not mad at \\nthem and it\\'s just not their day because I\\'m about to give them hell. \\nThen I give them the opportunity to have me yell at their boss which \\nthey seem all too happy to do.\\n\\nAt least it gives me a positive way to vent my aggressions and it\\'s a \\nlot cheaper than seeing a therapist.\\n\\nPerplexed,\\nElias\\n\\n\\nbitbitch@magnesium.net wrote:\\n\\n>\\n>So I get a check from Pac Bell today (SBC as they\\'re called now).\\n>Turns out, they went to the trouble of printing out, signing, sealing\\n>and stamping a check just to refund me for a whole $0.33.\\n>\\n>[...]\\n>\\n\\n\\n\\n')"
      ]
     },
     "execution_count": 75,
     "metadata": {},
     "output_type": "execute_result"
    }
   ],
   "source": [
    "df.head(), df.Body[10]"
   ]
  },
  {
   "attachments": {},
   "cell_type": "markdown",
   "metadata": {},
   "source": [
    "### Observing two different URLs patterns.\n",
    "- We will be dropping the urls even though they put values in email if they are spam or ham."
   ]
  },
  {
   "cell_type": "code",
   "execution_count": 76,
   "metadata": {},
   "outputs": [
    {
     "name": "stdout",
     "output_type": "stream",
     "text": [
      "15609\n"
     ]
    }
   ],
   "source": [
    "\n",
    "#checking the counts of ulrs in the dataset.\n",
    "urls = []\n",
    "\n",
    "for body in df['Body']:\n",
    "    matches = re.findall(r'(http|https)://[^\\s]*', str(body), flags=re.IGNORECASE)\n",
    "    urls.extend(matches)\n",
    "\n",
    "print(len(urls))\n"
   ]
  },
  {
   "cell_type": "code",
   "execution_count": 77,
   "metadata": {},
   "outputs": [
    {
     "name": "stdout",
     "output_type": "stream",
     "text": [
      "8196\n"
     ]
    }
   ],
   "source": [
    "\n",
    "#checking the counts of ulrs starting with wwwin the dataset.\n",
    "urls = []\n",
    "\n",
    "for body in df['Body']:\n",
    "    matches = re.findall(r'www\\.[^\\s]*', str(body))\n",
    "    urls.extend(matches)\n",
    "\n",
    "print(len(urls))\n"
   ]
  },
  {
   "attachments": {},
   "cell_type": "markdown",
   "metadata": {},
   "source": [
    "### Text - Preprocessing.\n",
    "#### Using simple techniquest to clean the dataset at once using regex."
   ]
  },
  {
   "cell_type": "code",
   "execution_count": 78,
   "metadata": {},
   "outputs": [],
   "source": [
    "\n",
    "def process_email(content) :\n",
    "    '''\n",
    "    preprocesses the content of an email \n",
    "    \n",
    "    and returns a dictionary with word as key and its frequency as value\n",
    "    @content : email content (a string)\n",
    "    @return : a counting dictionary \n",
    "    '''                                         \n",
    "    if not isinstance(content,str) :       \n",
    "        return {},''\n",
    "    content = re.sub(r'<[^<>]+>', ' ',content)  ##strip all HTML\n",
    "    content = str.lower(content) ##lower case\n",
    "    #handle URLS with http:// or https://\n",
    "    content = re.sub(r'(http|https)://[^\\s]*','httpaddr ',content) \n",
    "    content = re.sub(r'www\\.[^\\s]*','httpaddr ',content) #handle URLS with www.\n",
    "    #handle email addresses\n",
    "    #look for strings with @ in the middle\n",
    "    content = re.sub(r'[^\\s]+@[^\\s]+','emailaddr',content)\n",
    "    content = re.sub(r'[0-9]+', 'number ',content) #handle numbers\n",
    "    content = re.sub(r'[$]+','dollar ',content) #handle $ sign \n",
    "    content = re.sub(r'[\\n]+',' ',content) #remove \\n\n",
    "    content = re.sub(r'[{0}]'.format(string.punctuation),' ',content) \n",
    "\n",
    "    return content"
   ]
  },
  {
   "cell_type": "code",
   "execution_count": 79,
   "metadata": {},
   "outputs": [],
   "source": [
    "df['clean_subject'] = df['Subject'].apply(process_email).to_numpy()"
   ]
  },
  {
   "cell_type": "code",
   "execution_count": 80,
   "metadata": {},
   "outputs": [],
   "source": [
    "df['clean_body'] = df['Body'].apply(process_email).to_numpy()"
   ]
  },
  {
   "cell_type": "code",
   "execution_count": 81,
   "metadata": {},
   "outputs": [
    {
     "data": {
      "text/plain": [
       "(                                             Subject  \\\n",
       " 0                               New Strongbad E-Mail   \n",
       " 1  You Won The First Round! claim#\\t9462         ...   \n",
       " 2                   Question From Patrick In Ireland   \n",
       " 3  Re: AA Meetings the Hottest Place to Meet Wome...   \n",
       " 4  Get Out of Debt Fast                          ...   \n",
       " \n",
       "                                                 Body Category  is_spam  \\\n",
       " 0  URL: http://www.newsisfree.com/click/-1,839671...      ham        0   \n",
       " 1  \\n<html>\\n\\n<body>\\n\\n<p align=\"center\" style=...     spam        1   \n",
       " 2  \\n\\n\\n\\n\\nThanks\\n\\n\\n\\n\\n\\n\\n\\n\\n\\n\\n\\n\\n\\n\\n...     spam        1   \n",
       " 3  >>>>> \"G\" == Geege Schuman <geege@barrera.org>...      ham        0   \n",
       " 4  \\n\\nMore Than $2500 in DEBT?\\n\\nWe Can Help Yo...     spam        1   \n",
       " \n",
       "                                        clean_subject  \\\n",
       " 0                               new strongbad e mail   \n",
       " 1  you won the first round  claim \\tnumber       ...   \n",
       " 2                   question from patrick in ireland   \n",
       " 3  re  aa meetings the hottest place to meet wome...   \n",
       " 4  get out of debt fast                          ...   \n",
       " \n",
       "                                           clean_body  \n",
       " 0  url  httpaddr  date  number  number  number tn...  \n",
       " 1          you have won the first round        cl...  \n",
       " 2   thanks      \\r  thank you for\\r taking the ti...  \n",
       " 3         g     geege schuman   writes      g  su...  \n",
       " 4   more than dollar number  in debt  we can help...  ,\n",
       " (3718, 6))"
      ]
     },
     "execution_count": 81,
     "metadata": {},
     "output_type": "execute_result"
    }
   ],
   "source": [
    "df.head(5), df.shape"
   ]
  },
  {
   "cell_type": "code",
   "execution_count": 82,
   "metadata": {},
   "outputs": [
    {
     "name": "stdout",
     "output_type": "stream",
     "text": [
      "Sample 1:\n",
      "Label: spam\n",
      "Count: 3654\n",
      "Subject : , Body: dear sirs  we know your esteemed company in beach\n",
      "towels from internet  and pleased to introduce us as a leading\n",
      "producer of high quality number   cotton velour printed towels in\n",
      "china  we sincerely hope to establish a long term business\n",
      "relationship with your esteemed company in this field     our major\n",
      "items are number   cotton full printed velour towels of the following\n",
      "sizes and weights with a annual production capacity of one million\n",
      "dozens  disney standard  number xnumber  inches  weight  number grams\n",
      "sm  number gram pc   number xnumber  inches  weight  number grams sm\n",
      "number gram pc   please refer to our website httpaddr  for more\n",
      "details ie patterns about our products  once you are interested in our\n",
      "products  we will give you a more favorable price  looking forward to\n",
      "hearing from you soon  thanks and best regards  margaret sales manager\n",
      "henan ziyang textiles httpaddr\n",
      "-+-+-+-+-+-+-+-+-+-+-+-+-+-+-+-+-+-+-+-+-+-+-+-+-+-+-+-+-+-+-+-+-+-+-+-+-+-+-+-+-+-+-+-+-+-+-+-+-+-+\n",
      "Sample 2:\n",
      "Label: spam\n",
      "Count: 1313\n",
      "Subject : re  reduce your home loan payment dollar number  per month\n",
      "no closing costs nbd, Body:                   nbsp\n",
      "dear                homeowner                     nbsp\n",
      "number  number                  number  yr fixed rate mortgage\n",
      "interest                rates are at their lowest point in number\n",
      "years  we help you find the                best rate for your\n",
      "situation by matching your needs with hundreds                of\n",
      "lenders   home improvement    refinance    second\n",
      "mortgage    home equity loans  and more   even with less\n",
      "than perfect credit\n",
      "click here for a free quote\n",
      "lock              in your low fixed rate today\n",
      "a  no                cost out of pocket\n",
      "a    no                obligation\n",
      "a    free                consultation\n",
      "a    all                credit grades accepted\n",
      "rates as low as                number  number   won t stay this low\n",
      "forever click here                                  nbsp\n",
      "based on mortgage rate as of number  number  number  as low as number\n",
      "number   see lender                for details\n",
      "nbsp\n",
      "h\n",
      "apply                  now and one of our lending partners will get\n",
      "back to you within                  number  hours\n",
      "click here\n",
      "to be removed please  quot  clicking  here  quot\n",
      "-+-+-+-+-+-+-+-+-+-+-+-+-+-+-+-+-+-+-+-+-+-+-+-+-+-+-+-+-+-+-+-+-+-+-+-+-+-+-+-+-+-+-+-+-+-+-+-+-+-+\n",
      "Sample 3:\n",
      "Label: spam\n",
      "Count: 428\n",
      "Subject : ({}, ''), Body:  untitled document       ��\n",
      "�ֻ�����ϣ���¿��ͷ���ϣⱥ�������� number   a����ű��¿������·�number\n",
      "ԫ������֧�ֶ���ͨnumber сʱ�������ϸ��ͷ���ϣ����ƶ�����ƣ��շ�������number\n",
      "�������ϡ�          number   b����ű��¿������·�number ԫ���շ�����ϊnumber\n",
      "�����ҡ��˿���ƶ�����ơ�����һсʱ��ҫͣ��сʱ�ٷ��͡�          ע�����ϸ�����ҫ�ڶ���ͨ\n",
      "�ȶ���ⱥ������֧���²��ܴﵽ�ġ��������࿨ϊ�ƶ����ſ����է����ƶ��ֻ��û��ķ���ϣ���£��է\n",
      "�����ͨ�û��ķ���ϣ��ͨ���������ķ��ò����¡�ÿ�ſ���ѻ��number ԫ��\n",
      "number   ������ϣⱥ������������ͨ������ָ�������������ֻ��û����ͷ���ϣ�������\n",
      "ڴ�ȫ�������ֻ�����σ����զ��ֻ������ĩλ�ŷ��ͣ�ҳ���ա��ֻ����벾���з��͡�\n",
      "��ϵ�绰��number ��number  ���棺number ��number  �ֻ���number           ��\n",
      "ϵ �ˣ�������          ��λ���㽭 ��ɽ ������           ��  ������ɽ��������\n",
      "�ʺţ�number   \n",
      "-+-+-+-+-+-+-+-+-+-+-+-+-+-+-+-+-+-+-+-+-+-+-+-+-+-+-+-+-+-+-+-+-+-+-+-+-+-+-+-+-+-+-+-+-+-+-+-+-+-+\n",
      "Sample 4:\n",
      "Label: ham\n",
      "Count: 564\n",
      "Subject : re   razor users   no razor servers available at this time ,\n",
      "Body: i m still seeing razor reporting bomb out with a small variety\n",
      "of messages  would reinitializing something here help  or does razor\n",
      "do that as needed anyway  and this just reflects trouble at the\n",
      "servers  also  since these are reports i m making from within mutt  it\n",
      "s annoying that the error messages garble the x window a bit  if there\n",
      "s nothing constructive to do about razor failing  can i at least turn\n",
      "off the failure messages  one way or the other i d rather not see them\n",
      "whit  on wed  sep number   number  at number  number  number pm\n",
      "number   whit blauvelt wrote    i m getting  no servers available\n",
      "about half the time in the last few days    this is with razor number\n",
      "is there something i need adjust in the installation   here  or are\n",
      "the servers just down overloaded       thanks    whit\n",
      "this sf net email is sponsored by thinkgeek welcome to geek heaven\n",
      "httpaddr                                                  razor users\n",
      "mailing list emailaddr httpaddr\n",
      "-+-+-+-+-+-+-+-+-+-+-+-+-+-+-+-+-+-+-+-+-+-+-+-+-+-+-+-+-+-+-+-+-+-+-+-+-+-+-+-+-+-+-+-+-+-+-+-+-+-+\n"
     ]
    }
   ],
   "source": [
    "print_random_wrapped_emails(df,'clean_body' , 'clean_subject',num_samples=4)"
   ]
  },
  {
   "attachments": {},
   "cell_type": "markdown",
   "metadata": {},
   "source": [
    "### Observations:\n",
    "- We observed, there are no more urls and hyper links and all the letters have been lower cased.\n",
    "- There are no special characters and punctuations have been removed."
   ]
  },
  {
   "cell_type": "code",
   "execution_count": 83,
   "metadata": {},
   "outputs": [
    {
     "name": "stdout",
     "output_type": "stream",
     "text": [
      "<class 'pandas.core.frame.DataFrame'>\n",
      "RangeIndex: 3718 entries, 0 to 3717\n",
      "Data columns (total 6 columns):\n",
      " #   Column         Non-Null Count  Dtype \n",
      "---  ------         --------------  ----- \n",
      " 0   Subject        3718 non-null   object\n",
      " 1   Body           3718 non-null   object\n",
      " 2   Category       3718 non-null   object\n",
      " 3   is_spam        3718 non-null   int64 \n",
      " 4   clean_subject  3718 non-null   object\n",
      " 5   clean_body     3718 non-null   object\n",
      "dtypes: int64(1), object(5)\n",
      "memory usage: 174.4+ KB\n"
     ]
    }
   ],
   "source": [
    "df.info()"
   ]
  },
  {
   "cell_type": "code",
   "execution_count": 84,
   "metadata": {},
   "outputs": [],
   "source": [
    "df['clean_subject'] = df['clean_subject'].astype(str)\n",
    "df['clean_body'] = df['clean_body'].astype(str)\n",
    "df['is_spam'] = df['is_spam'].astype(float)\n",
    "df['clean_email_content'] = df.apply(lambda row: row['clean_subject'] + \" \" + row['clean_body'], axis=1)"
   ]
  },
  {
   "cell_type": "code",
   "execution_count": 85,
   "metadata": {},
   "outputs": [
    {
     "data": {
      "text/plain": [
       "0    new strongbad e mail url  httpaddr  date  numb...\n",
       "1    you won the first round  claim \\tnumber       ...\n",
       "2    question from patrick in ireland  thanks      ...\n",
       "3    re  aa meetings the hottest place to meet wome...\n",
       "4    get out of debt fast                          ...\n",
       "Name: clean_email_content, dtype: object"
      ]
     },
     "execution_count": 85,
     "metadata": {},
     "output_type": "execute_result"
    }
   ],
   "source": [
    "df['clean_email_content'].head(5)"
   ]
  },
  {
   "cell_type": "code",
   "execution_count": 86,
   "metadata": {},
   "outputs": [
    {
     "data": {
      "text/html": [
       "<div>\n",
       "<style scoped>\n",
       "    .dataframe tbody tr th:only-of-type {\n",
       "        vertical-align: middle;\n",
       "    }\n",
       "\n",
       "    .dataframe tbody tr th {\n",
       "        vertical-align: top;\n",
       "    }\n",
       "\n",
       "    .dataframe thead th {\n",
       "        text-align: right;\n",
       "    }\n",
       "</style>\n",
       "<table border=\"1\" class=\"dataframe\">\n",
       "  <thead>\n",
       "    <tr style=\"text-align: right;\">\n",
       "      <th></th>\n",
       "      <th>Subject</th>\n",
       "      <th>Body</th>\n",
       "      <th>Category</th>\n",
       "      <th>is_spam</th>\n",
       "      <th>clean_subject</th>\n",
       "      <th>clean_body</th>\n",
       "      <th>clean_email_content</th>\n",
       "    </tr>\n",
       "  </thead>\n",
       "  <tbody>\n",
       "    <tr>\n",
       "      <th>0</th>\n",
       "      <td>New Strongbad E-Mail</td>\n",
       "      <td>URL: http://www.newsisfree.com/click/-1,839671...</td>\n",
       "      <td>ham</td>\n",
       "      <td>0.0</td>\n",
       "      <td>new strongbad e mail</td>\n",
       "      <td>url  httpaddr  date  number  number  number tn...</td>\n",
       "      <td>new strongbad e mail url  httpaddr  date  numb...</td>\n",
       "    </tr>\n",
       "    <tr>\n",
       "      <th>1</th>\n",
       "      <td>You Won The First Round! claim#\\t9462         ...</td>\n",
       "      <td>\\n&lt;html&gt;\\n\\n&lt;body&gt;\\n\\n&lt;p align=\"center\" style=...</td>\n",
       "      <td>spam</td>\n",
       "      <td>1.0</td>\n",
       "      <td>you won the first round  claim \\tnumber       ...</td>\n",
       "      <td>you have won the first round        cl...</td>\n",
       "      <td>you won the first round  claim \\tnumber       ...</td>\n",
       "    </tr>\n",
       "    <tr>\n",
       "      <th>2</th>\n",
       "      <td>Question From Patrick In Ireland</td>\n",
       "      <td>\\n\\n\\n\\n\\nThanks\\n\\n\\n\\n\\n\\n\\n\\n\\n\\n\\n\\n\\n\\n\\n...</td>\n",
       "      <td>spam</td>\n",
       "      <td>1.0</td>\n",
       "      <td>question from patrick in ireland</td>\n",
       "      <td>thanks      \\r  thank you for\\r taking the ti...</td>\n",
       "      <td>question from patrick in ireland  thanks      ...</td>\n",
       "    </tr>\n",
       "    <tr>\n",
       "      <th>3</th>\n",
       "      <td>Re: AA Meetings the Hottest Place to Meet Wome...</td>\n",
       "      <td>&gt;&gt;&gt;&gt;&gt; \"G\" == Geege Schuman &lt;geege@barrera.org&gt;...</td>\n",
       "      <td>ham</td>\n",
       "      <td>0.0</td>\n",
       "      <td>re  aa meetings the hottest place to meet wome...</td>\n",
       "      <td>g     geege schuman   writes      g  su...</td>\n",
       "      <td>re  aa meetings the hottest place to meet wome...</td>\n",
       "    </tr>\n",
       "    <tr>\n",
       "      <th>4</th>\n",
       "      <td>Get Out of Debt Fast                          ...</td>\n",
       "      <td>\\n\\nMore Than $2500 in DEBT?\\n\\nWe Can Help Yo...</td>\n",
       "      <td>spam</td>\n",
       "      <td>1.0</td>\n",
       "      <td>get out of debt fast                          ...</td>\n",
       "      <td>more than dollar number  in debt  we can help...</td>\n",
       "      <td>get out of debt fast                          ...</td>\n",
       "    </tr>\n",
       "  </tbody>\n",
       "</table>\n",
       "</div>"
      ],
      "text/plain": [
       "                                             Subject  \\\n",
       "0                               New Strongbad E-Mail   \n",
       "1  You Won The First Round! claim#\\t9462         ...   \n",
       "2                   Question From Patrick In Ireland   \n",
       "3  Re: AA Meetings the Hottest Place to Meet Wome...   \n",
       "4  Get Out of Debt Fast                          ...   \n",
       "\n",
       "                                                Body Category  is_spam  \\\n",
       "0  URL: http://www.newsisfree.com/click/-1,839671...      ham      0.0   \n",
       "1  \\n<html>\\n\\n<body>\\n\\n<p align=\"center\" style=...     spam      1.0   \n",
       "2  \\n\\n\\n\\n\\nThanks\\n\\n\\n\\n\\n\\n\\n\\n\\n\\n\\n\\n\\n\\n\\n...     spam      1.0   \n",
       "3  >>>>> \"G\" == Geege Schuman <geege@barrera.org>...      ham      0.0   \n",
       "4  \\n\\nMore Than $2500 in DEBT?\\n\\nWe Can Help Yo...     spam      1.0   \n",
       "\n",
       "                                       clean_subject  \\\n",
       "0                               new strongbad e mail   \n",
       "1  you won the first round  claim \\tnumber       ...   \n",
       "2                   question from patrick in ireland   \n",
       "3  re  aa meetings the hottest place to meet wome...   \n",
       "4  get out of debt fast                          ...   \n",
       "\n",
       "                                          clean_body  \\\n",
       "0  url  httpaddr  date  number  number  number tn...   \n",
       "1          you have won the first round        cl...   \n",
       "2   thanks      \\r  thank you for\\r taking the ti...   \n",
       "3         g     geege schuman   writes      g  su...   \n",
       "4   more than dollar number  in debt  we can help...   \n",
       "\n",
       "                                 clean_email_content  \n",
       "0  new strongbad e mail url  httpaddr  date  numb...  \n",
       "1  you won the first round  claim \\tnumber       ...  \n",
       "2  question from patrick in ireland  thanks      ...  \n",
       "3  re  aa meetings the hottest place to meet wome...  \n",
       "4  get out of debt fast                          ...  "
      ]
     },
     "execution_count": 86,
     "metadata": {},
     "output_type": "execute_result"
    }
   ],
   "source": [
    "df.head()"
   ]
  },
  {
   "cell_type": "code",
   "execution_count": 87,
   "metadata": {},
   "outputs": [
    {
     "data": {
      "text/plain": [
       "Subject                0\n",
       "Body                   0\n",
       "Category               0\n",
       "is_spam                0\n",
       "clean_subject          0\n",
       "clean_body             0\n",
       "clean_email_content    0\n",
       "dtype: int64"
      ]
     },
     "execution_count": 87,
     "metadata": {},
     "output_type": "execute_result"
    }
   ],
   "source": [
    "df.isna().sum()"
   ]
  },
  {
   "cell_type": "code",
   "execution_count": 88,
   "metadata": {},
   "outputs": [
    {
     "data": {
      "text/html": [
       "<div>\n",
       "<style scoped>\n",
       "    .dataframe tbody tr th:only-of-type {\n",
       "        vertical-align: middle;\n",
       "    }\n",
       "\n",
       "    .dataframe tbody tr th {\n",
       "        vertical-align: top;\n",
       "    }\n",
       "\n",
       "    .dataframe thead th {\n",
       "        text-align: right;\n",
       "    }\n",
       "</style>\n",
       "<table border=\"1\" class=\"dataframe\">\n",
       "  <thead>\n",
       "    <tr style=\"text-align: right;\">\n",
       "      <th></th>\n",
       "      <th>Subject</th>\n",
       "      <th>Body</th>\n",
       "      <th>Category</th>\n",
       "      <th>is_spam</th>\n",
       "      <th>clean_subject</th>\n",
       "      <th>clean_body</th>\n",
       "      <th>clean_email_content</th>\n",
       "    </tr>\n",
       "  </thead>\n",
       "  <tbody>\n",
       "    <tr>\n",
       "      <th>0</th>\n",
       "      <td>New Strongbad E-Mail</td>\n",
       "      <td>URL: http://www.newsisfree.com/click/-1,839671...</td>\n",
       "      <td>ham</td>\n",
       "      <td>0.0</td>\n",
       "      <td>new strongbad e mail</td>\n",
       "      <td>url  httpaddr  date  number  number  number tn...</td>\n",
       "      <td>new strongbad e mail url  httpaddr  date  numb...</td>\n",
       "    </tr>\n",
       "    <tr>\n",
       "      <th>1</th>\n",
       "      <td>You Won The First Round! claim#\\t9462         ...</td>\n",
       "      <td>\\n&lt;html&gt;\\n\\n&lt;body&gt;\\n\\n&lt;p align=\"center\" style=...</td>\n",
       "      <td>spam</td>\n",
       "      <td>1.0</td>\n",
       "      <td>you won the first round  claim \\tnumber       ...</td>\n",
       "      <td>you have won the first round        cl...</td>\n",
       "      <td>you won the first round  claim \\tnumber       ...</td>\n",
       "    </tr>\n",
       "    <tr>\n",
       "      <th>2</th>\n",
       "      <td>Question From Patrick In Ireland</td>\n",
       "      <td>\\n\\n\\n\\n\\nThanks\\n\\n\\n\\n\\n\\n\\n\\n\\n\\n\\n\\n\\n\\n\\n...</td>\n",
       "      <td>spam</td>\n",
       "      <td>1.0</td>\n",
       "      <td>question from patrick in ireland</td>\n",
       "      <td>thanks      \\r  thank you for\\r taking the ti...</td>\n",
       "      <td>question from patrick in ireland  thanks      ...</td>\n",
       "    </tr>\n",
       "    <tr>\n",
       "      <th>3</th>\n",
       "      <td>Re: AA Meetings the Hottest Place to Meet Wome...</td>\n",
       "      <td>&gt;&gt;&gt;&gt;&gt; \"G\" == Geege Schuman &lt;geege@barrera.org&gt;...</td>\n",
       "      <td>ham</td>\n",
       "      <td>0.0</td>\n",
       "      <td>re  aa meetings the hottest place to meet wome...</td>\n",
       "      <td>g     geege schuman   writes      g  su...</td>\n",
       "      <td>re  aa meetings the hottest place to meet wome...</td>\n",
       "    </tr>\n",
       "    <tr>\n",
       "      <th>4</th>\n",
       "      <td>Get Out of Debt Fast                          ...</td>\n",
       "      <td>\\n\\nMore Than $2500 in DEBT?\\n\\nWe Can Help Yo...</td>\n",
       "      <td>spam</td>\n",
       "      <td>1.0</td>\n",
       "      <td>get out of debt fast                          ...</td>\n",
       "      <td>more than dollar number  in debt  we can help...</td>\n",
       "      <td>get out of debt fast                          ...</td>\n",
       "    </tr>\n",
       "  </tbody>\n",
       "</table>\n",
       "</div>"
      ],
      "text/plain": [
       "                                             Subject  \\\n",
       "0                               New Strongbad E-Mail   \n",
       "1  You Won The First Round! claim#\\t9462         ...   \n",
       "2                   Question From Patrick In Ireland   \n",
       "3  Re: AA Meetings the Hottest Place to Meet Wome...   \n",
       "4  Get Out of Debt Fast                          ...   \n",
       "\n",
       "                                                Body Category  is_spam  \\\n",
       "0  URL: http://www.newsisfree.com/click/-1,839671...      ham      0.0   \n",
       "1  \\n<html>\\n\\n<body>\\n\\n<p align=\"center\" style=...     spam      1.0   \n",
       "2  \\n\\n\\n\\n\\nThanks\\n\\n\\n\\n\\n\\n\\n\\n\\n\\n\\n\\n\\n\\n\\n...     spam      1.0   \n",
       "3  >>>>> \"G\" == Geege Schuman <geege@barrera.org>...      ham      0.0   \n",
       "4  \\n\\nMore Than $2500 in DEBT?\\n\\nWe Can Help Yo...     spam      1.0   \n",
       "\n",
       "                                       clean_subject  \\\n",
       "0                               new strongbad e mail   \n",
       "1  you won the first round  claim \\tnumber       ...   \n",
       "2                   question from patrick in ireland   \n",
       "3  re  aa meetings the hottest place to meet wome...   \n",
       "4  get out of debt fast                          ...   \n",
       "\n",
       "                                          clean_body  \\\n",
       "0  url  httpaddr  date  number  number  number tn...   \n",
       "1          you have won the first round        cl...   \n",
       "2   thanks      \\r  thank you for\\r taking the ti...   \n",
       "3         g     geege schuman   writes      g  su...   \n",
       "4   more than dollar number  in debt  we can help...   \n",
       "\n",
       "                                 clean_email_content  \n",
       "0  new strongbad e mail url  httpaddr  date  numb...  \n",
       "1  you won the first round  claim \\tnumber       ...  \n",
       "2  question from patrick in ireland  thanks      ...  \n",
       "3  re  aa meetings the hottest place to meet wome...  \n",
       "4  get out of debt fast                          ...  "
      ]
     },
     "execution_count": 88,
     "metadata": {},
     "output_type": "execute_result"
    }
   ],
   "source": [
    "df.head()"
   ]
  },
  {
   "attachments": {},
   "cell_type": "markdown",
   "metadata": {},
   "source": [
    "#### Tokenization, Removal of Stopwords and Lemmatization."
   ]
  },
  {
   "cell_type": "code",
   "execution_count": 89,
   "metadata": {},
   "outputs": [],
   "source": [
    "# Create an instance of WordNetLemmatizer\n",
    "lemmatizer = WordNetLemmatizer()\n",
    "stop_words = set(stopwords.words('english'))\n",
    "# Function to tokenize and lemmatize a string, then join it back into a string\n",
    "def token_lemmatize(text):\n",
    "    tokens = word_tokenize(text)\n",
    "    filtered_tokens = [token for token in tokens if token.lower() not in stop_words]\n",
    "    lemmatized_tokens = [lemmatizer.lemmatize(token) for token in filtered_tokens]\n",
    "    return ' '.join(lemmatized_tokens)\n",
    "\n",
    "# Apply the function to the 'clean_body' column\n",
    "df['token_lemmatize'] = df['clean_body'].apply(token_lemmatize)\n"
   ]
  },
  {
   "cell_type": "code",
   "execution_count": 90,
   "metadata": {},
   "outputs": [
    {
     "data": {
      "text/html": [
       "<div>\n",
       "<style scoped>\n",
       "    .dataframe tbody tr th:only-of-type {\n",
       "        vertical-align: middle;\n",
       "    }\n",
       "\n",
       "    .dataframe tbody tr th {\n",
       "        vertical-align: top;\n",
       "    }\n",
       "\n",
       "    .dataframe thead th {\n",
       "        text-align: right;\n",
       "    }\n",
       "</style>\n",
       "<table border=\"1\" class=\"dataframe\">\n",
       "  <thead>\n",
       "    <tr style=\"text-align: right;\">\n",
       "      <th></th>\n",
       "      <th>Subject</th>\n",
       "      <th>Body</th>\n",
       "      <th>Category</th>\n",
       "      <th>is_spam</th>\n",
       "      <th>clean_subject</th>\n",
       "      <th>clean_body</th>\n",
       "      <th>clean_email_content</th>\n",
       "      <th>token_lemmatize</th>\n",
       "    </tr>\n",
       "  </thead>\n",
       "  <tbody>\n",
       "    <tr>\n",
       "      <th>3713</th>\n",
       "      <td>9/2/00: \"In the overworked world of Web develo...</td>\n",
       "      <td>URL: http://scriptingnews.userland.com/backiss...</td>\n",
       "      <td>ham</td>\n",
       "      <td>0.0</td>\n",
       "      <td>number  number  number    in the overworked wo...</td>\n",
       "      <td>url  httpaddr  date  tue  number  sep number  ...</td>\n",
       "      <td>number  number  number    in the overworked wo...</td>\n",
       "      <td>url httpaddr date tue number sep number number...</td>\n",
       "    </tr>\n",
       "    <tr>\n",
       "      <th>3714</th>\n",
       "      <td>[Razor-users] Bug ... still</td>\n",
       "      <td>Haven't heard anything about this, so excuse t...</td>\n",
       "      <td>ham</td>\n",
       "      <td>0.0</td>\n",
       "      <td>razor users  bug     still</td>\n",
       "      <td>haven t heard anything about this  so excuse t...</td>\n",
       "      <td>razor users  bug     still haven t heard anyt...</td>\n",
       "      <td>heard anything excuse repost httpaddr group id...</td>\n",
       "    </tr>\n",
       "    <tr>\n",
       "      <th>3715</th>\n",
       "      <td>[ILUG] FW: Mac (clone) for sale...</td>\n",
       "      <td>I've been asked to forward this on ... \\n\\nAny...</td>\n",
       "      <td>ham</td>\n",
       "      <td>0.0</td>\n",
       "      <td>ilug  fw  mac  clone  for sale</td>\n",
       "      <td>i ve been asked to forward this on      anyone...</td>\n",
       "      <td>ilug  fw  mac  clone  for sale    i ve been a...</td>\n",
       "      <td>asked forward anyone interested give shout put...</td>\n",
       "    </tr>\n",
       "    <tr>\n",
       "      <th>3716</th>\n",
       "      <td>America's Most Liberal Lenders                ...</td>\n",
       "      <td>&lt;HTML&gt;&lt;HEAD&gt;&lt;STYLE&gt;\\nBODY {font-family=\"Arial\"...</td>\n",
       "      <td>spam</td>\n",
       "      <td>1.0</td>\n",
       "      <td>america s most liberal lenders                ...</td>\n",
       "      <td>body  font family  arial   tt  font family...</td>\n",
       "      <td>america s most liberal lenders                ...</td>\n",
       "      <td>body font family arial tt font family courier ...</td>\n",
       "    </tr>\n",
       "    <tr>\n",
       "      <th>3717</th>\n",
       "      <td>The Government Grants You $25,000!</td>\n",
       "      <td>&lt;html&gt;\\n&lt;head&gt;\\n&lt;/head&gt;\\n&lt;center&gt;\\n&lt;h1&gt;\\n&lt;b&gt;&lt;f...</td>\n",
       "      <td>spam</td>\n",
       "      <td>1.0</td>\n",
       "      <td>the government grants you dollar number  number</td>\n",
       "      <td>nbsp  free personal and busines...</td>\n",
       "      <td>the government grants you dollar number  numbe...</td>\n",
       "      <td>nbsp free personal business grant nbsp qualify...</td>\n",
       "    </tr>\n",
       "  </tbody>\n",
       "</table>\n",
       "</div>"
      ],
      "text/plain": [
       "                                                Subject  \\\n",
       "3713  9/2/00: \"In the overworked world of Web develo...   \n",
       "3714                        [Razor-users] Bug ... still   \n",
       "3715                 [ILUG] FW: Mac (clone) for sale...   \n",
       "3716  America's Most Liberal Lenders                ...   \n",
       "3717                 The Government Grants You $25,000!   \n",
       "\n",
       "                                                   Body Category  is_spam  \\\n",
       "3713  URL: http://scriptingnews.userland.com/backiss...      ham      0.0   \n",
       "3714  Haven't heard anything about this, so excuse t...      ham      0.0   \n",
       "3715  I've been asked to forward this on ... \\n\\nAny...      ham      0.0   \n",
       "3716  <HTML><HEAD><STYLE>\\nBODY {font-family=\"Arial\"...     spam      1.0   \n",
       "3717  <html>\\n<head>\\n</head>\\n<center>\\n<h1>\\n<b><f...     spam      1.0   \n",
       "\n",
       "                                          clean_subject  \\\n",
       "3713  number  number  number    in the overworked wo...   \n",
       "3714                         razor users  bug     still   \n",
       "3715                  ilug  fw  mac  clone  for sale      \n",
       "3716  america s most liberal lenders                ...   \n",
       "3717  the government grants you dollar number  number     \n",
       "\n",
       "                                             clean_body  \\\n",
       "3713  url  httpaddr  date  tue  number  sep number  ...   \n",
       "3714  haven t heard anything about this  so excuse t...   \n",
       "3715  i ve been asked to forward this on      anyone...   \n",
       "3716      body  font family  arial   tt  font family...   \n",
       "3717                 nbsp  free personal and busines...   \n",
       "\n",
       "                                    clean_email_content  \\\n",
       "3713  number  number  number    in the overworked wo...   \n",
       "3714   razor users  bug     still haven t heard anyt...   \n",
       "3715   ilug  fw  mac  clone  for sale    i ve been a...   \n",
       "3716  america s most liberal lenders                ...   \n",
       "3717  the government grants you dollar number  numbe...   \n",
       "\n",
       "                                        token_lemmatize  \n",
       "3713  url httpaddr date tue number sep number number...  \n",
       "3714  heard anything excuse repost httpaddr group id...  \n",
       "3715  asked forward anyone interested give shout put...  \n",
       "3716  body font family arial tt font family courier ...  \n",
       "3717  nbsp free personal business grant nbsp qualify...  "
      ]
     },
     "execution_count": 90,
     "metadata": {},
     "output_type": "execute_result"
    }
   ],
   "source": [
    "df.tail()"
   ]
  },
  {
   "attachments": {},
   "cell_type": "markdown",
   "metadata": {},
   "source": [
    "## CLASSIFIER MODELS"
   ]
  },
  {
   "attachments": {},
   "cell_type": "markdown",
   "metadata": {},
   "source": [
    "#### MODEL 1: Navie  Bayes Classifier"
   ]
  },
  {
   "cell_type": "code",
   "execution_count": 91,
   "metadata": {},
   "outputs": [
    {
     "name": "stdout",
     "output_type": "stream",
     "text": [
      "Training Accuracy: 0.9903173749327595\n",
      "Validation Accuracy: 0.9817007534983854\n",
      "Test Accuracy: 0.978494623655914\n",
      "              precision    recall  f1-score   support\n",
      "\n",
      "         0.0       0.97      0.99      0.98       468\n",
      "         1.0       0.98      0.97      0.98       462\n",
      "\n",
      "    accuracy                           0.98       930\n",
      "   macro avg       0.98      0.98      0.98       930\n",
      "weighted avg       0.98      0.98      0.98       930\n",
      "\n",
      "[[461   7]\n",
      " [ 13 449]]\n"
     ]
    },
    {
     "data": {
      "image/png": "[encoded data removed]",
      "text/plain": [
       "<Figure size 640x480 with 2 Axes>"
      ]
     },
     "metadata": {},
     "output_type": "display_data"
    },
    {
     "data": {
      "image/png": "[encoded data removed]",
      "text/plain": [
       "<Figure size 1000x1000 with 1 Axes>"
      ]
     },
     "metadata": {},
     "output_type": "display_data"
    }
   ],
   "source": [
    "\n",
    "# Split the data into training, validation, and test sets \n",
    "X_train, X_val_test, y_train, y_val_test = train_test_split(df['clean_email_content'], df['is_spam'], test_size=0.5, random_state=42)\n",
    "X_val, X_test, y_val, y_test = train_test_split(X_val_test, y_val_test, test_size=0.5, random_state=42)\n",
    "\n",
    "# create a bag-of-words representation of the text data.\n",
    "# Create an instance of CountVectorizer\n",
    "vectorizer = CountVectorizer()\n",
    "\n",
    "# Fit and transform the training data\n",
    "X_train_vectorized = vectorizer.fit_transform(X_train)\n",
    "\n",
    "# Transform the validation and test data\n",
    "X_val_vectorized = vectorizer.transform(X_val)\n",
    "X_test_vectorized = vectorizer.transform(X_test)\n",
    "\n",
    "# Create an instance of the Naive Bayes classifier (MultinomialNB)\n",
    "classifier = MultinomialNB()\n",
    "\n",
    "# Train the classifier on the vectorized training data\n",
    "classifier.fit(X_train_vectorized, y_train)\n",
    "\n",
    "# Make predictions on the training, validation, and test data\n",
    "y_train_pred = classifier.predict(X_train_vectorized)\n",
    "y_val_pred = classifier.predict(X_val_vectorized)\n",
    "y_test_pred = classifier.predict(X_test_vectorized)\n",
    "\n",
    "# Calculate the accuracy on each dataset\n",
    "train_accuracy = accuracy_score(y_train, y_train_pred)\n",
    "val_accuracy = accuracy_score(y_val, y_val_pred)\n",
    "test_accuracy = accuracy_score(y_test, y_test_pred)\n",
    "\n",
    "# Print the accuracies\n",
    "print(\"Training Accuracy:\", train_accuracy)\n",
    "print(\"Validation Accuracy:\", val_accuracy)\n",
    "print(\"Test Accuracy:\", test_accuracy)\n",
    "\n",
    "# Print the classification report\n",
    "print(classification_report(y_test, y_test_pred))\n",
    "\n",
    "# Print the confusion matrix\n",
    "print(confusion_matrix(y_test, y_test_pred))\n",
    "\n",
    "# plot confusion matrix\n",
    "sns.heatmap(confusion_matrix(y_test, y_test_pred), annot=True, fmt='d')\n",
    "\n",
    "# plot roc-auc curve \n",
    "from sklearn.metrics import roc_curve, auc\n",
    "fpr, tpr, thresholds = roc_curve(y_test, y_test_pred)\n",
    "roc_auc = auc(fpr, tpr)\n",
    "\n",
    "plt.figure(figsize=(10,10))\n",
    "plt.plot(fpr, tpr, color='darkorange', lw=2, label='ROC curve (area = %0.2f)' % roc_auc)\n",
    "\n",
    "plt.plot([0, 1], [0, 1], color='navy', lw=2, linestyle='--')\n",
    "\n",
    "plt.xlim([0.0, 1.0])\n",
    "plt.ylim([0.0, 1.05])\n",
    "\n",
    "plt.xlabel('False Positive Rate')\n",
    "plt.ylabel('True Positive Rate')\n",
    "\n",
    "plt.title('Receiver operating characteristic example')\n",
    "plt.legend(loc=\"lower right\")\n",
    "plt.show()"
   ]
  },
  {
   "attachments": {},
   "cell_type": "markdown",
   "metadata": {},
   "source": [
    "# Observations:\n",
    "- High Accuracy: The model achieves high accuracy across all three sets: training accuracy of 99.33%, validation accuracy of 96.64%, and test accuracy of 98.25%. This indicates that the model is performing well in terms of correctly classifying as spam and ham messages.\n",
    "- Precision and Recall: The precision and recall for both classes (0 and 1) are quite high, with values ranging from 0.98 to 0.99. This suggests that the model is effective in identifying both spam andham messages, as indicated by the high precision (ability to correctly identify positive cases) and recall (ability to capture all positive cases) values.\n",
    "- F1-Score: The F1-score, which combines precision and recall, is also high for both classes, with values around 0.98. This implies a good balance between precision and recall, indicating a robust performance of the model in classifying spam and ham messages.\n",
    "- Confusion Matrix: The confusion matrix shows the number of true positives (369), true negatives (362), false positives (4), and false negatives (9). The majority of the messages are correctly classified, as indicated by the high number of true positives and true negatives. However, there are a few false positives and false negatives, indicating instances where the model misclassified spam or ham messages.\n",
    "- Overall, the model exhibits strong performance, achieving high accuracy and precision-recall values. However, the presence of some false positives and false negatives suggests that there is still room for improvement in correctly identifying certain messages. Further analysis and potential adjustments to the model or data preprocessing could help enhance its performance."
   ]
  },
  {
   "attachments": {},
   "cell_type": "markdown",
   "metadata": {},
   "source": [
    "#### MODEL 2: LINEAR SVM"
   ]
  },
  {
   "cell_type": "code",
   "execution_count": 92,
   "metadata": {},
   "outputs": [
    {
     "name": "stdout",
     "output_type": "stream",
     "text": [
      "Training Accuracy: 1.0\n",
      "Validation Accuracy: 0.9709364908503767\n",
      "Test Accuracy: 0.9623655913978495\n",
      "              precision    recall  f1-score   support\n",
      "\n",
      "         0.0       0.96      0.97      0.96       468\n",
      "         1.0       0.97      0.96      0.96       462\n",
      "\n",
      "    accuracy                           0.96       930\n",
      "   macro avg       0.96      0.96      0.96       930\n",
      "weighted avg       0.96      0.96      0.96       930\n",
      "\n",
      "[[452  16]\n",
      " [ 19 443]]\n"
     ]
    },
    {
     "data": {
      "image/png": "[encoded data removed]",
      "text/plain": [
       "<Figure size 640x480 with 2 Axes>"
      ]
     },
     "metadata": {},
     "output_type": "display_data"
    },
    {
     "data": {
      "image/png": "[encoded data removed]",
      "text/plain": [
       "<Figure size 1000x1000 with 1 Axes>"
      ]
     },
     "metadata": {},
     "output_type": "display_data"
    }
   ],
   "source": [
    "# Create an instance of the SVM classifier (SVC)\n",
    "classifier = SVC(kernel='linear')\n",
    "\n",
    "# Train the classifier on the vectorized training data\n",
    "classifier.fit(X_train_vectorized, y_train)\n",
    "\n",
    "# Make predictions on the training, validation, and test data\n",
    "y_train_pred = classifier.predict(X_train_vectorized)\n",
    "y_val_pred = classifier.predict(X_val_vectorized)\n",
    "y_test_pred = classifier.predict(X_test_vectorized)\n",
    "\n",
    "# Calculate the accuracy on each dataset\n",
    "train_accuracy = accuracy_score(y_train, y_train_pred)\n",
    "val_accuracy = accuracy_score(y_val, y_val_pred)\n",
    "test_accuracy = accuracy_score(y_test, y_test_pred)\n",
    "\n",
    "# Print the accuracies\n",
    "print(\"Training Accuracy:\", train_accuracy)\n",
    "print(\"Validation Accuracy:\", val_accuracy)\n",
    "print(\"Test Accuracy:\", test_accuracy)\n",
    "\n",
    "# Print the classification report\n",
    "print(classification_report(y_test, y_test_pred))\n",
    "\n",
    "# print confusion matrix\n",
    "print(confusion_matrix(y_test, y_test_pred))\n",
    "\n",
    "# plot confusion matrix\n",
    "sns.heatmap(confusion_matrix(y_test, y_test_pred), annot=True, fmt='d')\n",
    "\n",
    "fpr, tpr, thresholds = roc_curve(y_test, y_test_pred)\n",
    "roc_auc = auc(fpr, tpr)\n",
    "\n",
    "plt.figure(figsize=(10,10))\n",
    "plt.plot(fpr, tpr, color='darkorange', lw=2, label='ROC curve (area = %0.2f)' % roc_auc)\n",
    "\n",
    "plt.plot([0, 1], [0, 1], color='navy', lw=2, linestyle='--')\n",
    "\n",
    "plt.xlim([0.0, 1.0])\n",
    "plt.ylim([0.0, 1.05])\n",
    "\n",
    "plt.xlabel('False Positive Rate')\n",
    "plt.ylabel('True Positive Rate')\n",
    "\n",
    "plt.title('Receiver operating characteristic example')\n",
    "plt.legend(loc=\"lower right\")\n",
    "plt.show()\n"
   ]
  },
  {
   "attachments": {},
   "cell_type": "markdown",
   "metadata": {},
   "source": [
    "# Observations:\n",
    "- High Accuracy: The model achieves high accuracy across all three sets: training accuracy of 100%, validation accuracy of 97.04%, and test accuracy of 97.71%. This indicates that the model is performing well in terms of correctly classifying spam and ham messages.\n",
    "- Precision and Recall: The precision and recall for both classes (0 and 1) are quite high, with values ranging from 0.96 to 0.99. This suggests that the model is effective in identifying both spam and ham messages, as indicated by the high precision (ability to correctly identify positive cases) and recall (ability to capture all positive cases) values.\n",
    "- F1-Score: The F1-score, which combines precision and recall, is also high for both classes, with values around 0.98. This implies a good balance between precision and recall, indicating a robust performance of the model in classifying spam and ham messages.\n",
    "- Confusion Matrix: The confusion matrix shows the number of true positives (364), true negatives (363), false positives (3), and false negatives (14). The majority of the messages are correctly classified, as indicated by the high number of true positives and true negatives. However, there are a few false positives and false negatives, indicating instances where the model misclassified spam or ham messages."
   ]
  },
  {
   "attachments": {},
   "cell_type": "markdown",
   "metadata": {},
   "source": [
    "## MODEL 3: LSTM"
   ]
  },
  {
   "cell_type": "code",
   "execution_count": 93,
   "metadata": {},
   "outputs": [],
   "source": [
    "from tensorflow.keras.preprocessing.text import one_hot\n",
    "vocab_size = 10000\n",
    "\n",
    "one_hot_doc=[one_hot(words, n = vocab_size)\n",
    "           for words in df['token_lemmatize']\n",
    "           ]\n"
   ]
  },
  {
   "cell_type": "code",
   "execution_count": 94,
   "metadata": {},
   "outputs": [
    {
     "data": {
      "text/plain": [
       "count                                                  3718\n",
       "unique                                                 3133\n",
       "top       creditfix thank email address obtained purchas...\n",
       "freq                                                     11\n",
       "Name: token_lemmatize, dtype: object"
      ]
     },
     "execution_count": 94,
     "metadata": {},
     "output_type": "execute_result"
    }
   ],
   "source": [
    "df['token_lemmatize'].describe().T"
   ]
  },
  {
   "cell_type": "code",
   "execution_count": 95,
   "metadata": {},
   "outputs": [],
   "source": [
    "from tensorflow.keras.preprocessing.sequence import pad_sequences\n",
    "\n",
    "sentence_len = 300\n",
    "embedded_doc = pad_sequences(\n",
    "    one_hot_doc,\n",
    "    maxlen = sentence_len,\n",
    "    padding=\"pre\"\n",
    ")"
   ]
  },
  {
   "cell_type": "code",
   "execution_count": 96,
   "metadata": {},
   "outputs": [],
   "source": [
    "extract_features = pd.DataFrame(\n",
    "    data = embedded_doc\n",
    ")\n",
    "target=df[\"is_spam\"]"
   ]
  },
  {
   "cell_type": "code",
   "execution_count": 97,
   "metadata": {},
   "outputs": [],
   "source": [
    "df_final = pd.concat([extract_features,target],axis=1)"
   ]
  },
  {
   "cell_type": "code",
   "execution_count": 98,
   "metadata": {},
   "outputs": [
    {
     "data": {
      "text/html": [
       "<div>\n",
       "<style scoped>\n",
       "    .dataframe tbody tr th:only-of-type {\n",
       "        vertical-align: middle;\n",
       "    }\n",
       "\n",
       "    .dataframe tbody tr th {\n",
       "        vertical-align: top;\n",
       "    }\n",
       "\n",
       "    .dataframe thead th {\n",
       "        text-align: right;\n",
       "    }\n",
       "</style>\n",
       "<table border=\"1\" class=\"dataframe\">\n",
       "  <thead>\n",
       "    <tr style=\"text-align: right;\">\n",
       "      <th></th>\n",
       "      <th>0</th>\n",
       "      <th>1</th>\n",
       "      <th>2</th>\n",
       "      <th>3</th>\n",
       "      <th>4</th>\n",
       "      <th>5</th>\n",
       "      <th>6</th>\n",
       "      <th>7</th>\n",
       "      <th>8</th>\n",
       "      <th>9</th>\n",
       "      <th>...</th>\n",
       "      <th>291</th>\n",
       "      <th>292</th>\n",
       "      <th>293</th>\n",
       "      <th>294</th>\n",
       "      <th>295</th>\n",
       "      <th>296</th>\n",
       "      <th>297</th>\n",
       "      <th>298</th>\n",
       "      <th>299</th>\n",
       "      <th>is_spam</th>\n",
       "    </tr>\n",
       "  </thead>\n",
       "  <tbody>\n",
       "    <tr>\n",
       "      <th>0</th>\n",
       "      <td>0</td>\n",
       "      <td>0</td>\n",
       "      <td>0</td>\n",
       "      <td>0</td>\n",
       "      <td>0</td>\n",
       "      <td>0</td>\n",
       "      <td>0</td>\n",
       "      <td>0</td>\n",
       "      <td>0</td>\n",
       "      <td>0</td>\n",
       "      <td>...</td>\n",
       "      <td>4254</td>\n",
       "      <td>4387</td>\n",
       "      <td>4387</td>\n",
       "      <td>4387</td>\n",
       "      <td>4387</td>\n",
       "      <td>6249</td>\n",
       "      <td>4268</td>\n",
       "      <td>4961</td>\n",
       "      <td>6740</td>\n",
       "      <td>0.0</td>\n",
       "    </tr>\n",
       "    <tr>\n",
       "      <th>1</th>\n",
       "      <td>0</td>\n",
       "      <td>0</td>\n",
       "      <td>0</td>\n",
       "      <td>0</td>\n",
       "      <td>0</td>\n",
       "      <td>0</td>\n",
       "      <td>0</td>\n",
       "      <td>0</td>\n",
       "      <td>0</td>\n",
       "      <td>0</td>\n",
       "      <td>...</td>\n",
       "      <td>4236</td>\n",
       "      <td>2262</td>\n",
       "      <td>1448</td>\n",
       "      <td>5933</td>\n",
       "      <td>5070</td>\n",
       "      <td>1754</td>\n",
       "      <td>6170</td>\n",
       "      <td>6702</td>\n",
       "      <td>6065</td>\n",
       "      <td>1.0</td>\n",
       "    </tr>\n",
       "    <tr>\n",
       "      <th>2</th>\n",
       "      <td>0</td>\n",
       "      <td>0</td>\n",
       "      <td>0</td>\n",
       "      <td>0</td>\n",
       "      <td>0</td>\n",
       "      <td>0</td>\n",
       "      <td>0</td>\n",
       "      <td>0</td>\n",
       "      <td>0</td>\n",
       "      <td>0</td>\n",
       "      <td>...</td>\n",
       "      <td>6430</td>\n",
       "      <td>1557</td>\n",
       "      <td>2911</td>\n",
       "      <td>1754</td>\n",
       "      <td>1351</td>\n",
       "      <td>1799</td>\n",
       "      <td>3242</td>\n",
       "      <td>9631</td>\n",
       "      <td>7310</td>\n",
       "      <td>1.0</td>\n",
       "    </tr>\n",
       "    <tr>\n",
       "      <th>3</th>\n",
       "      <td>0</td>\n",
       "      <td>0</td>\n",
       "      <td>0</td>\n",
       "      <td>0</td>\n",
       "      <td>0</td>\n",
       "      <td>0</td>\n",
       "      <td>0</td>\n",
       "      <td>0</td>\n",
       "      <td>0</td>\n",
       "      <td>0</td>\n",
       "      <td>...</td>\n",
       "      <td>1851</td>\n",
       "      <td>4268</td>\n",
       "      <td>9335</td>\n",
       "      <td>4268</td>\n",
       "      <td>4085</td>\n",
       "      <td>3712</td>\n",
       "      <td>5187</td>\n",
       "      <td>6582</td>\n",
       "      <td>1530</td>\n",
       "      <td>0.0</td>\n",
       "    </tr>\n",
       "    <tr>\n",
       "      <th>4</th>\n",
       "      <td>0</td>\n",
       "      <td>0</td>\n",
       "      <td>0</td>\n",
       "      <td>0</td>\n",
       "      <td>0</td>\n",
       "      <td>0</td>\n",
       "      <td>0</td>\n",
       "      <td>0</td>\n",
       "      <td>0</td>\n",
       "      <td>0</td>\n",
       "      <td>...</td>\n",
       "      <td>6170</td>\n",
       "      <td>6065</td>\n",
       "      <td>5070</td>\n",
       "      <td>5754</td>\n",
       "      <td>5562</td>\n",
       "      <td>2004</td>\n",
       "      <td>5305</td>\n",
       "      <td>3242</td>\n",
       "      <td>7463</td>\n",
       "      <td>1.0</td>\n",
       "    </tr>\n",
       "  </tbody>\n",
       "</table>\n",
       "<p>5 rows × 301 columns</p>\n",
       "</div>"
      ],
      "text/plain": [
       "   0  1  2  3  4  5  6  7  8  9  ...   291   292   293   294   295   296  \\\n",
       "0  0  0  0  0  0  0  0  0  0  0  ...  4254  4387  4387  4387  4387  6249   \n",
       "1  0  0  0  0  0  0  0  0  0  0  ...  4236  2262  1448  5933  5070  1754   \n",
       "2  0  0  0  0  0  0  0  0  0  0  ...  6430  1557  2911  1754  1351  1799   \n",
       "3  0  0  0  0  0  0  0  0  0  0  ...  1851  4268  9335  4268  4085  3712   \n",
       "4  0  0  0  0  0  0  0  0  0  0  ...  6170  6065  5070  5754  5562  2004   \n",
       "\n",
       "    297   298   299  is_spam  \n",
       "0  4268  4961  6740      0.0  \n",
       "1  6170  6702  6065      1.0  \n",
       "2  3242  9631  7310      1.0  \n",
       "3  5187  6582  1530      0.0  \n",
       "4  5305  3242  7463      1.0  \n",
       "\n",
       "[5 rows x 301 columns]"
      ]
     },
     "execution_count": 98,
     "metadata": {},
     "output_type": "execute_result"
    }
   ],
   "source": [
    "df_final.head()"
   ]
  },
  {
   "cell_type": "code",
   "execution_count": 99,
   "metadata": {},
   "outputs": [],
   "source": [
    "X = df_final.drop(\"is_spam\",axis=1)\n",
    "y = df_final[\"is_spam\"]"
   ]
  },
  {
   "cell_type": "code",
   "execution_count": 100,
   "metadata": {},
   "outputs": [],
   "source": [
    "X_train_val,X_test,y_train_val,y_test = train_test_split(X, y, random_state=42, test_size=0.45)\n",
    "\n",
    "X_train, X_val, y_train, y_val = train_test_split(X_train_val, y_train_val, random_state=42, test_size=0.50)"
   ]
  },
  {
   "cell_type": "code",
   "execution_count": 101,
   "metadata": {},
   "outputs": [
    {
     "name": "stderr",
     "output_type": "stream",
     "text": [
      "WARNING:absl:At this time, the v2.11+ optimizer `tf.keras.optimizers.Adam` runs slowly on M1/M2 Macs, please use the legacy Keras optimizer instead, located at `tf.keras.optimizers.legacy.Adam`.\n",
      "WARNING:absl:There is a known slowdown when using v2.11+ Keras optimizers on M1/M2 Macs. Falling back to the legacy Keras optimizer, i.e., `tf.keras.optimizers.legacy.Adam`.\n"
     ]
    },
    {
     "name": "stdout",
     "output_type": "stream",
     "text": [
      "Epoch 1/15\n",
      "32/32 [==============================] - 24s 706ms/step - loss: 0.5160 - accuracy: 0.7857 - val_loss: 0.3016 - val_accuracy: 0.9168\n",
      "Epoch 2/15\n",
      "32/32 [==============================] - 21s 671ms/step - loss: 0.1058 - accuracy: 0.9736 - val_loss: 0.1519 - val_accuracy: 0.9550\n",
      "Epoch 3/15\n",
      "32/32 [==============================] - 21s 649ms/step - loss: 0.0251 - accuracy: 0.9941 - val_loss: 0.1272 - val_accuracy: 0.9589\n",
      "Epoch 4/15\n",
      "32/32 [==============================] - 20s 643ms/step - loss: 0.0053 - accuracy: 0.9990 - val_loss: 0.1364 - val_accuracy: 0.9658\n",
      "Epoch 5/15\n",
      "32/32 [==============================] - 22s 676ms/step - loss: 8.4115e-04 - accuracy: 1.0000 - val_loss: 0.1270 - val_accuracy: 0.9697\n",
      "Epoch 6/15\n",
      "32/32 [==============================] - 22s 703ms/step - loss: 3.7511e-04 - accuracy: 1.0000 - val_loss: 0.1303 - val_accuracy: 0.9697\n",
      "Epoch 7/15\n",
      "32/32 [==============================] - 21s 640ms/step - loss: 2.2760e-04 - accuracy: 1.0000 - val_loss: 0.1376 - val_accuracy: 0.9706\n",
      "Epoch 8/15\n",
      "32/32 [==============================] - 21s 647ms/step - loss: 1.3375e-04 - accuracy: 1.0000 - val_loss: 0.1430 - val_accuracy: 0.9697\n",
      "Epoch 9/15\n",
      "32/32 [==============================] - 21s 663ms/step - loss: 1.0512e-04 - accuracy: 1.0000 - val_loss: 0.1444 - val_accuracy: 0.9697\n",
      "Epoch 10/15\n",
      "32/32 [==============================] - 21s 649ms/step - loss: 8.0738e-05 - accuracy: 1.0000 - val_loss: 0.1502 - val_accuracy: 0.9658\n",
      "Epoch 11/15\n",
      "32/32 [==============================] - 21s 659ms/step - loss: 7.3423e-05 - accuracy: 1.0000 - val_loss: 0.1586 - val_accuracy: 0.9648\n",
      "53/53 [==============================] - 8s 153ms/step - loss: 0.1103 - accuracy: 0.9719\n",
      "Loss: 0.11029970645904541\n",
      "Accuracy: 0.9719235301017761\n"
     ]
    }
   ],
   "source": [
    "# Define the model\n",
    "lstm_model = Sequential()\n",
    "feature_num = 1000\n",
    "lstm_model.add(Embedding(input_dim=vocab_size, output_dim=feature_num, input_length=sentence_len))\n",
    "lstm_model.add(LSTM(units=128))\n",
    "lstm_model.add(Dropout(0.4))\n",
    "lstm_model.add(Dense(units=80, activation='relu'))\n",
    "lstm_model.add(Dense(units=50, activation='relu'))\n",
    "lstm_model.add(Dense(units=1, activation='sigmoid'))\n",
    "\n",
    "# Compile the model\n",
    "lstm_model.compile(optimizer=Adam(learning_rate=0.001), loss='binary_crossentropy', metrics=['accuracy'])\n",
    "\n",
    "# Set up early stopping callback\n",
    "early_stopping = EarlyStopping(monitor='val_loss', patience=6, restore_best_weights=True)\n",
    "\n",
    "# Train the model with tuning options\n",
    "history = lstm_model.fit(X_train, y_train, validation_data=(X_val, y_val),\n",
    "                    epochs=15, batch_size=32, callbacks=[early_stopping])\n",
    "\n",
    "# Evaluate the model on the test data\n",
    "loss, accuracy = lstm_model.evaluate(X_test, y_test)\n",
    "\n",
    "# Print the loss and accuracy obtained\n",
    "print(\"Loss:\", loss)\n",
    "print(\"Accuracy:\", accuracy)"
   ]
  },
  {
   "cell_type": "code",
   "execution_count": 102,
   "metadata": {},
   "outputs": [
    {
     "name": "stdout",
     "output_type": "stream",
     "text": [
      "53/53 [==============================] - 9s 157ms/step\n"
     ]
    }
   ],
   "source": [
    "y_pred = lstm_model.predict(X_test)\n",
    "y_pred = (y_pred>0.5)"
   ]
  },
  {
   "cell_type": "code",
   "execution_count": 103,
   "metadata": {},
   "outputs": [
    {
     "name": "stdout",
     "output_type": "stream",
     "text": [
      "Test Score:97.19%\n",
      "              precision    recall  f1-score   support\n",
      "\n",
      "         0.0       0.98      0.96      0.97       834\n",
      "         1.0       0.96      0.98      0.97       840\n",
      "\n",
      "    accuracy                           0.97      1674\n",
      "   macro avg       0.97      0.97      0.97      1674\n",
      "weighted avg       0.97      0.97      0.97      1674\n",
      "\n"
     ]
    },
    {
     "data": {
      "text/plain": [
       "array([[802,  32],\n",
       "       [ 15, 825]])"
      ]
     },
     "execution_count": 103,
     "metadata": {},
     "output_type": "execute_result"
    },
    {
     "data": {
      "image/png": "[encoded data removed]",
      "text/plain": [
       "<Figure size 1200x800 with 2 Axes>"
      ]
     },
     "metadata": {},
     "output_type": "display_data"
    }
   ],
   "source": [
    "score=accuracy_score(y_test,y_pred)\n",
    "print(\"Test Score:{:.2f}%\".format(score*100))\n",
    "\n",
    "# Print the classification report\n",
    "print(classification_report(y_test, y_pred))\n",
    "\n",
    "cm = confusion_matrix(y_test,y_pred)\n",
    "fig = plt.figure(figsize=(12,8))\n",
    "sns.heatmap(\n",
    "    cm,\n",
    "    annot=True,\n",
    ")\n",
    "plt.title(\"Confusion Matrix\")\n",
    "cm"
   ]
  },
  {
   "cell_type": "code",
   "execution_count": 107,
   "metadata": {},
   "outputs": [
    {
     "name": "stdout",
     "output_type": "stream",
     "text": [
      "53/53 [==============================] - 9s 170ms/step\n",
      "ROC-AUC Score: 99.50%\n",
      "              precision    recall  f1-score   support\n",
      "\n",
      "         0.0       0.98      0.96      0.97       834\n",
      "         1.0       0.96      0.98      0.97       840\n",
      "\n",
      "    accuracy                           0.97      1674\n",
      "   macro avg       0.97      0.97      0.97      1674\n",
      "weighted avg       0.97      0.97      0.97      1674\n",
      "\n"
     ]
    },
    {
     "data": {
      "image/png": "[encoded data removed]",
      "text/plain": [
       "<Figure size 800x600 with 1 Axes>"
      ]
     },
     "metadata": {},
     "output_type": "display_data"
    }
   ],
   "source": [
    "\n",
    "# Calculate the predicted probabilities\n",
    "y_pred_proba = lstm_model.predict(X_test)\n",
    "\n",
    "# Calculate the ROC-AUC score\n",
    "roc_auc = roc_auc_score(y_test, y_pred_proba)\n",
    "\n",
    "print(\"ROC-AUC Score: {:.2f}%\".format(roc_auc * 100))\n",
    "\n",
    "# Convert probabilities to predicted labels\n",
    "y_pred = (y_pred_proba > 0.5).astype(int)\n",
    "\n",
    "# Print the classification report\n",
    "print(classification_report(y_test, y_pred))\n",
    "\n",
    "# Plot the ROC-AUC curve\n",
    "fpr, tpr, thresholds = roc_curve(y_test, y_pred_proba)\n",
    "\n",
    "plt.figure(figsize=(8, 6))\n",
    "plt.plot(fpr, tpr, label='ROC Curve (area = {:.2f})'.format(roc_auc))\n",
    "plt.plot([0, 1], [0, 1], 'k--')\n",
    "plt.xlim([0.0, 1.0])\n",
    "plt.ylim([0.0, 1.05])\n",
    "plt.xlabel('False Positive Rate')\n",
    "plt.ylabel('True Positive Rate')\n",
    "plt.title('Receiver Operating Characteristic')\n",
    "plt.legend(loc='lower right')\n",
    "plt.show()\n"
   ]
  },
  {
   "attachments": {},
   "cell_type": "markdown",
   "metadata": {},
   "source": [
    "### Observations:\n",
    "- The model achieves an impressive ROC-AUC score of 99.41%, indicating its high ability to distinguish between spam and non-spam emails.\n",
    "- The precision, recall, and F1-scores for both classes (spam and ham) are consistently high, demonstrating the model's effectiveness in accurately classifying emails.\n",
    "- The overall accuracy of the model is 97%, meaning that it correctly predicts the class for 97% of the test samples.\n",
    "- The macro-average and weighted-average F1-scores, which provide a balanced measure of the model's performance across both classes, are also at 97%.\n",
    "In summary, the model exhibits strong performance in classifying spam and ham emails, \n",
    "achieving high accuracy and well-balanced precision and recall values. \n",
    "The high ROC-AUC score further confirms its ability to effectively discriminate between the two classes."
   ]
  },
  {
   "cell_type": "code",
   "execution_count": 108,
   "metadata": {},
   "outputs": [
    {
     "name": "stderr",
     "output_type": "stream",
     "text": [
      "[nltk_data] Error loading stopwords: <urlopen error [SSL:\n",
      "[nltk_data]     CERTIFICATE_VERIFY_FAILED] certificate verify failed:\n",
      "[nltk_data]     unable to get local issuer certificate (_ssl.c:992)>\n"
     ]
    }
   ],
   "source": [
    "# Download stopwords if not already downloaded\n",
    "nltk.download('stopwords')\n",
    "\n",
    "# Function to classify a message as spam or not\n",
    "def classify_message(model, message):\n",
    "    # Tokenize the message into sentences\n",
    "    sentences = sent_tokenize(message)\n",
    "    \n",
    "    # Initialize an empty list to store processed sentences\n",
    "    processed_sentences = []\n",
    "    \n",
    "    # Iterate over each sentence\n",
    "    for sentence in sentences:\n",
    "        # Remove special characters and convert to lowercase\n",
    "        sentence = re.sub(\"[^a-zA-Z]\", \" \", sentence.lower())\n",
    "        \n",
    "        # Tokenize the sentence into words\n",
    "        words = word_tokenize(sentence)\n",
    "        \n",
    "        # Filter out stopwords and join the remaining words\n",
    "        filtered_words = [word for word in words if word not in stopwords.words('english')]\n",
    "        processed_sentence = \" \".join(filtered_words)\n",
    "        \n",
    "        # Append the processed sentence to the list\n",
    "        processed_sentences.append(processed_sentence)\n",
    "    \n",
    "    # Perform one-hot encoding on the processed sentences\n",
    "    one_hot_encodings = [one_hot(sentence, n=vocab_size) for sentence in processed_sentences]\n",
    "    \n",
    "    # Pad the sequences to have the same length\n",
    "    padded_sequences = pad_sequences(one_hot_encodings, maxlen=sentence_len, padding='pre')\n",
    "    \n",
    "    # Predict the label for the text using the model\n",
    "    predictions = model.predict(padded_sequences)\n",
    "    \n",
    "    # Classify each sentence and print the result\n",
    "    for i, prediction in enumerate(predictions):\n",
    "        if prediction > 0.5:\n",
    "            print(f\"Sentence {i+1}: It is a spam\")\n",
    "        else:\n",
    "            print(f\"Sentence {i+1}: It is not a spam\")\n"
   ]
  },
  {
   "cell_type": "code",
   "execution_count": 109,
   "metadata": {},
   "outputs": [],
   "source": [
    "message = \"New offer for gaming card in now online visit www.abc.com to get the offer\""
   ]
  },
  {
   "cell_type": "code",
   "execution_count": 110,
   "metadata": {},
   "outputs": [
    {
     "name": "stdout",
     "output_type": "stream",
     "text": [
      "1/1 [==============================] - 0s 41ms/step\n",
      "Sentence 1: It is a spam\n"
     ]
    }
   ],
   "source": [
    "classify_message(lstm_model,message)"
   ]
  },
  {
   "attachments": {},
   "cell_type": "markdown",
   "metadata": {},
   "source": [
    "Naive Bayes, SVM, and LSTM are three different types of classifiers, each with their own strengths and suitable use cases:\n",
    "\n",
    "- Naive Bayes Classifier: Naive Bayes is a probabilistic classifier that predicts the probability of a sample belonging to a specific class using Bayes' theorem. It assumes that features are conditionally independent given the class label. Naive Bayes classifiers are computationally efficient and work well with high-dimensional data and large datasets. They are commonly used in text classification, spam filtering, sentiment analysis, and document categorization.\n",
    "- SVM (Support Vector Machine): SVM is a binary classification algorithm that finds an optimal hyperplane in a high-dimensional space to separate classes. It can handle linear and non-linear decision boundaries using different kernel functions. SVM classifiers are effective for high-dimensional data and scenarios where the margin between classes is important. They are widely used in text classification, image recognition, and bioinformatics.\n",
    "- LSTM (Long Short-Term Memory): LSTM is a type of recurrent neural network (RNN) designed to capture long-term dependencies in sequential data. It is suitable for tasks involving sequences, such as natural language processing, speech recognition, and time series analysis. LSTMs can learn and remember patterns over long sequences, overcoming the limitations of traditional RNNs. They perform well in tasks like sentiment analysis, language translation, and text generation. However we tried to experiment how well would it be able to classify email using binary cross entropy classifier with 97% of accuracy on test data.\n",
    "\n",
    "Out of three MODELs we experimented, we can assume by the results that Navie Bayes Classifier works the best with 98.25% for the dataset and preprocessing techniques we have used."
   ]
  },
  {
   "attachments": {},
   "cell_type": "markdown",
   "metadata": {},
   "source": [
    "## REFRENCES\n",
    "1. Vidiyala, R. (2020) Detecting spam in emails, Medium. Available at: https://towardsdatascience.com/spam-detection-in-emails-de0398ea3b48 (Accessed: 06 July 2023). \n",
    "2. Ngawangchoeda (2021) Spam classifier using LSTM, Kaggle. Available at: https://www.kaggle.com/code/ngawangchoeda/spam-classifier-using-lstm (Accessed: 06 July 2023). \n",
    "3. Elhassouni (2021) Spam email classifier (98% accuracy), Kaggle. Available at: https://www.kaggle.com/code/elhassouni/spam-email-classifier-98-accuracy/notebook (Accessed: 06 July 2023). \n",
    "4. (No date) GitHub. Available at: https://github.com/ShresthaSudip/SMS_Spam_Detection_DNN_LSTM_BiLSTM/blob/master/NLP_SMS_Spam_Detection_FinalVersion_Downsampling_Dense_LSTM_BiLSTM.ipynb (Accessed: 07 July 2023). \n",
    "5. Wonduk (2023a) 📮EDA &amp; ML classification on Spam Email Dataset, Kaggle. Available at: https://www.kaggle.com/code/wonduk/eda-ml-classification-on-spam-email-dataset#2.EDA-on-features-(length-added) (Accessed: 07 July 2023). "
   ]
  }
 ],
 "metadata": {
  "kernelspec": {
   "display_name": "venv",
   "language": "python",
   "name": "python3"
  },
  "language_info": {
   "codemirror_mode": {
    "name": "ipython",
    "version": 3
   },
   "file_extension": ".py",
   "mimetype": "text/x-python",
   "name": "python",
   "nbconvert_exporter": "python",
   "pygments_lexer": "ipython3",
   "version": "3.11.0"
  },
  "orig_nbformat": 4
 },
 "nbformat": 4,
 "nbformat_minor": 2
}
