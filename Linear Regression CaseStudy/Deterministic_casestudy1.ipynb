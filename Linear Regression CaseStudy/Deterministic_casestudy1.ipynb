{
  "cells": [
    {
      "cell_type": "code",
      "execution_count": null,
      "metadata": {
        "id": "q6ghhF1ALpUO"
      },
      "outputs": [],
      "source": [
        "import numpy as np\n",
        "import matplotlib.pyplot as plt\n",
        "import math"
      ]
    },
    {
      "attachments": {},
      "cell_type": "markdown",
      "metadata": {},
      "source": [
        "Calculate the cost function of y' = 3x + 2, where (x,y) = {(1,6),(2,10),(3,10),(5,15),(7,20)},"
      ]
    },
    {
      "cell_type": "code",
      "execution_count": null,
      "metadata": {
        "id": "9gVJcAXULuww"
      },
      "outputs": [],
      "source": [
        "l1 = [1,2,3,5,7]\n",
        "l2 = [6,10,10,15,20]"
      ]
    },
    {
      "cell_type": "code",
      "execution_count": null,
      "metadata": {
        "id": "aKoIMMCxMFcK"
      },
      "outputs": [],
      "source": [
        "x = np.array(l1)\n",
        "y = np.array(l2)"
      ]
    },
    {
      "cell_type": "code",
      "execution_count": null,
      "metadata": {
        "id": "nevRJILVMHcv"
      },
      "outputs": [],
      "source": [
        "x_mean = x.mean()\n",
        "y_mean = y.mean()\n",
        "x_sum = sum(x)\n",
        "y_sum = sum(y)\n",
        "xy_sum = sum(x*y)\n",
        "x2_sum = sum(x ** 2)\n",
        "y2_sum = sum(y ** 2)\n",
        "\n",
        "m = (xy_sum - (y_mean * x_sum)) / \\\n",
        "    (x2_sum - (x_mean * x_sum)) #slope for the regression line\n",
        "\n",
        "b = y_mean - m * x_mean #y-intercept of the data points\n",
        " \n",
        "y_hat1 = m * x + b  #predicted data point.\n",
        "y_hat2 = 3 * x + 2  #predicted data point for the given problem."
      ]
    },
    {
      "cell_type": "code",
      "execution_count": null,
      "metadata": {
        "colab": {
          "base_uri": "https://localhost:8080/"
        },
        "id": "6c032y839CS6",
        "outputId": "2cd9464f-3d9e-449f-d7eb-ef486c1d74e1"
      },
      "outputs": [
        {
          "name": "stdout",
          "output_type": "stream",
          "text": [
            " value of m : 2.2155172413793105 and value of b : 4.224137931034481\n"
          ]
        }
      ],
      "source": [
        "print(f' value of m : {m} and value of b : {b}')"
      ]
    },
    {
      "cell_type": "code",
      "execution_count": null,
      "metadata": {
        "id": "wOfxslDVO1cU"
      },
      "outputs": [],
      "source": [
        "def rsqr(y, y_hat):\n",
        "    \"\"\"\n",
        "        The determination coefficient (square of the correlation) \n",
        "        shows how much variance is explained by the other variable\n",
        "        in between \"x\" and \"y\"\n",
        "    \"\"\"\n",
        "    r = math.sqrt(sum((y_hat- y.mean())**2)\\\n",
        "                      /sum((y-y.mean())**2))\n",
        "    R_sqr = r ** 2\n",
        "    return R_sqr\n",
        "\n",
        "# cost functons\n",
        "def rmse(y,y_hat):\n",
        "    \"\"\"\n",
        "    Finding the smallet set of distances.\n",
        "    Square rooting the sum of grossly inflated the values.\n",
        "    Root mean square error\n",
        "    \"\"\"\n",
        "    var = ((y_hat - y)**2).sum()\n",
        "    RMSE = math.sqrt(var/len(y))\n",
        "    return RMSE\n",
        "\n",
        "def mse(y, y_hat):\n",
        "    \"\"\"\n",
        "    Mean Square Error\n",
        "    \"\"\"\n",
        "    var = sum((y- y_hat)**2)\n",
        "    MSE = var/len(y)\n",
        "    return MSE"
      ]
    },
    {
      "cell_type": "code",
      "execution_count": null,
      "metadata": {
        "id": "q_8XIvCeQfGs"
      },
      "outputs": [],
      "source": [
        "cost_function1 = rmse(y, y_hat1)\n",
        "cost_function1_1 = rmse(y, y_hat2)\n",
        "cost_function2 = mse(y, y_hat1)\n",
        "cost_function2_1 = mse(y, y_hat2)"
      ]
    },
    {
      "cell_type": "code",
      "execution_count": null,
      "metadata": {
        "colab": {
          "base_uri": "https://localhost:8080/"
        },
        "id": "9pEKIH9JQ8Mo",
        "outputId": "6b7d1297-e36a-4218-f1ab-64756945db4d"
      },
      "outputs": [
        {
          "name": "stdout",
          "output_type": "stream",
          "text": [
            "Root mean square error for y' = 3x + 2 is : 1.9493588689617927\n",
            "Root mean square error for y' = mx + b is : 0.7645147209967176\n",
            "Mean square error for y' = 3x + 2 is : 3.8\n",
            "Mean square error for y' = mx + b is : 0.5844827586206889\n"
          ]
        }
      ],
      "source": [
        "print(f'Root mean square error for y\\' = 3x + 2 is : {cost_function1_1}')\n",
        "print(f'Root mean square error for y\\' = mx + b is : {cost_function1}')\n",
        "print(f'Mean square error for y\\' = 3x + 2 is : {cost_function2_1}')\n",
        "print(f'Mean square error for y\\' = mx + b is : {cost_function2}')"
      ]
    },
    {
      "cell_type": "code",
      "execution_count": null,
      "metadata": {
        "colab": {
          "base_uri": "https://localhost:8080/"
        },
        "id": "fl1oNU6ESSmv",
        "outputId": "e429fdbc-7dbf-4ee2-ae6e-e1cfaa4e13bd"
      },
      "outputs": [
        {
          "name": "stdout",
          "output_type": "stream",
          "text": [
            "The determinant coefficient for y' = mx + b is : 0.9749793339631554\n",
            "The determinant coefficient for y' = 3x + 2 is : 1.8030821917808222\n"
          ]
        }
      ],
      "source": [
        "title_label1 = 'y\\' = mx + b'\n",
        "title_label2 = 'y\\' = 3x + 2'\n",
        "\n",
        "corelation1 = rsqr(y, y_hat1)\n",
        "corelation2 = rsqr(y, y_hat2)\n",
        "\n",
        "print(f'The determinant coefficient for y\\' = mx + b is : {corelation1}')\n",
        "print(f'The determinant coefficient for y\\' = 3x + 2 is : {corelation2}')"
      ]
    },
    {
      "cell_type": "code",
      "execution_count": null,
      "metadata": {
        "id": "V9ecg63QTrKb"
      },
      "outputs": [],
      "source": [
        "def plot_graph(y, y_hat, title):\n",
        "    residuals = y_hat - y\n",
        "\n",
        "    fig = plt.figure()\n",
        "    # plt.figure(figsize=(14,14))\n",
        "    plt.scatter(x, y, marker='o', label='Y')\n",
        "    plt.plot(x, y_hat, label='y\\'', color='red') \n",
        "    plt.bar(x, residuals, width=0.9, label='residuals', color='green')\n",
        "    plt.legend()\n",
        "    plt.title(f'Linear Regression line for {title}')\n",
        "    plt.xlabel('x')\n",
        "    plt.ylabel('y')"
      ]
    },
    {
      "cell_type": "markdown",
      "metadata": {
        "id": "08Z9HOhhU5LU"
      },
      "source": []
    },
    {
      "cell_type": "code",
      "execution_count": null,
      "metadata": {
        "colab": {
          "base_uri": "https://localhost:8080/",
          "height": 573
        },
        "id": "zDtmadLFUZAt",
        "outputId": "c3df7064-ceb8-408a-fb49-664e649c265f"
      },
      "outputs": [
        {
          "data": {
            "image/png": "[encoded data removed]",
            "text/plain": [
              "<Figure size 432x288 with 1 Axes>"
            ]
          },
          "metadata": {
            "needs_background": "light"
          },
          "output_type": "display_data"
        },
        {
          "data": {
            "image/png": "[encoded data removed]",
            "text/plain": [
              "<Figure size 432x288 with 1 Axes>"
            ]
          },
          "metadata": {
            "needs_background": "light"
          },
          "output_type": "display_data"
        }
      ],
      "source": [
        "plot_graph(y, y_hat1, title_label1)\n",
        "plot_graph(y, y_hat2, title_label2)"
      ]
    },
    {
      "cell_type": "code",
      "execution_count": null,
      "metadata": {
        "colab": {
          "base_uri": "https://localhost:8080/"
        },
        "id": "VIRuDapJZHf4",
        "outputId": "92495c65-2ba7-4c8e-ff1a-3608423a02cc"
      },
      "outputs": [
        {
          "name": "stdout",
          "output_type": "stream",
          "text": [
            "The residual values of the data point for y' = mx + b is : (array([0.43965517, 1.34482759, 0.87068966, 0.30172414, 0.26724138]), array([ 0.43965517, -1.34482759,  0.87068966,  0.30172414, -0.26724138]))\n",
            "The residual values of the data point for y' = 3x + 2 is : (array([1, 2, 1, 2, 3]), array([-1, -2,  1,  2,  3]))\n"
          ]
        }
      ],
      "source": [
        "residuals1 = y_hat1 - y\n",
        "residuals2 = y_hat2 - y\n",
        "\n",
        "print(f'The residual values of the data point for y\\' = mx + b is : {abs(residuals1), residuals1}')\n",
        "print(f'The residual values of the data point for y\\' = 3x + 2 is : {abs(residuals2), residuals2}')\n"
      ]
    },
    {
      "cell_type": "code",
      "execution_count": null,
      "metadata": {
        "id": "U5jyYYfJvMx0"
      },
      "outputs": [],
      "source": [
        "def gradient_descent(m,b,alpha):\n",
        "    iterations = 100\n",
        "    n = len(x)\n",
        "    for _ in range(iterations):\n",
        "        y_pred = m * x + b\n",
        "        derivative_m = -(2/n) * sum(y * (y - y_pred))\n",
        "        derivative_b = -(2/n) * sum(y - y_pred)\n",
        "        m = m - alpha * derivative_m\n",
        "        b = b - alpha * derivative_b\n",
        "  \n",
        "    print(f'Values - m : {m}, b : {b}, over {iterations} with learning rate(alpha) : {alpha}')\n",
        "    y_pred = m * x + b\n",
        "\n",
        "    r1 = rsqr(y, y_pred)\n",
        "    print(f'The value of determinant coefficient r^2 is {r1}')\n",
        "\n",
        "    r2 = rmse(y, y_pred)\n",
        "    print(f'The value of root mean square error is {r2}')\n",
        "\n",
        "    \n",
        "    fig = plt.figure()\n",
        "    ax1 = fig.add_subplot(111)    \n",
        "    ax1.scatter(x,y,color ='blue', label='y', marker='o')\n",
        "    ax1.plot([min(x), max(x)], [min(y_pred), max(y_pred)], label='y\\'',color='red')\n",
        "    plt.legend()\n",
        "    plt.title('Linear Regression with Gradient Descent')\n",
        "    plt.xlabel('x-values')\n",
        "    plt.ylabel('y-values')\n",
        "    ax2 = ax1.twinx()"
      ]
    },
    {
      "cell_type": "code",
      "execution_count": null,
      "metadata": {
        "colab": {
          "base_uri": "https://localhost:8080/",
          "height": 675
        },
        "id": "zLnvGw7AxCxA",
        "outputId": "fba64409-cfcc-43e8-8725-3fba5d6823d9"
      },
      "outputs": [
        {
          "name": "stdout",
          "output_type": "stream",
          "text": [
            "Values - m : 2.2166256779638003, b : 4.224133911165291, over 100 with learning rate(alpha) : 1e-05\n",
            "The value of determinant coefficient r^2 is 0.9759558343068617\n",
            "The value of root mean square error is 0.7645288421456401\n",
            "Values - m : 2.9719466699836525, b : 1.99890294329924, over 100 with learning rate(alpha) : 1e-05\n",
            "The value of determinant coefficient r^2 is 1.7650069452980015\n",
            "The value of root mean square error is 1.8674417547268816\n"
          ]
        },
        {
          "data": {
            "image/png": "[encoded data removed]",
            "text/plain": [
              "<Figure size 432x288 with 2 Axes>"
            ]
          },
          "metadata": {
            "needs_background": "light"
          },
          "output_type": "display_data"
        },
        {
          "data": {
            "image/png": "[encoded data removed]",
            "text/plain": [
              "<Figure size 432x288 with 2 Axes>"
            ]
          },
          "metadata": {
            "needs_background": "light"
          },
          "output_type": "display_data"
        }
      ],
      "source": [
        "gradient_descent(m,b,0.00001) #assuming slope and intercept with learning rate(alpha)\n",
        "gradient_descent(3,2,0.00001) #taking slope and intercept as 3, 2 respectively with learning rate(alpha) "
      ]
    }
  ],
  "metadata": {
    "colab": {
      "collapsed_sections": [],
      "name": "casestudy1.ipynb",
      "provenance": []
    },
    "kernelspec": {
      "display_name": "Python 3",
      "name": "python3"
    },
    "language_info": {
      "name": "python"
    }
  },
  "nbformat": 4,
  "nbformat_minor": 0
}
