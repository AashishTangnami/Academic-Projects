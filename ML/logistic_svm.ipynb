{
  "cells": [
    {
      "attachments": {},
      "cell_type": "markdown",
      "metadata": {
        "id": "kBr0O-DG1BV3"
      },
      "source": [
        "# Case Study 1 - Classification\n",
        "\n",
        "## Aashish Tangnami \n"
      ]
    },
    {
      "cell_type": "markdown",
      "metadata": {
        "id": "wfkLQ-Q-G2wd"
      },
      "source": [
        "Dataset : who_data.csv\n",
        "\n",
        "Objective:\n",
        "- What are the different factors that influence the income of an individual?\n",
        "- To build a prediction model that can help the government formulate policies for the right pockets of the society. Use Logistic Regression and SVM. \n",
        "- Check the criteria for logistic regression and compare the results with SVM\n"
      ]
    },
    {
      "cell_type": "code",
      "execution_count": 1,
      "metadata": {
        "id": "KXEc5BmXDf6l"
      },
      "outputs": [],
      "source": [
        "# It removes all the warnings and depreciated warnings.\n",
        "import warnings \n",
        "warnings.filterwarnings('ignore')"
      ]
    },
    {
      "cell_type": "code",
      "execution_count": 2,
      "metadata": {
        "id": "9IBG0AoyFxDQ"
      },
      "outputs": [],
      "source": [
        "# Data Manipulation \n",
        "\n",
        "import pandas as pd\n",
        "import numpy as np\n",
        "\n",
        "# Data Visualization \n",
        "\n",
        "import matplotlib.pyplot as plt\n",
        "import seaborn as sns\n",
        "%matplotlib inline\n"
      ]
    },
    {
      "cell_type": "code",
      "execution_count": 3,
      "metadata": {
        "id": "AZgrhgBnGNYV"
      },
      "outputs": [],
      "source": [
        "# importing dataset as raw_data\n",
        "raw_data = pd.read_csv('/content/who_data.csv')"
      ]
    },
    {
      "cell_type": "code",
      "execution_count": 4,
      "metadata": {
        "colab": {
          "base_uri": "https://localhost:8080/",
          "height": 381
        },
        "id": "p6twi1LSGX_w",
        "outputId": "657e1841-acf9-43ba-f62b-8ee35782e15e"
      },
      "outputs": [
        {
          "data": {
            "text/html": [
              "\n",
              "  <div id=\"df-20981389-17a6-40fc-8cce-2de70db1c2cd\">\n",
              "    <div class=\"colab-df-container\">\n",
              "      <div>\n",
              "<style scoped>\n",
              "    .dataframe tbody tr th:only-of-type {\n",
              "        vertical-align: middle;\n",
              "    }\n",
              "\n",
              "    .dataframe tbody tr th {\n",
              "        vertical-align: top;\n",
              "    }\n",
              "\n",
              "    .dataframe thead th {\n",
              "        text-align: right;\n",
              "    }\n",
              "</style>\n",
              "<table border=\"1\" class=\"dataframe\">\n",
              "  <thead>\n",
              "    <tr style=\"text-align: right;\">\n",
              "      <th></th>\n",
              "      <th>age</th>\n",
              "      <th>workclass</th>\n",
              "      <th>fnlwgt</th>\n",
              "      <th>education</th>\n",
              "      <th>education-no. of years</th>\n",
              "      <th>marital status</th>\n",
              "      <th>occupation</th>\n",
              "      <th>race</th>\n",
              "      <th>sex</th>\n",
              "      <th>capital gain</th>\n",
              "      <th>capital loss</th>\n",
              "      <th>working hours per week</th>\n",
              "      <th>native-country</th>\n",
              "      <th>salary</th>\n",
              "    </tr>\n",
              "  </thead>\n",
              "  <tbody>\n",
              "    <tr>\n",
              "      <th>0</th>\n",
              "      <td>39</td>\n",
              "      <td>State-gov</td>\n",
              "      <td>77516</td>\n",
              "      <td>Bachelors</td>\n",
              "      <td>13</td>\n",
              "      <td>Never-married</td>\n",
              "      <td>Adm-clerical</td>\n",
              "      <td>White</td>\n",
              "      <td>Male</td>\n",
              "      <td>2174</td>\n",
              "      <td>0</td>\n",
              "      <td>40</td>\n",
              "      <td>United-States</td>\n",
              "      <td>&lt;=50K</td>\n",
              "    </tr>\n",
              "    <tr>\n",
              "      <th>1</th>\n",
              "      <td>50</td>\n",
              "      <td>Self-emp-not-inc</td>\n",
              "      <td>83311</td>\n",
              "      <td>Bachelors</td>\n",
              "      <td>13</td>\n",
              "      <td>Married-civ-spouse</td>\n",
              "      <td>Exec-managerial</td>\n",
              "      <td>White</td>\n",
              "      <td>Male</td>\n",
              "      <td>0</td>\n",
              "      <td>0</td>\n",
              "      <td>13</td>\n",
              "      <td>United-States</td>\n",
              "      <td>&lt;=50K</td>\n",
              "    </tr>\n",
              "    <tr>\n",
              "      <th>2</th>\n",
              "      <td>38</td>\n",
              "      <td>Private</td>\n",
              "      <td>215646</td>\n",
              "      <td>HS-grad</td>\n",
              "      <td>9</td>\n",
              "      <td>Divorced</td>\n",
              "      <td>Handlers-cleaners</td>\n",
              "      <td>White</td>\n",
              "      <td>Male</td>\n",
              "      <td>0</td>\n",
              "      <td>0</td>\n",
              "      <td>40</td>\n",
              "      <td>United-States</td>\n",
              "      <td>&lt;=50K</td>\n",
              "    </tr>\n",
              "    <tr>\n",
              "      <th>3</th>\n",
              "      <td>53</td>\n",
              "      <td>Private</td>\n",
              "      <td>234721</td>\n",
              "      <td>11th</td>\n",
              "      <td>7</td>\n",
              "      <td>Married-civ-spouse</td>\n",
              "      <td>Handlers-cleaners</td>\n",
              "      <td>Black</td>\n",
              "      <td>Male</td>\n",
              "      <td>0</td>\n",
              "      <td>0</td>\n",
              "      <td>40</td>\n",
              "      <td>United-States</td>\n",
              "      <td>&lt;=50K</td>\n",
              "    </tr>\n",
              "    <tr>\n",
              "      <th>4</th>\n",
              "      <td>28</td>\n",
              "      <td>Private</td>\n",
              "      <td>338409</td>\n",
              "      <td>Bachelors</td>\n",
              "      <td>13</td>\n",
              "      <td>Married-civ-spouse</td>\n",
              "      <td>Prof-specialty</td>\n",
              "      <td>Black</td>\n",
              "      <td>Female</td>\n",
              "      <td>0</td>\n",
              "      <td>0</td>\n",
              "      <td>40</td>\n",
              "      <td>Cuba</td>\n",
              "      <td>&lt;=50K</td>\n",
              "    </tr>\n",
              "    <tr>\n",
              "      <th>5</th>\n",
              "      <td>37</td>\n",
              "      <td>Private</td>\n",
              "      <td>284582</td>\n",
              "      <td>Masters</td>\n",
              "      <td>14</td>\n",
              "      <td>Married-civ-spouse</td>\n",
              "      <td>Exec-managerial</td>\n",
              "      <td>White</td>\n",
              "      <td>Female</td>\n",
              "      <td>0</td>\n",
              "      <td>0</td>\n",
              "      <td>40</td>\n",
              "      <td>United-States</td>\n",
              "      <td>&lt;=50K</td>\n",
              "    </tr>\n",
              "  </tbody>\n",
              "</table>\n",
              "</div>\n",
              "      <button class=\"colab-df-convert\" onclick=\"convertToInteractive('df-20981389-17a6-40fc-8cce-2de70db1c2cd')\"\n",
              "              title=\"Convert this dataframe to an interactive table.\"\n",
              "              style=\"display:none;\">\n",
              "        \n",
              "  <svg xmlns=\"http://www.w3.org/2000/svg\" height=\"24px\"viewBox=\"0 0 24 24\"\n",
              "       width=\"24px\">\n",
              "    <path d=\"M0 0h24v24H0V0z\" fill=\"none\"/>\n",
              "    <path d=\"M18.56 5.44l.94 2.06.94-2.06 2.06-.94-2.06-.94-.94-2.06-.94 2.06-2.06.94zm-11 1L8.5 8.5l.94-2.06 2.06-.94-2.06-.94L8.5 2.5l-.94 2.06-2.06.94zm10 10l.94 2.06.94-2.06 2.06-.94-2.06-.94-.94-2.06-.94 2.06-2.06.94z\"/><path d=\"M17.41 7.96l-1.37-1.37c-.4-.4-.92-.59-1.43-.59-.52 0-1.04.2-1.43.59L10.3 9.45l-7.72 7.72c-.78.78-.78 2.05 0 2.83L4 21.41c.39.39.9.59 1.41.59.51 0 1.02-.2 1.41-.59l7.78-7.78 2.81-2.81c.8-.78.8-2.07 0-2.86zM5.41 20L4 18.59l7.72-7.72 1.47 1.35L5.41 20z\"/>\n",
              "  </svg>\n",
              "      </button>\n",
              "      \n",
              "  <style>\n",
              "    .colab-df-container {\n",
              "      display:flex;\n",
              "      flex-wrap:wrap;\n",
              "      gap: 12px;\n",
              "    }\n",
              "\n",
              "    .colab-df-convert {\n",
              "      background-color: #E8F0FE;\n",
              "      border: none;\n",
              "      border-radius: 50%;\n",
              "      cursor: pointer;\n",
              "      display: none;\n",
              "      fill: #1967D2;\n",
              "      height: 32px;\n",
              "      padding: 0 0 0 0;\n",
              "      width: 32px;\n",
              "    }\n",
              "\n",
              "    .colab-df-convert:hover {\n",
              "      background-color: #E2EBFA;\n",
              "      box-shadow: 0px 1px 2px rgba(60, 64, 67, 0.3), 0px 1px 3px 1px rgba(60, 64, 67, 0.15);\n",
              "      fill: #174EA6;\n",
              "    }\n",
              "\n",
              "    [theme=dark] .colab-df-convert {\n",
              "      background-color: #3B4455;\n",
              "      fill: #D2E3FC;\n",
              "    }\n",
              "\n",
              "    [theme=dark] .colab-df-convert:hover {\n",
              "      background-color: #434B5C;\n",
              "      box-shadow: 0px 1px 3px 1px rgba(0, 0, 0, 0.15);\n",
              "      filter: drop-shadow(0px 1px 2px rgba(0, 0, 0, 0.3));\n",
              "      fill: #FFFFFF;\n",
              "    }\n",
              "  </style>\n",
              "\n",
              "      <script>\n",
              "        const buttonEl =\n",
              "          document.querySelector('#df-20981389-17a6-40fc-8cce-2de70db1c2cd button.colab-df-convert');\n",
              "        buttonEl.style.display =\n",
              "          google.colab.kernel.accessAllowed ? 'block' : 'none';\n",
              "\n",
              "        async function convertToInteractive(key) {\n",
              "          const element = document.querySelector('#df-20981389-17a6-40fc-8cce-2de70db1c2cd');\n",
              "          const dataTable =\n",
              "            await google.colab.kernel.invokeFunction('convertToInteractive',\n",
              "                                                     [key], {});\n",
              "          if (!dataTable) return;\n",
              "\n",
              "          const docLinkHtml = 'Like what you see? Visit the ' +\n",
              "            '<a target=\"_blank\" href=https://colab.research.google.com/notebooks/data_table.ipynb>data table notebook</a>'\n",
              "            + ' to learn more about interactive tables.';\n",
              "          element.innerHTML = '';\n",
              "          dataTable['output_type'] = 'display_data';\n",
              "          await google.colab.output.renderOutput(dataTable, element);\n",
              "          const docLink = document.createElement('div');\n",
              "          docLink.innerHTML = docLinkHtml;\n",
              "          element.appendChild(docLink);\n",
              "        }\n",
              "      </script>\n",
              "    </div>\n",
              "  </div>\n",
              "  "
            ],
            "text/plain": [
              "   age          workclass  fnlwgt   education  education-no. of years  \\\n",
              "0   39          State-gov   77516   Bachelors                      13   \n",
              "1   50   Self-emp-not-inc   83311   Bachelors                      13   \n",
              "2   38            Private  215646     HS-grad                       9   \n",
              "3   53            Private  234721        11th                       7   \n",
              "4   28            Private  338409   Bachelors                      13   \n",
              "5   37            Private  284582     Masters                      14   \n",
              "\n",
              "        marital status          occupation    race      sex  capital gain  \\\n",
              "0        Never-married        Adm-clerical   White     Male          2174   \n",
              "1   Married-civ-spouse     Exec-managerial   White     Male             0   \n",
              "2             Divorced   Handlers-cleaners   White     Male             0   \n",
              "3   Married-civ-spouse   Handlers-cleaners   Black     Male             0   \n",
              "4   Married-civ-spouse      Prof-specialty   Black   Female             0   \n",
              "5   Married-civ-spouse     Exec-managerial   White   Female             0   \n",
              "\n",
              "   capital loss  working hours per week  native-country  salary  \n",
              "0             0                      40   United-States   <=50K  \n",
              "1             0                      13   United-States   <=50K  \n",
              "2             0                      40   United-States   <=50K  \n",
              "3             0                      40   United-States   <=50K  \n",
              "4             0                      40            Cuba   <=50K  \n",
              "5             0                      40   United-States   <=50K  "
            ]
          },
          "execution_count": 4,
          "metadata": {},
          "output_type": "execute_result"
        }
      ],
      "source": [
        "raw_data.head(6)"
      ]
    },
    {
      "cell_type": "code",
      "execution_count": 5,
      "metadata": {
        "colab": {
          "base_uri": "https://localhost:8080/"
        },
        "id": "_yBuSj2iGih8",
        "outputId": "bffe94e7-907d-4928-9410-68e90a5bcecb"
      },
      "outputs": [
        {
          "name": "stdout",
          "output_type": "stream",
          "text": [
            "<class 'pandas.core.frame.DataFrame'>\n",
            "RangeIndex: 32561 entries, 0 to 32560\n",
            "Data columns (total 14 columns):\n",
            " #   Column                  Non-Null Count  Dtype \n",
            "---  ------                  --------------  ----- \n",
            " 0   age                     32561 non-null  int64 \n",
            " 1   workclass               32561 non-null  object\n",
            " 2   fnlwgt                  32561 non-null  int64 \n",
            " 3   education               32561 non-null  object\n",
            " 4   education-no. of years  32561 non-null  int64 \n",
            " 5   marital status          32561 non-null  object\n",
            " 6   occupation              32561 non-null  object\n",
            " 7   race                    32561 non-null  object\n",
            " 8   sex                     32561 non-null  object\n",
            " 9   capital gain            32561 non-null  int64 \n",
            " 10  capital loss            32561 non-null  int64 \n",
            " 11  working hours per week  32561 non-null  int64 \n",
            " 12  native-country          32561 non-null  object\n",
            " 13  salary                  32561 non-null  object\n",
            "dtypes: int64(6), object(8)\n",
            "memory usage: 3.5+ MB\n"
          ]
        }
      ],
      "source": [
        "# raw data information about its data type and value counts.\n",
        "raw_data.info()"
      ]
    },
    {
      "cell_type": "markdown",
      "metadata": {
        "id": "TAUTzmo4HO92"
      },
      "source": [
        "Observations:\n",
        "- There are total 32561 row values, where as no null values are detected.\n",
        "- Data type (dtype) with integer are only 6 features : Age, Final Weight, Education Number, Capital Gain, Capital Loss and Hours Per Week.\n",
        "- Rest of the 8 features are object dtypes."
      ]
    },
    {
      "cell_type": "code",
      "execution_count": 6,
      "metadata": {
        "id": "WxJlSpXHIPsy"
      },
      "outputs": [],
      "source": [
        "# statistical analysis of the raw_data.\n",
        "cmsd_analysis = raw_data.describe()"
      ]
    },
    {
      "cell_type": "code",
      "execution_count": 7,
      "metadata": {
        "colab": {
          "base_uri": "https://localhost:8080/",
          "height": 235
        },
        "id": "Ld6sMk3EI1MV",
        "outputId": "f95607c4-19a5-4980-c836-0c48a0647466"
      },
      "outputs": [
        {
          "data": {
            "text/html": [
              "\n",
              "  <div id=\"df-804248c0-e718-4c1e-b8bc-0080e2a7a241\">\n",
              "    <div class=\"colab-df-container\">\n",
              "      <div>\n",
              "<style scoped>\n",
              "    .dataframe tbody tr th:only-of-type {\n",
              "        vertical-align: middle;\n",
              "    }\n",
              "\n",
              "    .dataframe tbody tr th {\n",
              "        vertical-align: top;\n",
              "    }\n",
              "\n",
              "    .dataframe thead th {\n",
              "        text-align: right;\n",
              "    }\n",
              "</style>\n",
              "<table border=\"1\" class=\"dataframe\">\n",
              "  <thead>\n",
              "    <tr style=\"text-align: right;\">\n",
              "      <th></th>\n",
              "      <th>count</th>\n",
              "      <th>mean</th>\n",
              "      <th>std</th>\n",
              "      <th>min</th>\n",
              "      <th>25%</th>\n",
              "      <th>50%</th>\n",
              "      <th>75%</th>\n",
              "      <th>max</th>\n",
              "    </tr>\n",
              "  </thead>\n",
              "  <tbody>\n",
              "    <tr>\n",
              "      <th>age</th>\n",
              "      <td>32561.0</td>\n",
              "      <td>38.581647</td>\n",
              "      <td>13.640433</td>\n",
              "      <td>17.0</td>\n",
              "      <td>28.0</td>\n",
              "      <td>37.0</td>\n",
              "      <td>48.0</td>\n",
              "      <td>90.0</td>\n",
              "    </tr>\n",
              "    <tr>\n",
              "      <th>fnlwgt</th>\n",
              "      <td>32561.0</td>\n",
              "      <td>189778.366512</td>\n",
              "      <td>105549.977697</td>\n",
              "      <td>12285.0</td>\n",
              "      <td>117827.0</td>\n",
              "      <td>178356.0</td>\n",
              "      <td>237051.0</td>\n",
              "      <td>1484705.0</td>\n",
              "    </tr>\n",
              "    <tr>\n",
              "      <th>education-no. of years</th>\n",
              "      <td>32561.0</td>\n",
              "      <td>10.080679</td>\n",
              "      <td>2.572720</td>\n",
              "      <td>1.0</td>\n",
              "      <td>9.0</td>\n",
              "      <td>10.0</td>\n",
              "      <td>12.0</td>\n",
              "      <td>16.0</td>\n",
              "    </tr>\n",
              "    <tr>\n",
              "      <th>capital gain</th>\n",
              "      <td>32561.0</td>\n",
              "      <td>1077.648844</td>\n",
              "      <td>7385.292085</td>\n",
              "      <td>0.0</td>\n",
              "      <td>0.0</td>\n",
              "      <td>0.0</td>\n",
              "      <td>0.0</td>\n",
              "      <td>99999.0</td>\n",
              "    </tr>\n",
              "    <tr>\n",
              "      <th>capital loss</th>\n",
              "      <td>32561.0</td>\n",
              "      <td>87.303830</td>\n",
              "      <td>402.960219</td>\n",
              "      <td>0.0</td>\n",
              "      <td>0.0</td>\n",
              "      <td>0.0</td>\n",
              "      <td>0.0</td>\n",
              "      <td>4356.0</td>\n",
              "    </tr>\n",
              "    <tr>\n",
              "      <th>working hours per week</th>\n",
              "      <td>32561.0</td>\n",
              "      <td>40.437456</td>\n",
              "      <td>12.347429</td>\n",
              "      <td>1.0</td>\n",
              "      <td>40.0</td>\n",
              "      <td>40.0</td>\n",
              "      <td>45.0</td>\n",
              "      <td>99.0</td>\n",
              "    </tr>\n",
              "  </tbody>\n",
              "</table>\n",
              "</div>\n",
              "      <button class=\"colab-df-convert\" onclick=\"convertToInteractive('df-804248c0-e718-4c1e-b8bc-0080e2a7a241')\"\n",
              "              title=\"Convert this dataframe to an interactive table.\"\n",
              "              style=\"display:none;\">\n",
              "        \n",
              "  <svg xmlns=\"http://www.w3.org/2000/svg\" height=\"24px\"viewBox=\"0 0 24 24\"\n",
              "       width=\"24px\">\n",
              "    <path d=\"M0 0h24v24H0V0z\" fill=\"none\"/>\n",
              "    <path d=\"M18.56 5.44l.94 2.06.94-2.06 2.06-.94-2.06-.94-.94-2.06-.94 2.06-2.06.94zm-11 1L8.5 8.5l.94-2.06 2.06-.94-2.06-.94L8.5 2.5l-.94 2.06-2.06.94zm10 10l.94 2.06.94-2.06 2.06-.94-2.06-.94-.94-2.06-.94 2.06-2.06.94z\"/><path d=\"M17.41 7.96l-1.37-1.37c-.4-.4-.92-.59-1.43-.59-.52 0-1.04.2-1.43.59L10.3 9.45l-7.72 7.72c-.78.78-.78 2.05 0 2.83L4 21.41c.39.39.9.59 1.41.59.51 0 1.02-.2 1.41-.59l7.78-7.78 2.81-2.81c.8-.78.8-2.07 0-2.86zM5.41 20L4 18.59l7.72-7.72 1.47 1.35L5.41 20z\"/>\n",
              "  </svg>\n",
              "      </button>\n",
              "      \n",
              "  <style>\n",
              "    .colab-df-container {\n",
              "      display:flex;\n",
              "      flex-wrap:wrap;\n",
              "      gap: 12px;\n",
              "    }\n",
              "\n",
              "    .colab-df-convert {\n",
              "      background-color: #E8F0FE;\n",
              "      border: none;\n",
              "      border-radius: 50%;\n",
              "      cursor: pointer;\n",
              "      display: none;\n",
              "      fill: #1967D2;\n",
              "      height: 32px;\n",
              "      padding: 0 0 0 0;\n",
              "      width: 32px;\n",
              "    }\n",
              "\n",
              "    .colab-df-convert:hover {\n",
              "      background-color: #E2EBFA;\n",
              "      box-shadow: 0px 1px 2px rgba(60, 64, 67, 0.3), 0px 1px 3px 1px rgba(60, 64, 67, 0.15);\n",
              "      fill: #174EA6;\n",
              "    }\n",
              "\n",
              "    [theme=dark] .colab-df-convert {\n",
              "      background-color: #3B4455;\n",
              "      fill: #D2E3FC;\n",
              "    }\n",
              "\n",
              "    [theme=dark] .colab-df-convert:hover {\n",
              "      background-color: #434B5C;\n",
              "      box-shadow: 0px 1px 3px 1px rgba(0, 0, 0, 0.15);\n",
              "      filter: drop-shadow(0px 1px 2px rgba(0, 0, 0, 0.3));\n",
              "      fill: #FFFFFF;\n",
              "    }\n",
              "  </style>\n",
              "\n",
              "      <script>\n",
              "        const buttonEl =\n",
              "          document.querySelector('#df-804248c0-e718-4c1e-b8bc-0080e2a7a241 button.colab-df-convert');\n",
              "        buttonEl.style.display =\n",
              "          google.colab.kernel.accessAllowed ? 'block' : 'none';\n",
              "\n",
              "        async function convertToInteractive(key) {\n",
              "          const element = document.querySelector('#df-804248c0-e718-4c1e-b8bc-0080e2a7a241');\n",
              "          const dataTable =\n",
              "            await google.colab.kernel.invokeFunction('convertToInteractive',\n",
              "                                                     [key], {});\n",
              "          if (!dataTable) return;\n",
              "\n",
              "          const docLinkHtml = 'Like what you see? Visit the ' +\n",
              "            '<a target=\"_blank\" href=https://colab.research.google.com/notebooks/data_table.ipynb>data table notebook</a>'\n",
              "            + ' to learn more about interactive tables.';\n",
              "          element.innerHTML = '';\n",
              "          dataTable['output_type'] = 'display_data';\n",
              "          await google.colab.output.renderOutput(dataTable, element);\n",
              "          const docLink = document.createElement('div');\n",
              "          docLink.innerHTML = docLinkHtml;\n",
              "          element.appendChild(docLink);\n",
              "        }\n",
              "      </script>\n",
              "    </div>\n",
              "  </div>\n",
              "  "
            ],
            "text/plain": [
              "                          count           mean            std      min  \\\n",
              "age                     32561.0      38.581647      13.640433     17.0   \n",
              "fnlwgt                  32561.0  189778.366512  105549.977697  12285.0   \n",
              "education-no. of years  32561.0      10.080679       2.572720      1.0   \n",
              "capital gain            32561.0    1077.648844    7385.292085      0.0   \n",
              "capital loss            32561.0      87.303830     402.960219      0.0   \n",
              "working hours per week  32561.0      40.437456      12.347429      1.0   \n",
              "\n",
              "                             25%       50%       75%        max  \n",
              "age                         28.0      37.0      48.0       90.0  \n",
              "fnlwgt                  117827.0  178356.0  237051.0  1484705.0  \n",
              "education-no. of years       9.0      10.0      12.0       16.0  \n",
              "capital gain                 0.0       0.0       0.0    99999.0  \n",
              "capital loss                 0.0       0.0       0.0     4356.0  \n",
              "working hours per week      40.0      40.0      45.0       99.0  "
            ]
          },
          "execution_count": 7,
          "metadata": {},
          "output_type": "execute_result"
        }
      ],
      "source": [
        "# transposing the data.\n",
        "cmsd_analysis.T"
      ]
    },
    {
      "cell_type": "markdown",
      "metadata": {
        "id": "Rpy4RF5tJYeJ"
      },
      "source": [
        "Obervations:\n",
        "\n",
        "1. Average age is 37 while minimum and maximum age of people in the dataset is 19 and 90 years respectively.\n",
        "2. Most of the people on record has studied 10 years in average while minimum and maximum years spent on education is 1 and 16 respectively.\n",
        "3. People with minimum capital gain of 0 and maximum gain of 99999 for the range of age 19-90 seems odd. \n",
        "4. The number of hours spent per week varies between 1 to 99 and the average being 40 hours which also seems odd. \n",
        "\n",
        "We can assume but not conclude that there is error in data collection."
      ]
    },
    {
      "cell_type": "code",
      "execution_count": 8,
      "metadata": {
        "colab": {
          "base_uri": "https://localhost:8080/"
        },
        "id": "CFpHJKNMOb_d",
        "outputId": "0770e90c-8815-4b8b-8b58-57b110ac8f67"
      },
      "outputs": [
        {
          "name": "stdout",
          "output_type": "stream",
          "text": [
            "workclass [' State-gov' ' Self-emp-not-inc' ' Private' ' Federal-gov' ' Local-gov'\n",
            " ' ?' ' Self-emp-inc' ' Without-pay' ' Never-worked']\n",
            "education [' Bachelors' ' HS-grad' ' 11th' ' Masters' ' 9th' ' Some-college'\n",
            " ' Assoc-acdm' ' Assoc-voc' ' 7th-8th' ' Doctorate' ' Prof-school'\n",
            " ' 5th-6th' ' 10th' ' 1st-4th' ' Preschool' ' 12th']\n",
            "marital status [' Never-married' ' Married-civ-spouse' ' Divorced'\n",
            " ' Married-spouse-absent' ' Separated' ' Married-AF-spouse' ' Widowed']\n",
            "occupation [' Adm-clerical' ' Exec-managerial' ' Handlers-cleaners' ' Prof-specialty'\n",
            " ' Other-service' ' Sales' ' Craft-repair' ' Transport-moving'\n",
            " ' Farming-fishing' ' Machine-op-inspct' ' Tech-support' ' ?'\n",
            " ' Protective-serv' ' Armed-Forces' ' Priv-house-serv']\n",
            "race [' White' ' Black' ' Asian-Pac-Islander' ' Amer-Indian-Eskimo' ' Other']\n",
            "gender [' Male' ' Female']\n",
            "native-country [' United-States' ' Cuba' ' Jamaica' ' India' ' ?' ' Mexico' ' South'\n",
            " ' Puerto-Rico' ' Honduras' ' England' ' Canada' ' Germany' ' Iran'\n",
            " ' Philippines' ' Italy' ' Poland' ' Columbia' ' Cambodia' ' Thailand'\n",
            " ' Ecuador' ' Laos' ' Taiwan' ' Haiti' ' Portugal' ' Dominican-Republic'\n",
            " ' El-Salvador' ' France' ' Guatemala' ' China' ' Japan' ' Yugoslavia'\n",
            " ' Peru' ' Outlying-US(Guam-USVI-etc)' ' Scotland' ' Trinadad&Tobago'\n",
            " ' Greece' ' Nicaragua' ' Vietnam' ' Hong' ' Ireland' ' Hungary'\n",
            " ' Holand-Netherlands']\n"
          ]
        }
      ],
      "source": [
        "# printing the values of the object datatypes.\n",
        "\n",
        "print('workclass',raw_data.workclass.unique())\n",
        "print('education',raw_data.education.unique())\n",
        "print('marital status',raw_data['marital status'].unique())\n",
        "print('occupation',raw_data.occupation.unique())\n",
        "print('race',raw_data.race.unique())\n",
        "print('gender',raw_data.sex.unique())\n",
        "print('native-country',raw_data['native-country'].unique())"
      ]
    },
    {
      "cell_type": "markdown",
      "metadata": {
        "id": "fuoAZVS-Qr-P"
      },
      "source": [
        "Observations:\n",
        "1. We can see feature value '?' in three different columns: workclass, occupation and native-country.\n",
        "2. The '?' value should be either dropped or replaced with some values or transformed.\n",
        "\n",
        "We are observing the Model with data by droping such values and transforming them.\n",
        "\n"
      ]
    },
    {
      "cell_type": "code",
      "execution_count": 9,
      "metadata": {
        "id": "UnRb15tROZ1L"
      },
      "outputs": [],
      "source": [
        "# cloning the raw_data into cloned_raw_data for future use before droping nan values.\n",
        "cloned_raw_data = raw_data.copy()\n",
        "\n",
        "# replacing the values of ? with nan \n",
        "raw_data['workclass'] = raw_data['workclass'].replace(' ?',np.nan)\n",
        "raw_data['occupation'] = raw_data['occupation'].replace(' ?',np.nan)\n",
        "raw_data['native-country'] = raw_data['native-country'].replace(' ?',np.nan)"
      ]
    },
    {
      "cell_type": "markdown",
      "metadata": {
        "id": "Qby8s_qjSnyn"
      },
      "source": []
    },
    {
      "cell_type": "code",
      "execution_count": 10,
      "metadata": {
        "colab": {
          "base_uri": "https://localhost:8080/"
        },
        "id": "sOoiOfjWSqpU",
        "outputId": "92dd7064-0e39-4346-d818-3e4d28a46e3f"
      },
      "outputs": [
        {
          "name": "stdout",
          "output_type": "stream",
          "text": [
            "<class 'pandas.core.frame.DataFrame'>\n",
            "RangeIndex: 32561 entries, 0 to 32560\n",
            "Data columns (total 14 columns):\n",
            " #   Column                  Non-Null Count  Dtype \n",
            "---  ------                  --------------  ----- \n",
            " 0   age                     32561 non-null  int64 \n",
            " 1   workclass               30725 non-null  object\n",
            " 2   fnlwgt                  32561 non-null  int64 \n",
            " 3   education               32561 non-null  object\n",
            " 4   education-no. of years  32561 non-null  int64 \n",
            " 5   marital status          32561 non-null  object\n",
            " 6   occupation              30718 non-null  object\n",
            " 7   race                    32561 non-null  object\n",
            " 8   sex                     32561 non-null  object\n",
            " 9   capital gain            32561 non-null  int64 \n",
            " 10  capital loss            32561 non-null  int64 \n",
            " 11  working hours per week  32561 non-null  int64 \n",
            " 12  native-country          31978 non-null  object\n",
            " 13  salary                  32561 non-null  object\n",
            "dtypes: int64(6), object(8)\n",
            "memory usage: 3.5+ MB\n"
          ]
        }
      ],
      "source": [
        "raw_data.info()"
      ]
    },
    {
      "cell_type": "code",
      "execution_count": 11,
      "metadata": {
        "colab": {
          "base_uri": "https://localhost:8080/"
        },
        "id": "RFsq7denTUIU",
        "outputId": "e540cffe-5815-4239-eff6-527f893ca8d0"
      },
      "outputs": [
        {
          "name": "stdout",
          "output_type": "stream",
          "text": [
            "<class 'pandas.core.frame.DataFrame'>\n",
            "Int64Index: 30162 entries, 0 to 32560\n",
            "Data columns (total 14 columns):\n",
            " #   Column                  Non-Null Count  Dtype \n",
            "---  ------                  --------------  ----- \n",
            " 0   age                     30162 non-null  int64 \n",
            " 1   workclass               30162 non-null  object\n",
            " 2   fnlwgt                  30162 non-null  int64 \n",
            " 3   education               30162 non-null  object\n",
            " 4   education-no. of years  30162 non-null  int64 \n",
            " 5   marital status          30162 non-null  object\n",
            " 6   occupation              30162 non-null  object\n",
            " 7   race                    30162 non-null  object\n",
            " 8   sex                     30162 non-null  object\n",
            " 9   capital gain            30162 non-null  int64 \n",
            " 10  capital loss            30162 non-null  int64 \n",
            " 11  working hours per week  30162 non-null  int64 \n",
            " 12  native-country          30162 non-null  object\n",
            " 13  salary                  30162 non-null  object\n",
            "dtypes: int64(6), object(8)\n",
            "memory usage: 3.5+ MB\n"
          ]
        }
      ],
      "source": [
        "# droping the Nan values.\n",
        "raw_data = raw_data.dropna(axis=0)\n",
        "raw_data.info()"
      ]
    },
    {
      "cell_type": "code",
      "execution_count": 12,
      "metadata": {
        "colab": {
          "base_uri": "https://localhost:8080/",
          "height": 235
        },
        "id": "vEVpcmkRUTk5",
        "outputId": "19a3924f-be98-422d-86c5-38862f405fd0"
      },
      "outputs": [
        {
          "data": {
            "text/html": [
              "\n",
              "  <div id=\"df-41f97604-8faa-4a21-9adb-f4b6c9cc9a60\">\n",
              "    <div class=\"colab-df-container\">\n",
              "      <div>\n",
              "<style scoped>\n",
              "    .dataframe tbody tr th:only-of-type {\n",
              "        vertical-align: middle;\n",
              "    }\n",
              "\n",
              "    .dataframe tbody tr th {\n",
              "        vertical-align: top;\n",
              "    }\n",
              "\n",
              "    .dataframe thead th {\n",
              "        text-align: right;\n",
              "    }\n",
              "</style>\n",
              "<table border=\"1\" class=\"dataframe\">\n",
              "  <thead>\n",
              "    <tr style=\"text-align: right;\">\n",
              "      <th></th>\n",
              "      <th>count</th>\n",
              "      <th>mean</th>\n",
              "      <th>std</th>\n",
              "      <th>min</th>\n",
              "      <th>25%</th>\n",
              "      <th>50%</th>\n",
              "      <th>75%</th>\n",
              "      <th>max</th>\n",
              "    </tr>\n",
              "  </thead>\n",
              "  <tbody>\n",
              "    <tr>\n",
              "      <th>age</th>\n",
              "      <td>30162.0</td>\n",
              "      <td>38.437902</td>\n",
              "      <td>13.134665</td>\n",
              "      <td>17.0</td>\n",
              "      <td>28.00</td>\n",
              "      <td>37.0</td>\n",
              "      <td>47.0</td>\n",
              "      <td>90.0</td>\n",
              "    </tr>\n",
              "    <tr>\n",
              "      <th>fnlwgt</th>\n",
              "      <td>30162.0</td>\n",
              "      <td>189793.833930</td>\n",
              "      <td>105652.971529</td>\n",
              "      <td>13769.0</td>\n",
              "      <td>117627.25</td>\n",
              "      <td>178425.0</td>\n",
              "      <td>237628.5</td>\n",
              "      <td>1484705.0</td>\n",
              "    </tr>\n",
              "    <tr>\n",
              "      <th>education-no. of years</th>\n",
              "      <td>30162.0</td>\n",
              "      <td>10.121312</td>\n",
              "      <td>2.549995</td>\n",
              "      <td>1.0</td>\n",
              "      <td>9.00</td>\n",
              "      <td>10.0</td>\n",
              "      <td>13.0</td>\n",
              "      <td>16.0</td>\n",
              "    </tr>\n",
              "    <tr>\n",
              "      <th>capital gain</th>\n",
              "      <td>30162.0</td>\n",
              "      <td>1092.007858</td>\n",
              "      <td>7406.346497</td>\n",
              "      <td>0.0</td>\n",
              "      <td>0.00</td>\n",
              "      <td>0.0</td>\n",
              "      <td>0.0</td>\n",
              "      <td>99999.0</td>\n",
              "    </tr>\n",
              "    <tr>\n",
              "      <th>capital loss</th>\n",
              "      <td>30162.0</td>\n",
              "      <td>88.372489</td>\n",
              "      <td>404.298370</td>\n",
              "      <td>0.0</td>\n",
              "      <td>0.00</td>\n",
              "      <td>0.0</td>\n",
              "      <td>0.0</td>\n",
              "      <td>4356.0</td>\n",
              "    </tr>\n",
              "    <tr>\n",
              "      <th>working hours per week</th>\n",
              "      <td>30162.0</td>\n",
              "      <td>40.931238</td>\n",
              "      <td>11.979984</td>\n",
              "      <td>1.0</td>\n",
              "      <td>40.00</td>\n",
              "      <td>40.0</td>\n",
              "      <td>45.0</td>\n",
              "      <td>99.0</td>\n",
              "    </tr>\n",
              "  </tbody>\n",
              "</table>\n",
              "</div>\n",
              "      <button class=\"colab-df-convert\" onclick=\"convertToInteractive('df-41f97604-8faa-4a21-9adb-f4b6c9cc9a60')\"\n",
              "              title=\"Convert this dataframe to an interactive table.\"\n",
              "              style=\"display:none;\">\n",
              "        \n",
              "  <svg xmlns=\"http://www.w3.org/2000/svg\" height=\"24px\"viewBox=\"0 0 24 24\"\n",
              "       width=\"24px\">\n",
              "    <path d=\"M0 0h24v24H0V0z\" fill=\"none\"/>\n",
              "    <path d=\"M18.56 5.44l.94 2.06.94-2.06 2.06-.94-2.06-.94-.94-2.06-.94 2.06-2.06.94zm-11 1L8.5 8.5l.94-2.06 2.06-.94-2.06-.94L8.5 2.5l-.94 2.06-2.06.94zm10 10l.94 2.06.94-2.06 2.06-.94-2.06-.94-.94-2.06-.94 2.06-2.06.94z\"/><path d=\"M17.41 7.96l-1.37-1.37c-.4-.4-.92-.59-1.43-.59-.52 0-1.04.2-1.43.59L10.3 9.45l-7.72 7.72c-.78.78-.78 2.05 0 2.83L4 21.41c.39.39.9.59 1.41.59.51 0 1.02-.2 1.41-.59l7.78-7.78 2.81-2.81c.8-.78.8-2.07 0-2.86zM5.41 20L4 18.59l7.72-7.72 1.47 1.35L5.41 20z\"/>\n",
              "  </svg>\n",
              "      </button>\n",
              "      \n",
              "  <style>\n",
              "    .colab-df-container {\n",
              "      display:flex;\n",
              "      flex-wrap:wrap;\n",
              "      gap: 12px;\n",
              "    }\n",
              "\n",
              "    .colab-df-convert {\n",
              "      background-color: #E8F0FE;\n",
              "      border: none;\n",
              "      border-radius: 50%;\n",
              "      cursor: pointer;\n",
              "      display: none;\n",
              "      fill: #1967D2;\n",
              "      height: 32px;\n",
              "      padding: 0 0 0 0;\n",
              "      width: 32px;\n",
              "    }\n",
              "\n",
              "    .colab-df-convert:hover {\n",
              "      background-color: #E2EBFA;\n",
              "      box-shadow: 0px 1px 2px rgba(60, 64, 67, 0.3), 0px 1px 3px 1px rgba(60, 64, 67, 0.15);\n",
              "      fill: #174EA6;\n",
              "    }\n",
              "\n",
              "    [theme=dark] .colab-df-convert {\n",
              "      background-color: #3B4455;\n",
              "      fill: #D2E3FC;\n",
              "    }\n",
              "\n",
              "    [theme=dark] .colab-df-convert:hover {\n",
              "      background-color: #434B5C;\n",
              "      box-shadow: 0px 1px 3px 1px rgba(0, 0, 0, 0.15);\n",
              "      filter: drop-shadow(0px 1px 2px rgba(0, 0, 0, 0.3));\n",
              "      fill: #FFFFFF;\n",
              "    }\n",
              "  </style>\n",
              "\n",
              "      <script>\n",
              "        const buttonEl =\n",
              "          document.querySelector('#df-41f97604-8faa-4a21-9adb-f4b6c9cc9a60 button.colab-df-convert');\n",
              "        buttonEl.style.display =\n",
              "          google.colab.kernel.accessAllowed ? 'block' : 'none';\n",
              "\n",
              "        async function convertToInteractive(key) {\n",
              "          const element = document.querySelector('#df-41f97604-8faa-4a21-9adb-f4b6c9cc9a60');\n",
              "          const dataTable =\n",
              "            await google.colab.kernel.invokeFunction('convertToInteractive',\n",
              "                                                     [key], {});\n",
              "          if (!dataTable) return;\n",
              "\n",
              "          const docLinkHtml = 'Like what you see? Visit the ' +\n",
              "            '<a target=\"_blank\" href=https://colab.research.google.com/notebooks/data_table.ipynb>data table notebook</a>'\n",
              "            + ' to learn more about interactive tables.';\n",
              "          element.innerHTML = '';\n",
              "          dataTable['output_type'] = 'display_data';\n",
              "          await google.colab.output.renderOutput(dataTable, element);\n",
              "          const docLink = document.createElement('div');\n",
              "          docLink.innerHTML = docLinkHtml;\n",
              "          element.appendChild(docLink);\n",
              "        }\n",
              "      </script>\n",
              "    </div>\n",
              "  </div>\n",
              "  "
            ],
            "text/plain": [
              "                          count           mean            std      min  \\\n",
              "age                     30162.0      38.437902      13.134665     17.0   \n",
              "fnlwgt                  30162.0  189793.833930  105652.971529  13769.0   \n",
              "education-no. of years  30162.0      10.121312       2.549995      1.0   \n",
              "capital gain            30162.0    1092.007858    7406.346497      0.0   \n",
              "capital loss            30162.0      88.372489     404.298370      0.0   \n",
              "working hours per week  30162.0      40.931238      11.979984      1.0   \n",
              "\n",
              "                              25%       50%       75%        max  \n",
              "age                         28.00      37.0      47.0       90.0  \n",
              "fnlwgt                  117627.25  178425.0  237628.5  1484705.0  \n",
              "education-no. of years       9.00      10.0      13.0       16.0  \n",
              "capital gain                 0.00       0.0       0.0    99999.0  \n",
              "capital loss                 0.00       0.0       0.0     4356.0  \n",
              "working hours per week      40.00      40.0      45.0       99.0  "
            ]
          },
          "execution_count": 12,
          "metadata": {},
          "output_type": "execute_result"
        }
      ],
      "source": [
        "# Statistic analysis \n",
        "raw_data.describe().T"
      ]
    },
    {
      "cell_type": "markdown",
      "metadata": {
        "id": "ubKGq_JoU40d"
      },
      "source": [
        "# Visualization\n",
        "\n",
        "#### Since we have many features labelled \"?\" with many value counts. We cannot be sure to drop all the values for these feaures.  Thus, we will be exploring and analyzing the dataset feature sets \"?\" with Logistic regression and SVM respectively."
      ]
    },
    {
      "cell_type": "code",
      "execution_count": 13,
      "metadata": {
        "id": "SZQC2XCTU2lh"
      },
      "outputs": [],
      "source": [
        "# correlation of the integer values from the raw data.\n",
        "correlation = raw_data.corr()"
      ]
    },
    {
      "cell_type": "code",
      "execution_count": 14,
      "metadata": {
        "colab": {
          "base_uri": "https://localhost:8080/",
          "height": 449
        },
        "id": "_c2WhSWoVF5N",
        "outputId": "76164621-8154-4daa-8aab-58393347a9e7"
      },
      "outputs": [
        {
          "data": {
            "image/png": "[encoded data removed]",
            "text/plain": [
              "<Figure size 1080x360 with 2 Axes>"
            ]
          },
          "metadata": {
            "needs_background": "light"
          },
          "output_type": "display_data"
        }
      ],
      "source": [
        "# ploting the graph of size 15x5\n",
        "plt.figure(figsize=(15,5))\n",
        "\n",
        "# using heat map to show correlation\n",
        "sns.heatmap(correlation,\n",
        "            data = raw_data, \n",
        "            annot=True, \n",
        "            square=True,\n",
        "            cmap='Blues')\n",
        "plt.title(\"Correlation Between Features \",fontsize=18, fontweight='bold')\n",
        "plt.show()"
      ]
    },
    {
      "cell_type": "code",
      "execution_count": 15,
      "metadata": {
        "colab": {
          "base_uri": "https://localhost:8080/",
          "height": 521
        },
        "id": "aLIfRaKoWQyZ",
        "outputId": "8cd16ac5-6f98-452a-b6b4-4458f6efeada"
      },
      "outputs": [
        {
          "data": {
            "image/png": "[encoded data removed]",
            "text/plain": [
              "<Figure size 576x576 with 1 Axes>"
            ]
          },
          "metadata": {
            "needs_background": "light"
          },
          "output_type": "display_data"
        }
      ],
      "source": [
        "# Ploting the salary distribution which is greater than 50k and less than or equal to 50k\n",
        "\n",
        "plt.figure(figsize=(8,8))\n",
        "plt.title('Salary Distibution',\n",
        "          fontsize = 18,\n",
        "          fontweight = 'bold')\n",
        "\n",
        "plt.xlabel('Salary',\n",
        "           fontsize = 14,\n",
        "           fontweight = 'bold')\n",
        "\n",
        "plt.ylabel('Count',\n",
        "           fontsize=14,\n",
        "           fontweight='bold')\n",
        "ax = sns.countplot(x = raw_data[\"salary\"], \n",
        "                   palette='autumn_r')\n",
        "total=len(raw_data)\n",
        "\n",
        "for p in ax.patches:\n",
        "    x = p.get_x() + p.get_width()\n",
        "    y = p.get_height() + 10\n",
        "    ax.annotate('{:}'.format(p.get_height()),\n",
        "                (p.get_x() + 0.1, \n",
        "                 p.get_height() + 10),\n",
        "                fontweight='bold')\n",
        "    percentage = '{:.1f}%'.format(100 * p.get_height()/total)\n",
        "    ax.annotate(percentage, (x, y),\n",
        "                ha='center',\n",
        "                fontweight='bold')"
      ]
    },
    {
      "cell_type": "markdown",
      "metadata": {
        "id": "PTgTeogRXPyM"
      },
      "source": [
        "Observations:\n",
        "1. 24.9% of total people in the dataset has more income than 50K annually ranging between 50K-99999.\n",
        "2. 75% of total individual has less than 50K annually ranging between 0-50K\n"
      ]
    },
    {
      "cell_type": "code",
      "execution_count": 16,
      "metadata": {
        "colab": {
          "base_uri": "https://localhost:8080/",
          "height": 690
        },
        "id": "kXAx33bmXRmj",
        "outputId": "2b5a8a80-85b0-4ab3-9363-a4c49e4ae765"
      },
      "outputs": [
        {
          "data": {
            "image/png": "[encoded data removed]",
            "text/plain": [
              "<Figure size 720x720 with 1 Axes>"
            ]
          },
          "metadata": {
            "needs_background": "light"
          },
          "output_type": "display_data"
        }
      ],
      "source": [
        "plt.figure(figsize=(10,10))\n",
        "sns.countplot(x = 'workclass', \n",
        "              hue = 'salary', \n",
        "              data = raw_data, \n",
        "              palette = 'Dark2')\n",
        "plt.title('Work Class Based on Salary',fontweight='bold')\n",
        "plt.xlabel('Work Class',fontweight='bold')\n",
        "plt.xticks(rotation=60)\n",
        "plt.show()"
      ]
    },
    {
      "cell_type": "markdown",
      "metadata": {
        "id": "7qDdWIKWOwt_"
      },
      "source": [
        "Observations:\n",
        "\n",
        "1. People who are employed in Private sector are highly paid for both with more than 50K and less than 50K annually.\n",
        "2. Self employed non inc and local-gov work class has almost similary salary range where as self-employ-inc and federal-gov work class has similar salary range.\n"
      ]
    },
    {
      "cell_type": "code",
      "execution_count": 17,
      "metadata": {
        "colab": {
          "base_uri": "https://localhost:8080/",
          "height": 678
        },
        "id": "9GGMhl5AXpDF",
        "outputId": "ec9d0148-37ba-40a0-f05f-37b669bc0d2f"
      },
      "outputs": [
        {
          "data": {
            "image/png": "[encoded data removed]",
            "text/plain": [
              "<Figure size 720x720 with 1 Axes>"
            ]
          },
          "metadata": {
            "needs_background": "light"
          },
          "output_type": "display_data"
        }
      ],
      "source": [
        "\n",
        "plt.figure(figsize=(10,10))\n",
        "sns.countplot(x = 'education', \n",
        "              hue = 'salary', \n",
        "              data = raw_data,\n",
        "              palette = 'Dark2')\n",
        "plt.title('Salary Based on Education',fontweight='bold')\n",
        "plt.xlabel('Education',fontweight='bold')\n",
        "plt.xticks(rotation=60)\n",
        "plt.show()"
      ]
    },
    {
      "cell_type": "markdown",
      "metadata": {
        "id": "CcQKJK9APmWL"
      },
      "source": [
        "Observations:\n",
        "1. "
      ]
    },
    {
      "cell_type": "code",
      "execution_count": 18,
      "metadata": {
        "colab": {
          "base_uri": "https://localhost:8080/",
          "height": 621
        },
        "id": "J2DXGQbCYYzj",
        "outputId": "c096a157-2554-48c6-ad0c-4758a8e993cb"
      },
      "outputs": [
        {
          "data": {
            "image/png": "[encoded data removed]",
            "text/plain": [
              "<Figure size 720x720 with 1 Axes>"
            ]
          },
          "metadata": {
            "needs_background": "light"
          },
          "output_type": "display_data"
        }
      ],
      "source": [
        "plt.figure(figsize=(10,10))\n",
        "sns.countplot(y = 'native-country', \n",
        "              hue = 'salary', \n",
        "              data = raw_data, \n",
        "              palette = 'Dark2')\n",
        "plt.title('Salary Based on Native Country',fontweight='bold')\n",
        "plt.ylabel('Education',fontweight='bold')\n",
        "plt.show()"
      ]
    },
    {
      "cell_type": "markdown",
      "metadata": {
        "id": "a2Rr4sIrUPAJ"
      },
      "source": [
        "Observations:\n",
        "1. Those people who are from USA are the ones earning most.\n",
        "2. Similarly, Mexico has the second highest numbers of people who earns less than or equal to 50K annually.\n",
        "\n",
        "From the above count plot we can see that the data collected is highly biased and is not distributed through out differnet countries."
      ]
    },
    {
      "cell_type": "code",
      "execution_count": 19,
      "metadata": {
        "colab": {
          "base_uri": "https://localhost:8080/",
          "height": 621
        },
        "id": "tVRIOrYJYGQ3",
        "outputId": "9cabc2d5-333d-45d4-b9c9-118150185287"
      },
      "outputs": [
        {
          "data": {
            "image/png": "[encoded data removed]",
            "text/plain": [
              "<Figure size 720x720 with 1 Axes>"
            ]
          },
          "metadata": {
            "needs_background": "light"
          },
          "output_type": "display_data"
        }
      ],
      "source": [
        "plt.figure(figsize=(10,10))\n",
        "sns.countplot(x = 'race', \n",
        "              hue = 'salary', \n",
        "              data = raw_data,\n",
        "              palette ='Dark2')\n",
        "plt.title('Race Based on Salary',fontweight='bold')\n",
        "plt.xlabel('Race',fontweight='bold')\n",
        "plt.show()"
      ]
    },
    {
      "cell_type": "markdown",
      "metadata": {
        "id": "1wrAfq3wU9Jf"
      },
      "source": [
        "Observations:\n",
        "1. According to data, White people are being paid higher salary than any other races.\n",
        "2. Black people are second who has earning people of age group.\n"
      ]
    },
    {
      "cell_type": "code",
      "execution_count": 20,
      "metadata": {
        "colab": {
          "base_uri": "https://localhost:8080/",
          "height": 621
        },
        "id": "lDjuW1NAYMtY",
        "outputId": "cf6363fe-570b-4fca-d3b8-0831053e0ac0"
      },
      "outputs": [
        {
          "data": {
            "image/png": "[encoded data removed]",
            "text/plain": [
              "<Figure size 720x720 with 1 Axes>"
            ]
          },
          "metadata": {
            "needs_background": "light"
          },
          "output_type": "display_data"
        }
      ],
      "source": [
        "plt.figure(figsize=(10,10))\n",
        "sns.countplot(x = 'sex', \n",
        "              hue = 'salary', \n",
        "              data = raw_data,\n",
        "              palette ='Dark2')\n",
        "plt.title('Gender Based on Salary',fontweight = 'bold')\n",
        "plt.xlabel('Gender',fontweight='bold')\n",
        "plt.show()"
      ]
    },
    {
      "cell_type": "markdown",
      "metadata": {
        "id": "ATzWxFRPUxlL"
      },
      "source": [
        "Observations:\n",
        "1. Male has higher number in terms of earning more salary than females."
      ]
    },
    {
      "cell_type": "code",
      "execution_count": 21,
      "metadata": {
        "colab": {
          "base_uri": "https://localhost:8080/",
          "height": 634
        },
        "id": "gI9GAYxrYpyE",
        "outputId": "03cec8cc-37e7-4886-9a26-33460acbffe1"
      },
      "outputs": [
        {
          "data": {
            "text/plain": [
              "(20.0, 60.0)"
            ]
          },
          "execution_count": 21,
          "metadata": {},
          "output_type": "execute_result"
        },
        {
          "data": {
            "image/png": "[encoded data removed]",
            "text/plain": [
              "<Figure size 1440x720 with 2 Axes>"
            ]
          },
          "metadata": {},
          "output_type": "display_data"
        }
      ],
      "source": [
        "# segmenting and sorting hourly values into bins.\n",
        "raw_data['group by hours'] = pd.cut(raw_data['working hours per week'], 10)\n",
        "\n",
        "plt.style.use('seaborn-whitegrid')\n",
        "fig = plt.figure(figsize=(20,10)) \n",
        "plt.subplot(1, 2, 1)\n",
        "sns.countplot(y = \"group by hours\", data = raw_data, palette = \"Dark2\")\n",
        "plt.title('Total hours by group')\n",
        "\n",
        "plt.subplot(1, 2, 2)\n",
        "sns.distplot(raw_data['working hours per week'], color='Green')\n",
        "sns.distplot(raw_data[raw_data['salary'] == '>50K']['working hours per week'], \n",
        "             kde_kws={\"label\": \">$50K\"})\n",
        "sns.distplot(raw_data[raw_data['salary'] == '<=50K']['working hours per week'], \n",
        "              kde_kws={\"label\": \"<$50K\"})\n",
        "plt.title('Density of Hours')\n",
        "plt.ylim(0, None)\n",
        "plt.xlim(20, 60)"
      ]
    },
    {
      "cell_type": "code",
      "execution_count": 22,
      "metadata": {
        "colab": {
          "base_uri": "https://localhost:8080/",
          "height": 293
        },
        "id": "mUR3B-eKTHwm",
        "outputId": "9e100aa3-8cbc-43c2-ccbc-2da2b5b0de33"
      },
      "outputs": [
        {
          "data": {
            "text/plain": [
              "<matplotlib.axes._subplots.AxesSubplot at 0x7f8b0d425a10>"
            ]
          },
          "execution_count": 22,
          "metadata": {},
          "output_type": "execute_result"
        },
        {
          "data": {
            "image/png": "[encoded data removed]",
            "text/plain": [
              "<Figure size 432x288 with 1 Axes>"
            ]
          },
          "metadata": {},
          "output_type": "display_data"
        }
      ],
      "source": [
        "sns.boxplot(raw_data.salary, raw_data.age)"
      ]
    },
    {
      "cell_type": "markdown",
      "metadata": {
        "id": "i0HsfxyKTqaS"
      },
      "source": [
        "Observations:\n",
        "1. There are lots of outliers in the age features.\n",
        "2. People above 75 age are more likely to be outliers.\n",
        "3. People ranging between 25-55 age group are the ones earning the most."
      ]
    },
    {
      "cell_type": "markdown",
      "metadata": {
        "id": "EuZWOmPRCpJq"
      },
      "source": [
        "# Logistic Regression\n",
        "\n",
        "Initially we are using logistic regression (LR) to see how robust our dataset is and how effictively LR can predict the dataset."
      ]
    },
    {
      "cell_type": "code",
      "execution_count": 23,
      "metadata": {
        "id": "F7bPzJNPYp71"
      },
      "outputs": [],
      "source": [
        "# importing libraries \n",
        "from sklearn.preprocessing import LabelEncoder\n",
        "from sklearn.preprocessing import StandardScaler\n",
        "from sklearn.model_selection import train_test_split\n",
        "\n",
        "\n",
        "categorical_features = ['workclass','education-no. of years', 'marital status', 'occupation', \n",
        "              'race', 'sex','native-country']\n",
        "# label encoder\n",
        "label_encoder = LabelEncoder()\n",
        "\n",
        "# encoding each categorical features.\n",
        "for col in categorical_features:\n",
        "    label_encoder.fit(raw_data[col])\n",
        "    raw_data[col] = label_encoder.transform(raw_data[col])\n",
        "\n",
        "# assigning observe values \n",
        "X = raw_data[['workclass','education-no. of years', 'marital status', 'occupation', \n",
        "              'race', 'sex','native-country', 'age', 'fnlwgt', 'capital gain', 'capital loss', 'working hours per week']]\n",
        "# target value\n",
        "y = raw_data['salary']\n",
        "    \n",
        "\n",
        "#splitting the data set into Train, Test for both observed variables and target variables in 60-40 ratio.\n",
        "X_train, X_test, y_train, y_test = train_test_split(X, y, test_size = 0.4, random_state = 0)\n",
        "\n"
      ]
    },
    {
      "cell_type": "code",
      "execution_count": 24,
      "metadata": {
        "colab": {
          "base_uri": "https://localhost:8080/",
          "height": 667
        },
        "id": "PaM681OKjOWm",
        "outputId": "d2aab658-c171-465d-ea5a-0d436f2ba0ad"
      },
      "outputs": [
        {
          "data": {
            "text/html": [
              "\n",
              "  <div id=\"df-714561cc-42b4-46c2-968f-53a8798ee1cf\">\n",
              "    <div class=\"colab-df-container\">\n",
              "      <div>\n",
              "<style scoped>\n",
              "    .dataframe tbody tr th:only-of-type {\n",
              "        vertical-align: middle;\n",
              "    }\n",
              "\n",
              "    .dataframe tbody tr th {\n",
              "        vertical-align: top;\n",
              "    }\n",
              "\n",
              "    .dataframe thead th {\n",
              "        text-align: right;\n",
              "    }\n",
              "</style>\n",
              "<table border=\"1\" class=\"dataframe\">\n",
              "  <thead>\n",
              "    <tr style=\"text-align: right;\">\n",
              "      <th></th>\n",
              "      <th>age</th>\n",
              "      <th>workclass</th>\n",
              "      <th>fnlwgt</th>\n",
              "      <th>education</th>\n",
              "      <th>education-no. of years</th>\n",
              "      <th>marital status</th>\n",
              "      <th>occupation</th>\n",
              "      <th>race</th>\n",
              "      <th>sex</th>\n",
              "      <th>capital gain</th>\n",
              "      <th>capital loss</th>\n",
              "      <th>working hours per week</th>\n",
              "      <th>native-country</th>\n",
              "      <th>salary</th>\n",
              "      <th>group by hours</th>\n",
              "    </tr>\n",
              "  </thead>\n",
              "  <tbody>\n",
              "    <tr>\n",
              "      <th>0</th>\n",
              "      <td>39</td>\n",
              "      <td>5</td>\n",
              "      <td>77516</td>\n",
              "      <td>Bachelors</td>\n",
              "      <td>12</td>\n",
              "      <td>4</td>\n",
              "      <td>0</td>\n",
              "      <td>4</td>\n",
              "      <td>1</td>\n",
              "      <td>2174</td>\n",
              "      <td>0</td>\n",
              "      <td>40</td>\n",
              "      <td>38</td>\n",
              "      <td>&lt;=50K</td>\n",
              "      <td>(30.4, 40.2]</td>\n",
              "    </tr>\n",
              "    <tr>\n",
              "      <th>1</th>\n",
              "      <td>50</td>\n",
              "      <td>4</td>\n",
              "      <td>83311</td>\n",
              "      <td>Bachelors</td>\n",
              "      <td>12</td>\n",
              "      <td>2</td>\n",
              "      <td>3</td>\n",
              "      <td>4</td>\n",
              "      <td>1</td>\n",
              "      <td>0</td>\n",
              "      <td>0</td>\n",
              "      <td>13</td>\n",
              "      <td>38</td>\n",
              "      <td>&lt;=50K</td>\n",
              "      <td>(10.8, 20.6]</td>\n",
              "    </tr>\n",
              "    <tr>\n",
              "      <th>2</th>\n",
              "      <td>38</td>\n",
              "      <td>2</td>\n",
              "      <td>215646</td>\n",
              "      <td>HS-grad</td>\n",
              "      <td>8</td>\n",
              "      <td>0</td>\n",
              "      <td>5</td>\n",
              "      <td>4</td>\n",
              "      <td>1</td>\n",
              "      <td>0</td>\n",
              "      <td>0</td>\n",
              "      <td>40</td>\n",
              "      <td>38</td>\n",
              "      <td>&lt;=50K</td>\n",
              "      <td>(30.4, 40.2]</td>\n",
              "    </tr>\n",
              "    <tr>\n",
              "      <th>3</th>\n",
              "      <td>53</td>\n",
              "      <td>2</td>\n",
              "      <td>234721</td>\n",
              "      <td>11th</td>\n",
              "      <td>6</td>\n",
              "      <td>2</td>\n",
              "      <td>5</td>\n",
              "      <td>2</td>\n",
              "      <td>1</td>\n",
              "      <td>0</td>\n",
              "      <td>0</td>\n",
              "      <td>40</td>\n",
              "      <td>38</td>\n",
              "      <td>&lt;=50K</td>\n",
              "      <td>(30.4, 40.2]</td>\n",
              "    </tr>\n",
              "    <tr>\n",
              "      <th>4</th>\n",
              "      <td>28</td>\n",
              "      <td>2</td>\n",
              "      <td>338409</td>\n",
              "      <td>Bachelors</td>\n",
              "      <td>12</td>\n",
              "      <td>2</td>\n",
              "      <td>9</td>\n",
              "      <td>2</td>\n",
              "      <td>0</td>\n",
              "      <td>0</td>\n",
              "      <td>0</td>\n",
              "      <td>40</td>\n",
              "      <td>4</td>\n",
              "      <td>&lt;=50K</td>\n",
              "      <td>(30.4, 40.2]</td>\n",
              "    </tr>\n",
              "    <tr>\n",
              "      <th>...</th>\n",
              "      <td>...</td>\n",
              "      <td>...</td>\n",
              "      <td>...</td>\n",
              "      <td>...</td>\n",
              "      <td>...</td>\n",
              "      <td>...</td>\n",
              "      <td>...</td>\n",
              "      <td>...</td>\n",
              "      <td>...</td>\n",
              "      <td>...</td>\n",
              "      <td>...</td>\n",
              "      <td>...</td>\n",
              "      <td>...</td>\n",
              "      <td>...</td>\n",
              "      <td>...</td>\n",
              "    </tr>\n",
              "    <tr>\n",
              "      <th>32556</th>\n",
              "      <td>27</td>\n",
              "      <td>2</td>\n",
              "      <td>257302</td>\n",
              "      <td>Assoc-acdm</td>\n",
              "      <td>11</td>\n",
              "      <td>2</td>\n",
              "      <td>12</td>\n",
              "      <td>4</td>\n",
              "      <td>0</td>\n",
              "      <td>0</td>\n",
              "      <td>0</td>\n",
              "      <td>38</td>\n",
              "      <td>38</td>\n",
              "      <td>&lt;=50K</td>\n",
              "      <td>(30.4, 40.2]</td>\n",
              "    </tr>\n",
              "    <tr>\n",
              "      <th>32557</th>\n",
              "      <td>40</td>\n",
              "      <td>2</td>\n",
              "      <td>154374</td>\n",
              "      <td>HS-grad</td>\n",
              "      <td>8</td>\n",
              "      <td>2</td>\n",
              "      <td>6</td>\n",
              "      <td>4</td>\n",
              "      <td>1</td>\n",
              "      <td>0</td>\n",
              "      <td>0</td>\n",
              "      <td>40</td>\n",
              "      <td>38</td>\n",
              "      <td>&gt;50K</td>\n",
              "      <td>(30.4, 40.2]</td>\n",
              "    </tr>\n",
              "    <tr>\n",
              "      <th>32558</th>\n",
              "      <td>58</td>\n",
              "      <td>2</td>\n",
              "      <td>151910</td>\n",
              "      <td>HS-grad</td>\n",
              "      <td>8</td>\n",
              "      <td>6</td>\n",
              "      <td>0</td>\n",
              "      <td>4</td>\n",
              "      <td>0</td>\n",
              "      <td>0</td>\n",
              "      <td>0</td>\n",
              "      <td>40</td>\n",
              "      <td>38</td>\n",
              "      <td>&lt;=50K</td>\n",
              "      <td>(30.4, 40.2]</td>\n",
              "    </tr>\n",
              "    <tr>\n",
              "      <th>32559</th>\n",
              "      <td>22</td>\n",
              "      <td>2</td>\n",
              "      <td>201490</td>\n",
              "      <td>HS-grad</td>\n",
              "      <td>8</td>\n",
              "      <td>4</td>\n",
              "      <td>0</td>\n",
              "      <td>4</td>\n",
              "      <td>1</td>\n",
              "      <td>0</td>\n",
              "      <td>0</td>\n",
              "      <td>20</td>\n",
              "      <td>38</td>\n",
              "      <td>&lt;=50K</td>\n",
              "      <td>(10.8, 20.6]</td>\n",
              "    </tr>\n",
              "    <tr>\n",
              "      <th>32560</th>\n",
              "      <td>52</td>\n",
              "      <td>3</td>\n",
              "      <td>287927</td>\n",
              "      <td>HS-grad</td>\n",
              "      <td>8</td>\n",
              "      <td>2</td>\n",
              "      <td>3</td>\n",
              "      <td>4</td>\n",
              "      <td>0</td>\n",
              "      <td>15024</td>\n",
              "      <td>0</td>\n",
              "      <td>40</td>\n",
              "      <td>38</td>\n",
              "      <td>&gt;50K</td>\n",
              "      <td>(30.4, 40.2]</td>\n",
              "    </tr>\n",
              "  </tbody>\n",
              "</table>\n",
              "<p>30162 rows × 15 columns</p>\n",
              "</div>\n",
              "      <button class=\"colab-df-convert\" onclick=\"convertToInteractive('df-714561cc-42b4-46c2-968f-53a8798ee1cf')\"\n",
              "              title=\"Convert this dataframe to an interactive table.\"\n",
              "              style=\"display:none;\">\n",
              "        \n",
              "  <svg xmlns=\"http://www.w3.org/2000/svg\" height=\"24px\"viewBox=\"0 0 24 24\"\n",
              "       width=\"24px\">\n",
              "    <path d=\"M0 0h24v24H0V0z\" fill=\"none\"/>\n",
              "    <path d=\"M18.56 5.44l.94 2.06.94-2.06 2.06-.94-2.06-.94-.94-2.06-.94 2.06-2.06.94zm-11 1L8.5 8.5l.94-2.06 2.06-.94-2.06-.94L8.5 2.5l-.94 2.06-2.06.94zm10 10l.94 2.06.94-2.06 2.06-.94-2.06-.94-.94-2.06-.94 2.06-2.06.94z\"/><path d=\"M17.41 7.96l-1.37-1.37c-.4-.4-.92-.59-1.43-.59-.52 0-1.04.2-1.43.59L10.3 9.45l-7.72 7.72c-.78.78-.78 2.05 0 2.83L4 21.41c.39.39.9.59 1.41.59.51 0 1.02-.2 1.41-.59l7.78-7.78 2.81-2.81c.8-.78.8-2.07 0-2.86zM5.41 20L4 18.59l7.72-7.72 1.47 1.35L5.41 20z\"/>\n",
              "  </svg>\n",
              "      </button>\n",
              "      \n",
              "  <style>\n",
              "    .colab-df-container {\n",
              "      display:flex;\n",
              "      flex-wrap:wrap;\n",
              "      gap: 12px;\n",
              "    }\n",
              "\n",
              "    .colab-df-convert {\n",
              "      background-color: #E8F0FE;\n",
              "      border: none;\n",
              "      border-radius: 50%;\n",
              "      cursor: pointer;\n",
              "      display: none;\n",
              "      fill: #1967D2;\n",
              "      height: 32px;\n",
              "      padding: 0 0 0 0;\n",
              "      width: 32px;\n",
              "    }\n",
              "\n",
              "    .colab-df-convert:hover {\n",
              "      background-color: #E2EBFA;\n",
              "      box-shadow: 0px 1px 2px rgba(60, 64, 67, 0.3), 0px 1px 3px 1px rgba(60, 64, 67, 0.15);\n",
              "      fill: #174EA6;\n",
              "    }\n",
              "\n",
              "    [theme=dark] .colab-df-convert {\n",
              "      background-color: #3B4455;\n",
              "      fill: #D2E3FC;\n",
              "    }\n",
              "\n",
              "    [theme=dark] .colab-df-convert:hover {\n",
              "      background-color: #434B5C;\n",
              "      box-shadow: 0px 1px 3px 1px rgba(0, 0, 0, 0.15);\n",
              "      filter: drop-shadow(0px 1px 2px rgba(0, 0, 0, 0.3));\n",
              "      fill: #FFFFFF;\n",
              "    }\n",
              "  </style>\n",
              "\n",
              "      <script>\n",
              "        const buttonEl =\n",
              "          document.querySelector('#df-714561cc-42b4-46c2-968f-53a8798ee1cf button.colab-df-convert');\n",
              "        buttonEl.style.display =\n",
              "          google.colab.kernel.accessAllowed ? 'block' : 'none';\n",
              "\n",
              "        async function convertToInteractive(key) {\n",
              "          const element = document.querySelector('#df-714561cc-42b4-46c2-968f-53a8798ee1cf');\n",
              "          const dataTable =\n",
              "            await google.colab.kernel.invokeFunction('convertToInteractive',\n",
              "                                                     [key], {});\n",
              "          if (!dataTable) return;\n",
              "\n",
              "          const docLinkHtml = 'Like what you see? Visit the ' +\n",
              "            '<a target=\"_blank\" href=https://colab.research.google.com/notebooks/data_table.ipynb>data table notebook</a>'\n",
              "            + ' to learn more about interactive tables.';\n",
              "          element.innerHTML = '';\n",
              "          dataTable['output_type'] = 'display_data';\n",
              "          await google.colab.output.renderOutput(dataTable, element);\n",
              "          const docLink = document.createElement('div');\n",
              "          docLink.innerHTML = docLinkHtml;\n",
              "          element.appendChild(docLink);\n",
              "        }\n",
              "      </script>\n",
              "    </div>\n",
              "  </div>\n",
              "  "
            ],
            "text/plain": [
              "       age  workclass  fnlwgt    education  education-no. of years  \\\n",
              "0       39          5   77516    Bachelors                      12   \n",
              "1       50          4   83311    Bachelors                      12   \n",
              "2       38          2  215646      HS-grad                       8   \n",
              "3       53          2  234721         11th                       6   \n",
              "4       28          2  338409    Bachelors                      12   \n",
              "...    ...        ...     ...          ...                     ...   \n",
              "32556   27          2  257302   Assoc-acdm                      11   \n",
              "32557   40          2  154374      HS-grad                       8   \n",
              "32558   58          2  151910      HS-grad                       8   \n",
              "32559   22          2  201490      HS-grad                       8   \n",
              "32560   52          3  287927      HS-grad                       8   \n",
              "\n",
              "       marital status  occupation  race  sex  capital gain  capital loss  \\\n",
              "0                   4           0     4    1          2174             0   \n",
              "1                   2           3     4    1             0             0   \n",
              "2                   0           5     4    1             0             0   \n",
              "3                   2           5     2    1             0             0   \n",
              "4                   2           9     2    0             0             0   \n",
              "...               ...         ...   ...  ...           ...           ...   \n",
              "32556               2          12     4    0             0             0   \n",
              "32557               2           6     4    1             0             0   \n",
              "32558               6           0     4    0             0             0   \n",
              "32559               4           0     4    1             0             0   \n",
              "32560               2           3     4    0         15024             0   \n",
              "\n",
              "       working hours per week  native-country  salary group by hours  \n",
              "0                          40              38   <=50K   (30.4, 40.2]  \n",
              "1                          13              38   <=50K   (10.8, 20.6]  \n",
              "2                          40              38   <=50K   (30.4, 40.2]  \n",
              "3                          40              38   <=50K   (30.4, 40.2]  \n",
              "4                          40               4   <=50K   (30.4, 40.2]  \n",
              "...                       ...             ...     ...            ...  \n",
              "32556                      38              38   <=50K   (30.4, 40.2]  \n",
              "32557                      40              38    >50K   (30.4, 40.2]  \n",
              "32558                      40              38   <=50K   (30.4, 40.2]  \n",
              "32559                      20              38   <=50K   (10.8, 20.6]  \n",
              "32560                      40              38    >50K   (30.4, 40.2]  \n",
              "\n",
              "[30162 rows x 15 columns]"
            ]
          },
          "execution_count": 24,
          "metadata": {},
          "output_type": "execute_result"
        }
      ],
      "source": [
        "# raw_data after label encoding.\n",
        "raw_data"
      ]
    },
    {
      "cell_type": "code",
      "execution_count": 25,
      "metadata": {
        "id": "AFSSXPpSdUTp"
      },
      "outputs": [],
      "source": [
        "# Standardize features by removing the mean and scaling to unit variance.\n",
        "scaler = StandardScaler()\n",
        "\n",
        "# scaling train and test data.\n",
        "x_train = pd.DataFrame(scaler.fit_transform(X_train), columns = X.columns)\n",
        "x_test = pd.DataFrame(scaler.transform(X_test), columns = X.columns)\n"
      ]
    },
    {
      "cell_type": "code",
      "execution_count": 26,
      "metadata": {
        "colab": {
          "base_uri": "https://localhost:8080/"
        },
        "id": "oOwGy6Kzdz6k",
        "outputId": "9588dcdd-a0dc-4c53-8a10-fef050628837"
      },
      "outputs": [
        {
          "name": "stdout",
          "output_type": "stream",
          "text": [
            "Accuracy of the Model Logistic Regression :  81.28 %\n"
          ]
        }
      ],
      "source": [
        "# importing Models for classification.\n",
        "from sklearn.metrics import accuracy_score, confusion_matrix\n",
        "from sklearn.linear_model import LogisticRegression\n",
        "from sklearn.svm import SVC\n",
        "from sklearn.metrics import plot_roc_curve\n",
        "\n",
        "\n",
        "# Logistic Regression\n",
        "log_reg = LogisticRegression()\n",
        "log_reg.fit(x_train, y_train)\n",
        "Y_pred = log_reg.predict(x_test)\n",
        "acc = accuracy_score(y_test, Y_pred)\n",
        "\n",
        "print(\"Accuracy of the Model Logistic Regression : \", round(acc * 100, 2), \"%\")\n"
      ]
    },
    {
      "cell_type": "code",
      "execution_count": 27,
      "metadata": {
        "colab": {
          "base_uri": "https://localhost:8080/"
        },
        "id": "NlEJOnNWKQ0Q",
        "outputId": "fa955a38-1cbb-4ad2-8ca0-4c8e29627469"
      },
      "outputs": [
        {
          "name": "stdout",
          "output_type": "stream",
          "text": [
            "Accuracy of the Model Support Vector Classifier :  74.95 %\n"
          ]
        }
      ],
      "source": [
        "# Support Vector Classifier (SVM/SVC)\n",
        "\n",
        "svc = SVC(gamma=0.22)\n",
        "svc.fit(X_train, y_train)\n",
        "Y_pred = svc.predict(X_test)\n",
        "score_svc = svc.score(X_test,y_test)\n",
        "print(\"Accuracy of the Model Support Vector Classifier : \", round(score_svc * 100, 2), \"%\")"
      ]
    },
    {
      "cell_type": "markdown",
      "metadata": {
        "id": "CN-cFYL_pacr"
      },
      "source": [
        "## Observation\n",
        "\n",
        "1. We have 81% of accuracy score using logistic regression with the raw data after removing the unknown features.\n",
        "2. Using Support Vector Classifier we have got 75% of accuracy score."
      ]
    },
    {
      "cell_type": "markdown",
      "metadata": {
        "id": "wkt3P58-XcPe"
      },
      "source": [
        "# Analysis with all features.\n",
        "\n",
        "We have observed model accuracy again using all the features by extending them using dummies."
      ]
    },
    {
      "cell_type": "code",
      "execution_count": 28,
      "metadata": {
        "id": "kZ6ehApCX5nJ"
      },
      "outputs": [],
      "source": [
        "# droping fnlwgt feature since it has no such significance for salary.\n",
        "cloned_raw_data = cloned_raw_data.drop(['fnlwgt'], axis=1) "
      ]
    },
    {
      "cell_type": "code",
      "execution_count": 29,
      "metadata": {
        "id": "7hk1Dci4YJ3r"
      },
      "outputs": [],
      "source": [
        "# Dropping the salary values\n",
        "x = cloned_raw_data.drop(['salary'], axis=1)"
      ]
    },
    {
      "cell_type": "code",
      "execution_count": 30,
      "metadata": {
        "id": "yUmtZRYZYJ6A"
      },
      "outputs": [],
      "source": [
        "# We are converting the target variable salary into numeric(binary)  \n",
        "cloned_raw_data.salary = cloned_raw_data.salary.replace([' <=50K', ' >50K'],[0,1])"
      ]
    },
    {
      "cell_type": "code",
      "execution_count": 31,
      "metadata": {
        "colab": {
          "base_uri": "https://localhost:8080/"
        },
        "id": "-gcFnfnjYJ8M",
        "outputId": "9ec61135-a3c4-4860-f439-8179ac26c4b6"
      },
      "outputs": [
        {
          "data": {
            "text/plain": [
              "['age',\n",
              " 'education-no. of years',\n",
              " 'capital gain',\n",
              " 'capital loss',\n",
              " 'working hours per week']"
            ]
          },
          "execution_count": 31,
          "metadata": {},
          "output_type": "execute_result"
        }
      ],
      "source": [
        "# extracting only features with dtype object poping them.\n",
        "numeric_col_feature = list(cloned_raw_data.select_dtypes(exclude='object').columns)\n",
        "numeric_col_feature.pop()\n",
        "numeric_col_feature"
      ]
    },
    {
      "cell_type": "code",
      "execution_count": 32,
      "metadata": {
        "id": "pve_wFikYJ-e"
      },
      "outputs": [],
      "source": [
        "# Converting categorical variable into dummy/indicator variables.\n",
        "x = pd.get_dummies(x)"
      ]
    },
    {
      "cell_type": "code",
      "execution_count": 33,
      "metadata": {
        "id": "x0OIBs4jYKBB"
      },
      "outputs": [],
      "source": [
        "# scaling to unit variance\n",
        "scaled_unit_value = StandardScaler()\n",
        "x[numeric_col_feature] = scaled_unit_value.fit_transform(x[numeric_col_feature])"
      ]
    },
    {
      "cell_type": "code",
      "execution_count": 34,
      "metadata": {
        "id": "6ESS9ZUxYKDJ"
      },
      "outputs": [],
      "source": [
        "# assigning target variable as y\n",
        "y = cloned_raw_data.salary"
      ]
    },
    {
      "cell_type": "code",
      "execution_count": 35,
      "metadata": {
        "id": "6-4UXWWVYKIU"
      },
      "outputs": [],
      "source": [
        "# splitting train test data.\n",
        "x_train,x_test,y_trian,y_test=train_test_split(x,y,random_state=89,test_size=0.3)"
      ]
    },
    {
      "cell_type": "markdown",
      "metadata": {
        "id": "0R34bXL6rrnT"
      },
      "source": [
        "### Logistic Regression Model Implementation\n",
        " "
      ]
    },
    {
      "cell_type": "code",
      "execution_count": 36,
      "metadata": {
        "id": "Rr0Xr4VIYKKs"
      },
      "outputs": [],
      "source": [
        "Model_LR = LogisticRegression()"
      ]
    },
    {
      "cell_type": "code",
      "execution_count": 37,
      "metadata": {
        "colab": {
          "base_uri": "https://localhost:8080/"
        },
        "id": "evaQrcNWYKO4",
        "outputId": "d0086cd4-693b-4573-dcf7-bd0b6d08c899"
      },
      "outputs": [
        {
          "data": {
            "text/plain": [
              "LogisticRegression()"
            ]
          },
          "execution_count": 37,
          "metadata": {},
          "output_type": "execute_result"
        }
      ],
      "source": [
        "Model_LR.fit(x_train,y_trian)"
      ]
    },
    {
      "cell_type": "code",
      "execution_count": 38,
      "metadata": {
        "id": "y8eWvwdwYKTR"
      },
      "outputs": [],
      "source": [
        "y_predict_LR = Model_LR.predict(x_test)"
      ]
    },
    {
      "cell_type": "code",
      "execution_count": 39,
      "metadata": {
        "colab": {
          "base_uri": "https://localhost:8080/"
        },
        "id": "Ih9XubdGYKWg",
        "outputId": "e0f24d2c-5d61-464e-9c81-34aefc6355f8"
      },
      "outputs": [
        {
          "name": "stdout",
          "output_type": "stream",
          "text": [
            "Accuracy of the Model Logistic Regression :  84.67 %\n"
          ]
        }
      ],
      "source": [
        "score = accuracy_score(y_test, y_predict_LR)\n",
        "print(\"Accuracy of the Model Logistic Regression : \", round(score * 100, 2), \"%\")"
      ]
    },
    {
      "cell_type": "code",
      "execution_count": 40,
      "metadata": {
        "colab": {
          "base_uri": "https://localhost:8080/",
          "height": 293
        },
        "id": "UcZot3EIc_hc",
        "outputId": "6956729d-5968-4c0f-914c-1fae41b8bde2"
      },
      "outputs": [
        {
          "data": {
            "text/plain": [
              "<sklearn.metrics._plot.roc_curve.RocCurveDisplay at 0x7f8b108d09d0>"
            ]
          },
          "execution_count": 40,
          "metadata": {},
          "output_type": "execute_result"
        },
        {
          "data": {
            "image/png": "[encoded data removed]",
            "text/plain": [
              "<Figure size 432x288 with 1 Axes>"
            ]
          },
          "metadata": {},
          "output_type": "display_data"
        }
      ],
      "source": [
        "# plotting roc curve for Linear Regression model.\n",
        "plot_roc_curve(Model_LR, x_test, y_predict_LR)"
      ]
    },
    {
      "cell_type": "code",
      "execution_count": 41,
      "metadata": {
        "colab": {
          "base_uri": "https://localhost:8080/",
          "height": 308
        },
        "id": "ee88LUfOYKZ4",
        "outputId": "edb1e5eb-5dbe-41c9-8db6-0596f9aef55a"
      },
      "outputs": [
        {
          "data": {
            "text/plain": [
              "<matplotlib.legend.Legend at 0x7f8b0d9125d0>"
            ]
          },
          "execution_count": 41,
          "metadata": {},
          "output_type": "execute_result"
        },
        {
          "data": {
            "image/png": "[encoded data removed]",
            "text/plain": [
              "<Figure size 432x288 with 1 Axes>"
            ]
          },
          "metadata": {},
          "output_type": "display_data"
        }
      ],
      "source": [
        "ax=sns.distplot(y_test, \n",
        "                hist=False,\n",
        "                label='Actual Values')\n",
        "ax=sns.distplot(y_predict_LR, \n",
        "                hist=False,\n",
        "                label='Predicted Values')\n",
        "ax.set_title('Logistic Regression', fontweight='bold')\n",
        "plt.legend()"
      ]
    },
    {
      "cell_type": "markdown",
      "metadata": {
        "id": "7dij0MFY1vw5"
      },
      "source": [
        "Observations:\n",
        "1. We can see that there is no much difference in actual values and predicted values by the model Logisitc Regression."
      ]
    },
    {
      "cell_type": "code",
      "execution_count": 42,
      "metadata": {
        "colab": {
          "base_uri": "https://localhost:8080/",
          "height": 279
        },
        "id": "PAy6_jPKYKgj",
        "outputId": "2b28703c-b380-4914-d7fe-bc450247dac5"
      },
      "outputs": [
        {
          "data": {
            "text/plain": [
              "<matplotlib.axes._subplots.AxesSubplot at 0x7f8b0d3a1290>"
            ]
          },
          "execution_count": 42,
          "metadata": {},
          "output_type": "execute_result"
        },
        {
          "data": {
            "image/png": "[encoded data removed]",
            "text/plain": [
              "<Figure size 432x288 with 2 Axes>"
            ]
          },
          "metadata": {},
          "output_type": "display_data"
        }
      ],
      "source": [
        "sns.heatmap(confusion_matrix(y_test,\n",
        "                             y_predict_LR),\n",
        "            annot=True,\n",
        "            cmap='Greens',fmt='g')"
      ]
    },
    {
      "cell_type": "markdown",
      "metadata": {
        "id": "W7Km8l6YuwUP"
      },
      "source": [
        "### SVM Model Implementation"
      ]
    },
    {
      "cell_type": "code",
      "execution_count": 43,
      "metadata": {
        "id": "Aaqyeu66Y7Yc"
      },
      "outputs": [],
      "source": [
        "Model_SVC = SVC()"
      ]
    },
    {
      "cell_type": "code",
      "execution_count": 44,
      "metadata": {
        "colab": {
          "base_uri": "https://localhost:8080/"
        },
        "id": "RXKC1xueY7ac",
        "outputId": "f793fbfe-7659-4619-bab7-16a01909864e"
      },
      "outputs": [
        {
          "data": {
            "text/plain": [
              "0.8534138601699253"
            ]
          },
          "execution_count": 44,
          "metadata": {},
          "output_type": "execute_result"
        }
      ],
      "source": [
        "Model_SVC.fit(x_train,y_trian)\n",
        "Model_SVC.score(x_test,y_test)"
      ]
    },
    {
      "cell_type": "code",
      "execution_count": 45,
      "metadata": {
        "id": "L8RYZyEiY7cI"
      },
      "outputs": [],
      "source": [
        "y_predic_SVC = Model_SVC.predict(x_test)"
      ]
    },
    {
      "cell_type": "code",
      "execution_count": 46,
      "metadata": {
        "colab": {
          "base_uri": "https://localhost:8080/"
        },
        "id": "m4wHtYW7Y7eB",
        "outputId": "4bc89fd4-b1f1-4cee-b740-59161fe8c075"
      },
      "outputs": [
        {
          "data": {
            "text/plain": [
              "0.8534138601699253"
            ]
          },
          "execution_count": 46,
          "metadata": {},
          "output_type": "execute_result"
        }
      ],
      "source": [
        "accuracy_score(y_test, y_predic_SVC)"
      ]
    },
    {
      "cell_type": "code",
      "execution_count": 47,
      "metadata": {
        "colab": {
          "base_uri": "https://localhost:8080/",
          "height": 293
        },
        "id": "rQkPf2LkZo18",
        "outputId": "04d92c66-6128-47ab-ebc4-6d487ce7639b"
      },
      "outputs": [
        {
          "data": {
            "text/plain": [
              "<sklearn.metrics._plot.roc_curve.RocCurveDisplay at 0x7f8b0ca1c590>"
            ]
          },
          "execution_count": 47,
          "metadata": {},
          "output_type": "execute_result"
        },
        {
          "data": {
            "image/png": "[encoded data removed]",
            "text/plain": [
              "<Figure size 432x288 with 1 Axes>"
            ]
          },
          "metadata": {},
          "output_type": "display_data"
        }
      ],
      "source": [
        "plot_roc_curve(Model_SVC, x_test, y_predic_SVC)"
      ]
    },
    {
      "cell_type": "code",
      "execution_count": 48,
      "metadata": {
        "colab": {
          "base_uri": "https://localhost:8080/",
          "height": 308
        },
        "id": "qA-VvILDY7h5",
        "outputId": "469da3fe-bc2e-4200-da16-a8f3ef66aeca"
      },
      "outputs": [
        {
          "data": {
            "text/plain": [
              "<matplotlib.legend.Legend at 0x7f8b0c9a8fd0>"
            ]
          },
          "execution_count": 48,
          "metadata": {},
          "output_type": "execute_result"
        },
        {
          "data": {
            "image/png": "[encoded data removed]",
            "text/plain": [
              "<Figure size 432x288 with 1 Axes>"
            ]
          },
          "metadata": {},
          "output_type": "display_data"
        }
      ],
      "source": [
        "ax=sns.distplot(y_test,\n",
        "                hist=False,\n",
        "                label='Actual Values')\n",
        "ax=sns.distplot(y_predic_SVC,\n",
        "                hist=False,\n",
        "                label='Predicted Values')\n",
        "ax.set_title('Support Vector Classifier - (SVM)',fontweight='bold')\n",
        "plt.legend()"
      ]
    },
    {
      "cell_type": "markdown",
      "metadata": {
        "id": "kh4As77V1_Ap"
      },
      "source": [
        "Observations:\n",
        "1. We can see that there is no much difference in actual values and predicted values by the model SVC."
      ]
    },
    {
      "cell_type": "code",
      "execution_count": 49,
      "metadata": {
        "colab": {
          "base_uri": "https://localhost:8080/",
          "height": 279
        },
        "id": "mFT1YuPRY7l5",
        "outputId": "1d3da747-76b8-4333-dc91-18ba4ee059fe"
      },
      "outputs": [
        {
          "data": {
            "text/plain": [
              "<matplotlib.axes._subplots.AxesSubplot at 0x7f8b0c8ae810>"
            ]
          },
          "execution_count": 49,
          "metadata": {},
          "output_type": "execute_result"
        },
        {
          "data": {
            "image/png": "[encoded data removed]",
            "text/plain": [
              "<Figure size 432x288 with 2 Axes>"
            ]
          },
          "metadata": {},
          "output_type": "display_data"
        }
      ],
      "source": [
        "# confusion matrix for SVC.\n",
        "sns.heatmap(confusion_matrix(y_test,y_predic_SVC), \n",
        "            annot = True, \n",
        "            cmap = 'Greens',\n",
        "            fmt='g')"
      ]
    },
    {
      "cell_type": "markdown",
      "metadata": {
        "id": "sAyFenOrZc4E"
      },
      "source": [
        "# Conclusion\n",
        "\n",
        "We observed following scores:\n",
        "\n",
        "1st Observation:\n",
        "- Logistic Regression - 81 %\n",
        "- SVC - 74 %\n",
        "\n",
        "2nd Observation:\n",
        "- Logistic Regression - 84 %\n",
        "- SVC - 85 %\n",
        "\n",
        "1. Age is the most important factor that has most effect on salary.\n",
        "\n",
        "Even though ROC curve for both logistic Regression and SVC is same the accuracy score and as seen in confusion matrix SVC has better performance.\n",
        "\n",
        "2. As we have seen that the accuracy score by SVC is more than 1% better than Logistic Regression, We suggest to use SVC over logistic Regression for further prediction.\n",
        "\n",
        "3. We tried to use both models SVC and Logistic Regression for the dataset by removing the unknown features and extending features.\n",
        "\n"
      ]
    },
    {
      "cell_type": "markdown",
      "metadata": {
        "id": "PKCw6Zr5R8yf"
      },
      "source": [
        "## REFERENCES\n",
        "1. kaggle.com. (n.d.). Adult Income Dataset | From Scratch. [online] Available at: https://www.kaggle.com/code/aditimulye/adult-income-dataset-from-scratch [Accessed 28 Oct. 2022].\n",
        "\n",
        "2. kaggle.com. (n.d.). Income Classification Model. [online] Available at: https://www.kaggle.com/code/jieyima/income-classification-model.\n",
        "‌\n",
        "‌3. kaggle.com. (n.d.). SVM model for adult income. [online] Available at: https://www.kaggle.com/code/yatindeshpande/svm-model-for-adult-income [Accessed 27 Oct. 2022].\n",
        "‌\n",
        "4. kaggle.com. (n.d.). KNN and Logistic Regression. [online] Available at: https://www.kaggle.com/code/vaishnavi28krishna/knn-and-logistic-regression [Accessed 30 Oct. 2022].\n",
        "‌\n",
        "5. kaggle.com. (n.d.). 85% Accuracy using Random Forest, SVM and KNN. [online] Available at: https://www.kaggle.com/code/abdulhaq786/85-accuracy-using-random-forest-svm-and-knn#Feature-Selection [Accessed 31 Oct. 2022].\n",
        "‌"
      ]
    }
  ],
  "metadata": {
    "colab": {
      "collapsed_sections": [],
      "provenance": []
    },
    "kernelspec": {
      "display_name": "Python 3",
      "name": "python3"
    },
    "language_info": {
      "name": "python"
    }
  },
  "nbformat": 4,
  "nbformat_minor": 0
}
